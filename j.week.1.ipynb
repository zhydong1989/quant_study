{
 "cells": [
  {
   "cell_type": "code",
   "execution_count": 2,
   "metadata": {},
   "outputs": [],
   "source": [
    "HEAD_PATH = \"d:/intern\""
   ]
  },
  {
   "cell_type": "markdown",
   "metadata": {},
   "source": [
    "- path of data"
   ]
  },
  {
   "cell_type": "markdown",
   "metadata": {},
   "source": [
    "- Welcome to Quantitative and High Frequency Trading Training Program\n",
    "- Let's start with basic data analysis with python\n",
    "- you can use Shift+Enter to run each line of code\n",
    "\n",
    "- path of our program"
   ]
  },
  {
   "cell_type": "code",
   "execution_count": 3,
   "metadata": {},
   "outputs": [],
   "source": [
    "DATA_PATH = HEAD_PATH + \"/pkl tick/\""
   ]
  },
  {
   "cell_type": "markdown",
   "metadata": {},
   "source": [
    "- set working directory"
   ]
  },
  {
   "cell_type": "code",
   "execution_count": 4,
   "metadata": {},
   "outputs": [],
   "source": [
    "import os\n",
    "os.chdir(DATA_PATH)"
   ]
  },
  {
   "cell_type": "markdown",
   "metadata": {},
   "source": [
    "- number of cores"
   ]
  },
  {
   "cell_type": "code",
   "execution_count": 5,
   "metadata": {},
   "outputs": [],
   "source": [
    "CORE_NUM=16"
   ]
  },
  {
   "cell_type": "markdown",
   "metadata": {},
   "source": [
    "- get working directory"
   ]
  },
  {
   "cell_type": "code",
   "execution_count": 6,
   "metadata": {},
   "outputs": [
    {
     "data": {
      "text/plain": [
       "'d:\\\\intern\\\\pkl tick'"
      ]
     },
     "execution_count": 6,
     "metadata": {},
     "output_type": "execute_result"
    }
   ],
   "source": [
    "os.getcwd()"
   ]
  },
  {
   "cell_type": "markdown",
   "metadata": {},
   "source": [
    "- sample product, you can change to your specific product symbol"
   ]
  },
  {
   "cell_type": "code",
   "execution_count": 7,
   "metadata": {},
   "outputs": [],
   "source": [
    "product = \"j\""
   ]
  },
  {
   "cell_type": "markdown",
   "metadata": {},
   "source": [
    "- directory of the product's data"
   ]
  },
  {
   "cell_type": "code",
   "execution_count": 8,
   "metadata": {},
   "outputs": [
    {
     "data": {
      "text/plain": [
       "'d:/intern/pkl tick/j'"
      ]
     },
     "execution_count": 8,
     "metadata": {},
     "output_type": "execute_result"
    }
   ],
   "source": [
    "dire = DATA_PATH + product\n",
    "dire"
   ]
  },
  {
   "cell_type": "markdown",
   "metadata": {},
   "source": [
    "- get all available data"
   ]
  },
  {
   "cell_type": "code",
   "execution_count": 16,
   "metadata": {},
   "outputs": [
    {
     "data": {
      "text/plain": [
       "733"
      ]
     },
     "execution_count": 16,
     "metadata": {},
     "output_type": "execute_result"
    }
   ],
   "source": [
    "all_dates = list(map(lambda x: x,os.listdir(DATA_PATH + product)))\n",
    "len(all_dates)\n",
    "## 733"
   ]
  },
  {
   "cell_type": "markdown",
   "metadata": {},
   "source": [
    "- get first several dates"
   ]
  },
  {
   "cell_type": "code",
   "execution_count": 17,
   "metadata": {},
   "outputs": [
    {
     "data": {
      "text/plain": [
       "['20151201.pkl',\n",
       " '20151202.pkl',\n",
       " '20151203.pkl',\n",
       " '20151204.pkl',\n",
       " '20151207.pkl',\n",
       " '20151208.pkl']"
      ]
     },
     "execution_count": 17,
     "metadata": {},
     "output_type": "execute_result"
    }
   ],
   "source": [
    "all_dates[:6]\n",
    "#['20151201.pkl',\n",
    "# '20151202.pkl',\n",
    "# '20151203.pkl',\n",
    "# '20151204.pkl',\n",
    "# '20151207.pkl',\n",
    "# '20151208.pkl']\n"
   ]
  },
  {
   "cell_type": "markdown",
   "metadata": {},
   "source": [
    "- get last several dates"
   ]
  },
  {
   "cell_type": "code",
   "execution_count": 18,
   "metadata": {
    "scrolled": false
   },
   "outputs": [
    {
     "data": {
      "text/plain": [
       "['20181126.pkl',\n",
       " '20181127.pkl',\n",
       " '20181128.pkl',\n",
       " '20181129.pkl',\n",
       " '20181130.pkl',\n",
       " '20181203.pkl']"
      ]
     },
     "execution_count": 18,
     "metadata": {},
     "output_type": "execute_result"
    }
   ],
   "source": [
    "all_dates[-6:]\n",
    "#['20181126.pkl',\n",
    "# '20181127.pkl',\n",
    "# '20181128.pkl',\n",
    "# '20181129.pkl',\n",
    "# '20181130.pkl',\n",
    "# '20181203.pkl']"
   ]
  },
  {
   "cell_type": "markdown",
   "metadata": {},
   "source": [
    "- specify a date"
   ]
  },
  {
   "cell_type": "code",
   "execution_count": 20,
   "metadata": {},
   "outputs": [],
   "source": [
    "date = \"20180411\""
   ]
  },
  {
   "cell_type": "markdown",
   "metadata": {},
   "source": [
    "- loading data set"
   ]
  },
  {
   "cell_type": "code",
   "execution_count": 21,
   "metadata": {},
   "outputs": [],
   "source": [
    "import pandas as pd\n",
    "import numpy as np\n",
    "import math\n",
    "import _pickle as cPickle\n",
    "import gzip\n",
    "\n",
    "with gzip.open(dire+\"/\"+date+\".pkl\", 'rb', compresslevel=1) as file_object:\n",
    "    raw_data = file_object.read()\n",
    "data = cPickle.loads(raw_data)"
   ]
  },
  {
   "cell_type": "markdown",
   "metadata": {},
   "source": [
    "- get the column names of data"
   ]
  },
  {
   "cell_type": "code",
   "execution_count": 22,
   "metadata": {},
   "outputs": [
    {
     "data": {
      "text/plain": [
       "Index(['market', 'contract', 'date.time', 'price', 'cum.open.int', 'open.int',\n",
       "       'turnover', 'qty', 'open.symbol', 'close.symbol', 'type', 'dire', 'bid',\n",
       "       'ask', 'bid.qty', 'ask.qty', 'date', 'time', 'milli', 'mid.price',\n",
       "       'buy.trade', 'buy2.trade', 'sell.trade', 'sell2.trade', 'log.price',\n",
       "       'ret', 'wpr', 'wpr.ret', 'next.bid', 'next.ask'],\n",
       "      dtype='object')"
      ]
     },
     "execution_count": 22,
     "metadata": {},
     "output_type": "execute_result"
    }
   ],
   "source": [
    "data.columns\n",
    "## contract: contract name, product+expiration date\n",
    "## date.time: date and time\n",
    "## price: newest price of data\n",
    "## cum.open.int: cumulative open interest\n",
    "## open.int: newest open interest increment\n",
    "## turnover: newest turnover increment\n",
    "## qty: newest trading volume\n",
    "## bid: bid price\n",
    "## ask: ask price\n",
    "## bid.qty: bid size\n",
    "## ask.qty: ask size\n",
    "## date: actual date\n",
    "## time: acutal time\n",
    "## milli: actual milli second\n",
    "## mid.price: middle price of bid and ask\n",
    "## buy.trade: active buy volume at level 1\n",
    "## buy2.trade: active buy volume at other levels\n",
    "## sell.trade: active sell volume at level 1\n",
    "## sell2.trade: active sell volume at other levels\n",
    "## log.price: log wpr (to be defined soon)\n",
    "## ret: log return of last tick\n",
    "## wpr: volume weighted price\n",
    "## wpr.ret: price change of wpr\n",
    "## min.1024: minimum wpr of last 1024 ticks\n",
    "## max.1024: maximum wpr of last 1024 ticks\n",
    "## high: highest price of last ask, last price, and this ask\n",
    "## low: lowest price of last bid, last price, and thsi bid\n",
    "## min.2048: minimum wpr of last 2048 ticks\n",
    "## max.2048: maximum wpr of last 2048 ticks\n",
    "## min.4096: minimum wpr of last 4096 ticks\n",
    "## max.4096: maximum wpr of last 4096 ticks\n",
    "## next.bid: estimated active sell price, used for backtesting\n",
    "## next.ask: estimated active buy price, used for backtesting\n",
    "\n",
    "## Q：关于这个数据的每个 column 的含义，能否介绍一下？一些缩写我不太了解什么含义？\n",
    "## A：各名称含义如下：\n",
    "## contract: 合约的名字，如 rb1605，表示螺纹钢合约，2016 年 5 月到期；\n",
    "## date.time: 日期和时间合在一起，方便作图用；\n",
    "## price: 最新的成交价；\n",
    "## cum.open.int: 总的持仓量；\n",
    "## open.int: 最新的持仓量改变量\n",
    "## turnover: 最新的成交额；\n",
    "## qty: 最新的成交量；\n",
    "## bid: 买一价；\n",
    "## ask: 卖一价；\n",
    "## bid.qty: 买一量；\n",
    "## ask.qty: 卖一量；\n",
    "## date: 实际日期；\n",
    "## time: 实际时间；\n",
    "## milli: 毫秒数（上期所与中金所是 0、500，大商所随机，郑商所是 0）；\n",
    "## mid.price: 买一和卖一的中间价；\n",
    "## buy.trade: 一档主动买量（估算，非交易所提供）；\n",
    "## buy2.trade: 其他价位主动买量（估算，非交易所提供）；\n",
    "## sell.trade: 一档主动卖量（估算，非交易所提供）；\n",
    "## sell2.trade: 其他价位主动买量（估算，非交易所提供）；\n",
    "## log.price: wpr 的对数（wpr 下面定义）；\n",
    "## ret: 最新一笔行情的对数收益率；\n",
    "## wpr: 挂单量加权平均价；\n",
    "## wpr.ret: wpr 的价格变化；\n",
    "## min.1024: 过去 1024 笔行情的 wpr 最小值\n",
    "## max.1024: 过去 1024 笔行情的 wpr 最大值；\n",
    "## high: 当前 ask、前一个 ask、最新价的最高价（构造最小级别 K 线用）；\n",
    "## low: 当前 bid、前一个 bid、最新价的最低价（狗仔最小级别 K 线用）；\n",
    "## min.2048: 过去 2048 笔行情的 wpr 最小值；\n",
    "## max.2048: 过去 2048 笔行情的 wpr 最大值；\n",
    "## min.4096: 过去 4096 笔行情的 wpr 最小值；\n",
    "## max.4096: 过去 4096 笔行情的 wpr 最大值；\n",
    "## next.bid: 主动卖单的成交价（估算，非交易所提供），用于回测；\n",
    "## next.ask: 主动买单的成交价（估算，非交易所提供），用于回测；"
   ]
  },
  {
   "cell_type": "markdown",
   "metadata": {},
   "source": [
    "- plot the price"
   ]
  },
  {
   "cell_type": "code",
   "execution_count": 23,
   "metadata": {},
   "outputs": [],
   "source": [
    "# pip install plotly\n",
    "import matplotlib.pyplot as plt\n",
    "\n",
    "plt.figure(1, figsize=(16, 10))\n",
    "plt.plot(data[\"price\"].values);"
   ]
  },
  {
   "cell_type": "markdown",
   "metadata": {},
   "source": [
    "- specific a range of price"
   ]
  },
  {
   "cell_type": "code",
   "execution_count": 24,
   "metadata": {},
   "outputs": [],
   "source": [
    "range_ = (data[\"time\"] >=\"09:00:00\") & (data[\"time\"]<\"15:00:01\")"
   ]
  },
  {
   "cell_type": "code",
   "execution_count": 25,
   "metadata": {},
   "outputs": [
    {
     "data": {
      "image/png": "[encoded data removed]",
      "text/plain": [
       "<Figure size 1152x720 with 1 Axes>"
      ]
     },
     "metadata": {
      "needs_background": "light"
     },
     "output_type": "display_data"
    }
   ],
   "source": [
    "plt.figure(1, figsize=(16, 10))\n",
    "plt.title(date)\n",
    "plt.plot(data[\"price\"][range_].values);"
   ]
  },
  {
   "cell_type": "markdown",
   "metadata": {},
   "source": [
    "- add time"
   ]
  },
  {
   "cell_type": "code",
   "execution_count": 26,
   "metadata": {},
   "outputs": [
    {
     "data": {
      "image/png": "[encoded data removed]",
      "text/plain": [
       "<Figure size 1152x720 with 1 Axes>"
      ]
     },
     "metadata": {
      "needs_background": "light"
     },
     "output_type": "display_data"
    }
   ],
   "source": [
    "plt.figure(1, figsize=(16, 10))\n",
    "plt.title(\"morning\")\n",
    "plt.xlabel(\"time\")\n",
    "plt.ylabel(\"weighted price\")\n",
    "plt.plot(data.index[range_].values, data[\"wpr\"][range_].values);\n",
    "## there is a break between 11:30 and 13:30"
   ]
  },
  {
   "cell_type": "markdown",
   "metadata": {},
   "source": [
    "- plot price change"
   ]
  },
  {
   "cell_type": "code",
   "execution_count": 27,
   "metadata": {},
   "outputs": [
    {
     "data": {
      "image/png": "[encoded data removed]",
      "text/plain": [
       "<Figure size 1152x720 with 1 Axes>"
      ]
     },
     "metadata": {
      "needs_background": "light"
     },
     "output_type": "display_data"
    }
   ],
   "source": [
    "plt.figure(1, figsize=(16, 10))\n",
    "plt.title(date)\n",
    "data[\"wpr.ret\"].values[0]=0\n",
    "plt.plot(data[\"wpr.ret\"].values);"
   ]
  },
  {
   "cell_type": "markdown",
   "metadata": {},
   "source": [
    "- plot price log return"
   ]
  },
  {
   "cell_type": "code",
   "execution_count": 28,
   "metadata": {},
   "outputs": [
    {
     "data": {
      "image/png": "[encoded data removed]",
      "text/plain": [
       "<Figure size 1152x720 with 1 Axes>"
      ]
     },
     "metadata": {
      "needs_background": "light"
     },
     "output_type": "display_data"
    }
   ],
   "source": [
    "plt.figure(1, figsize=(16, 10))\n",
    "plt.title(date)\n",
    "data[\"ret\"].values[0]=0\n",
    "plt.plot(data[\"ret\"].values);"
   ]
  },
  {
   "cell_type": "markdown",
   "metadata": {},
   "source": [
    "- count the number of rising ticks"
   ]
  },
  {
   "cell_type": "code",
   "execution_count": 29,
   "metadata": {},
   "outputs": [
    {
     "data": {
      "text/plain": [
       "17917"
      ]
     },
     "execution_count": 29,
     "metadata": {},
     "output_type": "execute_result"
    }
   ],
   "source": [
    "sum(data['ret']>0)\n",
    "## 17917"
   ]
  },
  {
   "cell_type": "markdown",
   "metadata": {},
   "source": [
    "- count the number of falling ticks"
   ]
  },
  {
   "cell_type": "code",
   "execution_count": 32,
   "metadata": {},
   "outputs": [
    {
     "data": {
      "text/plain": [
       "17997"
      ]
     },
     "execution_count": 32,
     "metadata": {},
     "output_type": "execute_result"
    }
   ],
   "source": [
    "sum(data['ret']<0)\n",
    "## 17997"
   ]
  },
  {
   "cell_type": "markdown",
   "metadata": {},
   "source": [
    "- count the number of total ticks"
   ]
  },
  {
   "cell_type": "code",
   "execution_count": 34,
   "metadata": {},
   "outputs": [
    {
     "data": {
      "text/plain": [
       "36973"
      ]
     },
     "execution_count": 34,
     "metadata": {},
     "output_type": "execute_result"
    }
   ],
   "source": [
    "len(data)\n",
    "## 36973"
   ]
  },
  {
   "cell_type": "markdown",
   "metadata": {},
   "source": [
    "- formula to calculate wpr:"
   ]
  },
  {
   "cell_type": "code",
   "execution_count": 35,
   "metadata": {},
   "outputs": [],
   "source": [
    "wpr = (data[\"bid\"]*data[\"ask.qty\"]+data[\"ask\"]*data[\"bid.qty\"])/(data[\"bid.qty\"]+data[\"ask.qty\"])"
   ]
  },
  {
   "cell_type": "markdown",
   "metadata": {},
   "source": [
    "- upper limit or lower limit"
   ]
  },
  {
   "cell_type": "code",
   "execution_count": 36,
   "metadata": {},
   "outputs": [],
   "source": [
    "limit = (data[\"ask.qty\"]==0) | (data[\"bid.qty\"]==0)"
   ]
  },
  {
   "cell_type": "markdown",
   "metadata": {},
   "source": [
    "- in this case, one of bid and ask price is zero, so using newest price as wpr"
   ]
  },
  {
   "cell_type": "code",
   "execution_count": 37,
   "metadata": {},
   "outputs": [],
   "source": [
    "wpr[limit] = data[\"price\"][limit]"
   ]
  },
  {
   "cell_type": "code",
   "execution_count": 38,
   "metadata": {},
   "outputs": [
    {
     "data": {
      "text/plain": [
       "0    1791.300000\n",
       "1    1791.833333\n",
       "2    1791.200000\n",
       "3    1791.666667\n",
       "4    1790.947368\n",
       "dtype: float64"
      ]
     },
     "execution_count": 38,
     "metadata": {},
     "output_type": "execute_result"
    }
   ],
   "source": [
    "wpr.head()\n",
    "#0    1791.300000\n",
    "#1    1791.833333\n",
    "#2    1791.200000\n",
    "#3    1791.666667\n",
    "#4    1790.947368\n",
    "#dtype: float64"
   ]
  },
  {
   "cell_type": "code",
   "execution_count": 39,
   "metadata": {
    "scrolled": true
   },
   "outputs": [
    {
     "data": {
      "text/plain": [
       "0    1791.300000\n",
       "1    1791.833333\n",
       "2    1791.200000\n",
       "3    1791.666667\n",
       "4    1790.947368\n",
       "Name: wpr, dtype: float64"
      ]
     },
     "execution_count": 39,
     "metadata": {},
     "output_type": "execute_result"
    }
   ],
   "source": [
    "data[\"wpr\"].head()\n",
    "#0    1791.300000\n",
    "#1    1791.833333\n",
    "#2    1791.200000\n",
    "#3    1791.666667\n",
    "#4    1790.947368\n",
    "#Name: wpr, dtype: float64"
   ]
  },
  {
   "cell_type": "code",
   "execution_count": 40,
   "metadata": {},
   "outputs": [
    {
     "data": {
      "text/plain": [
       "0"
      ]
     },
     "execution_count": 40,
     "metadata": {},
     "output_type": "execute_result"
    }
   ],
   "source": [
    "sum(abs(wpr - data[\"wpr\"]) > 0.00000001)\n",
    "## 0"
   ]
  },
  {
   "cell_type": "markdown",
   "metadata": {},
   "source": [
    "- Question 1: why using wpr rather than other prices? Such as newest price, or mid-price of bid and ask?\n",
    "\n",
    "\n",
    "- testing: use mid price rather than wpr"
   ]
  },
  {
   "cell_type": "markdown",
   "metadata": {
    "collapsed": true
   },
   "source": [
    "- mid-price is the average of ask and bid"
   ]
  },
  {
   "cell_type": "code",
   "execution_count": 41,
   "metadata": {},
   "outputs": [],
   "source": [
    "mid_price = (data[\"ask\"]+data[\"bid\"])/2"
   ]
  },
  {
   "cell_type": "markdown",
   "metadata": {
    "collapsed": true
   },
   "source": [
    "- special case for upper limit and lower limit"
   ]
  },
  {
   "cell_type": "code",
   "execution_count": 45,
   "metadata": {},
   "outputs": [],
   "source": [
    "mid_price[limit] = data[\"price\"][limit]"
   ]
  },
  {
   "cell_type": "markdown",
   "metadata": {},
   "source": [
    "- mid price change"
   ]
  },
  {
   "cell_type": "code",
   "execution_count": 46,
   "metadata": {},
   "outputs": [],
   "source": [
    "mid_change = mid_price - mid_price.shift(1)\n",
    "mid_change[0] = 0"
   ]
  },
  {
   "cell_type": "markdown",
   "metadata": {},
   "source": [
    "- count the number of rising ticks"
   ]
  },
  {
   "cell_type": "code",
   "execution_count": 47,
   "metadata": {},
   "outputs": [
    {
     "data": {
      "text/plain": [
       "4982"
      ]
     },
     "execution_count": 47,
     "metadata": {},
     "output_type": "execute_result"
    }
   ],
   "source": [
    "sum(mid_change>0)\n",
    "## 4982"
   ]
  },
  {
   "cell_type": "markdown",
   "metadata": {},
   "source": [
    "- count the number of falling ticks"
   ]
  },
  {
   "cell_type": "code",
   "execution_count": 49,
   "metadata": {},
   "outputs": [
    {
     "data": {
      "text/plain": [
       "5077"
      ]
     },
     "execution_count": 49,
     "metadata": {},
     "output_type": "execute_result"
    }
   ],
   "source": [
    "sum(mid_change<0)\n",
    "## 5077"
   ]
  },
  {
   "cell_type": "markdown",
   "metadata": {},
   "source": [
    "- There are very few price changes if we use mid-price\n",
    "- So wegihted price can catch much more small volatility/price movements\n",
    "- It's ok for medium-low frequency trading by using mid-price\n",
    "- But for high frequency trading, those small volatility cannot be neglected\n",
    "\n",
    "\n",
    "- stationary test for return series"
   ]
  },
  {
   "cell_type": "markdown",
   "metadata": {},
   "source": [
    "- load related package"
   ]
  },
  {
   "cell_type": "code",
   "execution_count": 50,
   "metadata": {},
   "outputs": [],
   "source": [
    "import statsmodels.tsa.stattools as ts"
   ]
  },
  {
   "cell_type": "code",
   "execution_count": 51,
   "metadata": {},
   "outputs": [
    {
     "data": {
      "text/plain": [
       "(-33.72620875175392,\n",
       " 0.0,\n",
       " 33,\n",
       " 36939,\n",
       " {'1%': -3.9590151032700245,\n",
       "  '5%': -3.4106088620334267,\n",
       "  '10%': -3.1271199993576615})"
      ]
     },
     "execution_count": 51,
     "metadata": {},
     "output_type": "execute_result"
    }
   ],
   "source": [
    "result = ts.adfuller(data[\"ret\"], maxlag=int(pow(len(data[\"ret\"])-1,(1/3))), regression='ct', autolag=None)\n",
    "result\n",
    "#(-33.72620875175392,\n",
    "# 0.0,\n",
    "# 33,\n",
    "# 36939,\n",
    "# {'1%': -3.9590151032700245,\n",
    "#  '5%': -3.4106088620334267,\n",
    "#  '10%': -3.1271199993576615})\n",
    "\n",
    "## for this test the smaller the value the more stationary it is\n",
    "## our value is -33.83, less than 1% which is -3.95\n",
    "## so it's stationary"
   ]
  },
  {
   "cell_type": "code",
   "execution_count": 52,
   "metadata": {},
   "outputs": [
    {
     "data": {
      "text/plain": [
       "(0.4518284580166373,\n",
       " 0.05481531982041497,\n",
       " 44,\n",
       " {'10%': 0.347, '5%': 0.463, '2.5%': 0.574, '1%': 0.739})"
      ]
     },
     "execution_count": 52,
     "metadata": {},
     "output_type": "execute_result"
    }
   ],
   "source": [
    "result = ts.kpss(data[\"ret\"], regression='c', lags=int(3*math.sqrt(len(data[\"ret\"]))/13))\n",
    "result\n",
    "\n",
    "#(0.4518284580166373,\n",
    "# 0.05481531982041497,\n",
    "# 44,\n",
    "# {'10%': 0.347, '5%': 0.463, '2.5%': 0.574, '1%': 0.739})\n",
    "\n",
    "    ## for KPSS test, small value means level, stationary, large value means trend\n",
    "    ## the value is 0.45 smaller than 5% 0.463, so it's level stationary"
   ]
  },
  {
   "cell_type": "markdown",
   "metadata": {},
   "source": [
    "- get price movements of 120 ticks, it's about 1 minute"
   ]
  },
  {
   "cell_type": "code",
   "execution_count": 53,
   "metadata": {},
   "outputs": [],
   "source": [
    "ret_120 = (data[\"ret\"].rolling(120).sum()).dropna().reset_index(drop=True)"
   ]
  },
  {
   "cell_type": "markdown",
   "metadata": {},
   "source": [
    "- check correctness"
   ]
  },
  {
   "cell_type": "code",
   "execution_count": 55,
   "metadata": {},
   "outputs": [
    {
     "data": {
      "text/plain": [
       "0.001143765903774958"
      ]
     },
     "execution_count": 55,
     "metadata": {},
     "output_type": "execute_result"
    }
   ],
   "source": [
    "sum(data[\"ret\"][0:120])\n",
    "## [1] 0.001143765903774958"
   ]
  },
  {
   "cell_type": "code",
   "execution_count": 56,
   "metadata": {},
   "outputs": [
    {
     "data": {
      "text/plain": [
       "0.001143765903774958"
      ]
     },
     "execution_count": 56,
     "metadata": {},
     "output_type": "execute_result"
    }
   ],
   "source": [
    "ret_120.iloc[0]\n",
    "## 0.001143765903774958"
   ]
  },
  {
   "cell_type": "markdown",
   "metadata": {},
   "source": [
    "- plot the price movements of 120 ticks"
   ]
  },
  {
   "cell_type": "code",
   "execution_count": 57,
   "metadata": {},
   "outputs": [
    {
     "data": {
      "image/png": "[encoded data removed]",
      "text/plain": [
       "<Figure size 1152x720 with 1 Axes>"
      ]
     },
     "metadata": {
      "needs_background": "light"
     },
     "output_type": "display_data"
    }
   ],
   "source": [
    "plt.figure(1, figsize=(16, 10))\n",
    "plt.title(date)\n",
    "plt.plot(ret_120.values);"
   ]
  },
  {
   "cell_type": "markdown",
   "metadata": {},
   "source": [
    "- test whether ret.120 is stationary"
   ]
  },
  {
   "cell_type": "code",
   "execution_count": 58,
   "metadata": {},
   "outputs": [
    {
     "data": {
      "text/plain": [
       "(-12.811390664439672,\n",
       " 2.403257504608761e-20,\n",
       " 33,\n",
       " 36820,\n",
       " {'1%': -3.9590158954964516,\n",
       "  '5%': -3.4106092462097655,\n",
       "  '10%': -3.127120225600657})"
      ]
     },
     "execution_count": 58,
     "metadata": {},
     "output_type": "execute_result"
    }
   ],
   "source": [
    "result = ts.adfuller(ret_120, maxlag=int(pow(len(ret_120)-1,(1/3))), regression='ct', autolag=None)\n",
    "result\n",
    "\n",
    "#(-12.811390664439672,\n",
    "# 2.403257504608761e-20,\n",
    "# 33,\n",
    "# 36820,\n",
    "# {'1%': -3.9590158954964516,\n",
    "#  '5%': -3.4106092462097655,\n",
    "#  '10%': -3.127120225600657})"
   ]
  },
  {
   "cell_type": "code",
   "execution_count": 59,
   "metadata": {},
   "outputs": [
    {
     "name": "stderr",
     "output_type": "stream",
     "text": [
      "d:\\Anaconda3\\lib\\site-packages\\statsmodels\\tsa\\stattools.py:1276: InterpolationWarning: p-value is smaller than the indicated p-value\n",
      "  warn(\"p-value is smaller than the indicated p-value\", InterpolationWarning)\n"
     ]
    },
    {
     "data": {
      "text/plain": [
       "(1.3534178038142761,\n",
       " 0.01,\n",
       " 44,\n",
       " {'10%': 0.347, '5%': 0.463, '2.5%': 0.574, '1%': 0.739})"
      ]
     },
     "execution_count": 59,
     "metadata": {},
     "output_type": "execute_result"
    }
   ],
   "source": [
    "result = ts.kpss(ret_120, regression='c', lags=int(3*math.sqrt(len(ret_120))/13))\n",
    "result\n",
    "\n",
    "#(1.3534178038142761,\n",
    "# 0.01,\n",
    "# 44,\n",
    "# {'10%': 0.347, '5%': 0.463, '2.5%': 0.574, '1%': 0.739})\n",
    "\n",
    "    ## its value is 1.35, larger then 1% which is 0.739\n",
    "    ## so it's not level stationary"
   ]
  },
  {
   "cell_type": "markdown",
   "metadata": {},
   "source": [
    "- we can check longer period"
   ]
  },
  {
   "cell_type": "code",
   "execution_count": 63,
   "metadata": {},
   "outputs": [],
   "source": [
    "ret_2000 = (data[\"ret\"].rolling(2000).sum()).dropna().reset_index(drop=True)"
   ]
  },
  {
   "cell_type": "markdown",
   "metadata": {},
   "source": [
    "- plot the price change"
   ]
  },
  {
   "cell_type": "code",
   "execution_count": 64,
   "metadata": {},
   "outputs": [
    {
     "data": {
      "image/png": "[encoded data removed]",
      "text/plain": [
       "<Figure size 1152x720 with 1 Axes>"
      ]
     },
     "metadata": {
      "needs_background": "light"
     },
     "output_type": "display_data"
    }
   ],
   "source": [
    "plt.figure(1, figsize=(16, 10))\n",
    "plt.title(date)\n",
    "plt.plot(ret_2000.values);"
   ]
  },
  {
   "cell_type": "code",
   "execution_count": 65,
   "metadata": {},
   "outputs": [
    {
     "data": {
      "text/plain": [
       "(-3.5995059714174116,\n",
       " 0.029887937624332072,\n",
       " 32,\n",
       " 34941,\n",
       " {'1%': -3.9590291200512278,\n",
       "  '5%': -3.4106156592153782,\n",
       "  '10%': -3.127124002242367})"
      ]
     },
     "execution_count": 65,
     "metadata": {},
     "output_type": "execute_result"
    }
   ],
   "source": [
    "result = ts.adfuller(ret_2000, maxlag=int(pow(len(ret_2000)-1,(1/3))), regression='ct', autolag=None)\n",
    "result\n",
    "\n",
    "#(-3.5995059714174116,\n",
    "# 0.029887937624332072,\n",
    "# 32,\n",
    "# 34941,\n",
    "# {'1%': -3.9590291200512278,\n",
    "#  '5%': -3.4106156592153782,\n",
    "#  '10%': -3.127124002242367})\n",
    "\n",
    "## its pvalue is 0.0298,\n",
    "## it's stationary under alpha=0.01\n",
    "## but it's not stationary under alpha=0.05"
   ]
  },
  {
   "cell_type": "code",
   "execution_count": 66,
   "metadata": {},
   "outputs": [
    {
     "name": "stderr",
     "output_type": "stream",
     "text": [
      "d:\\Anaconda3\\lib\\site-packages\\statsmodels\\tsa\\stattools.py:1276: InterpolationWarning: p-value is smaller than the indicated p-value\n",
      "  warn(\"p-value is smaller than the indicated p-value\", InterpolationWarning)\n"
     ]
    },
    {
     "data": {
      "text/plain": [
       "(12.658970370003045,\n",
       " 0.01,\n",
       " 43,\n",
       " {'10%': 0.347, '5%': 0.463, '2.5%': 0.574, '1%': 0.739})"
      ]
     },
     "execution_count": 66,
     "metadata": {},
     "output_type": "execute_result"
    }
   ],
   "source": [
    "result = ts.kpss(ret_2000, regression='c', lags=int(3*math.sqrt(len(ret_2000))/13))\n",
    "result\n",
    "\n",
    "#(12.658970370003045,\n",
    "# 0.01,\n",
    "# 43,\n",
    "# {'10%': 0.347, '5%': 0.463, '2.5%': 0.574, '1%': 0.739})\n",
    "\n",
    "## it's not level stationary under 1%\n",
    "## so it has trend"
   ]
  },
  {
   "cell_type": "markdown",
   "metadata": {},
   "source": [
    "- we can see that, when period is longer the stationarity is weaker\n",
    "- so it's harder to predict longer period\n",
    "- But small period may not have enough volatility to cover transaction cost\n",
    "- So there is a trade-off to select proper prediction period\n",
    "\n",
    "\n",
    "- check simple strategy\n",
    "\n",
    "\n",
    "- set triger threshold"
   ]
  },
  {
   "cell_type": "code",
   "execution_count": 67,
   "metadata": {},
   "outputs": [],
   "source": [
    "threshold = 0.001"
   ]
  },
  {
   "cell_type": "markdown",
   "metadata": {},
   "source": [
    "- make up the return series to match uo with original data"
   ]
  },
  {
   "cell_type": "code",
   "execution_count": 68,
   "metadata": {},
   "outputs": [],
   "source": [
    "ret_2000 = ret_2000.append(pd.Series([0]*(len(data)-len(ret_2000)))).reset_index(drop=True)"
   ]
  },
  {
   "cell_type": "markdown",
   "metadata": {},
   "source": [
    "- plot price series"
   ]
  },
  {
   "cell_type": "code",
   "execution_count": 70,
   "metadata": {},
   "outputs": [
    {
     "data": {
      "image/png": "[encoded data removed]",
      "text/plain": [
       "<Figure size 1152x720 with 1 Axes>"
      ]
     },
     "metadata": {
      "needs_background": "light"
     },
     "output_type": "display_data"
    }
   ],
   "source": [
    "plt.figure(1, figsize=(16, 10))\n",
    "plt.title(date)\n",
    "plt.plot(data[\"wpr\"].values);"
   ]
  },
  {
   "cell_type": "markdown",
   "metadata": {},
   "source": [
    "- number of ticks above the threshold, to be long position"
   ]
  },
  {
   "cell_type": "code",
   "execution_count": 71,
   "metadata": {},
   "outputs": [
    {
     "data": {
      "text/plain": [
       "9119"
      ]
     },
     "execution_count": 71,
     "metadata": {},
     "output_type": "execute_result"
    }
   ],
   "source": [
    "sum(ret_2000>threshold)\n",
    "## 9119"
   ]
  },
  {
   "cell_type": "markdown",
   "metadata": {},
   "source": [
    "- number of ticks below negetive threshold, to be short position"
   ]
  },
  {
   "cell_type": "code",
   "execution_count": 72,
   "metadata": {},
   "outputs": [
    {
     "data": {
      "text/plain": [
       "17993"
      ]
     },
     "execution_count": 72,
     "metadata": {},
     "output_type": "execute_result"
    }
   ],
   "source": [
    "sum(ret_2000< -threshold)\n",
    "## 17993"
   ]
  },
  {
   "cell_type": "markdown",
   "metadata": {},
   "source": [
    "- set position\n",
    "\n",
    "\n",
    "- number of ticks"
   ]
  },
  {
   "cell_type": "code",
   "execution_count": 73,
   "metadata": {},
   "outputs": [],
   "source": [
    "n_bar = len(data)"
   ]
  },
  {
   "cell_type": "markdown",
   "metadata": {},
   "source": [
    "- initialize all signal to be zero"
   ]
  },
  {
   "cell_type": "code",
   "execution_count": 74,
   "metadata": {},
   "outputs": [],
   "source": [
    "signal = pd.Series([0] * n_bar)"
   ]
  },
  {
   "cell_type": "markdown",
   "metadata": {},
   "source": [
    "- above threshold is long signal"
   ]
  },
  {
   "cell_type": "code",
   "execution_count": 75,
   "metadata": {},
   "outputs": [],
   "source": [
    "signal[ret_2000>threshold] = 1"
   ]
  },
  {
   "cell_type": "markdown",
   "metadata": {},
   "source": [
    "- below negative threshold is short signal"
   ]
  },
  {
   "cell_type": "code",
   "execution_count": 76,
   "metadata": {},
   "outputs": [],
   "source": [
    "signal[ret_2000< -threshold] = -1"
   ]
  },
  {
   "cell_type": "markdown",
   "metadata": {},
   "source": [
    "## ############## The following part is bad example of trading ##########"
   ]
  },
  {
   "cell_type": "markdown",
   "metadata": {},
   "source": [
    "- set position just the sanme as signal"
   ]
  },
  {
   "cell_type": "code",
   "execution_count": 77,
   "metadata": {},
   "outputs": [],
   "source": [
    "position = signal.copy()"
   ]
  },
  {
   "cell_type": "markdown",
   "metadata": {},
   "source": [
    "- close position at the end of day"
   ]
  },
  {
   "cell_type": "code",
   "execution_count": 78,
   "metadata": {},
   "outputs": [],
   "source": [
    "position[0] = 0\n",
    "position[n_bar-1] = 0"
   ]
  },
  {
   "cell_type": "markdown",
   "metadata": {},
   "source": [
    "- calculate change of position"
   ]
  },
  {
   "cell_type": "code",
   "execution_count": 79,
   "metadata": {},
   "outputs": [],
   "source": [
    "change_pos = position - position.shift(1)\n",
    "change_pos[0] = 0\n",
    "## Q：change.pos <- c(0,diff(position))什么意思？\n",
    "## A：计算仓位的变化，也就是每个时刻需要卖卖多少手，零表示没有变化。"
   ]
  },
  {
   "cell_type": "markdown",
   "metadata": {},
   "source": [
    "- buy action"
   ]
  },
  {
   "cell_type": "code",
   "execution_count": 81,
   "metadata": {},
   "outputs": [
    {
     "data": {
      "text/plain": [
       "377"
      ]
     },
     "execution_count": 81,
     "metadata": {},
     "output_type": "execute_result"
    }
   ],
   "source": [
    "sum(change_pos>0)\n",
    "## 377"
   ]
  },
  {
   "cell_type": "markdown",
   "metadata": {},
   "source": [
    "- sell action"
   ]
  },
  {
   "cell_type": "code",
   "execution_count": 83,
   "metadata": {},
   "outputs": [
    {
     "data": {
      "text/plain": [
       "377"
      ]
     },
     "execution_count": 83,
     "metadata": {},
     "output_type": "execute_result"
    }
   ],
   "source": [
    "sum(change_pos<0)\n",
    "## 377"
   ]
  },
  {
   "cell_type": "markdown",
   "metadata": {},
   "source": [
    "- calculate trade price (buy at ask and sell at bid)"
   ]
  },
  {
   "cell_type": "code",
   "execution_count": 84,
   "metadata": {},
   "outputs": [],
   "source": [
    "change_base = pd.Series([0] * n_bar)"
   ]
  },
  {
   "cell_type": "markdown",
   "metadata": {},
   "source": [
    "- buy action"
   ]
  },
  {
   "cell_type": "code",
   "execution_count": 85,
   "metadata": {},
   "outputs": [],
   "source": [
    "change_buy = change_pos>0"
   ]
  },
  {
   "cell_type": "markdown",
   "metadata": {},
   "source": [
    "- sell action"
   ]
  },
  {
   "cell_type": "code",
   "execution_count": 86,
   "metadata": {},
   "outputs": [],
   "source": [
    "change_sell = change_pos<0"
   ]
  },
  {
   "cell_type": "markdown",
   "metadata": {},
   "source": [
    "- transaction cost"
   ]
  },
  {
   "cell_type": "code",
   "execution_count": 87,
   "metadata": {},
   "outputs": [],
   "source": [
    "tranct = 1.1e-4"
   ]
  },
  {
   "cell_type": "markdown",
   "metadata": {},
   "source": [
    "- base price of buy, we use the estimated ask price"
   ]
  },
  {
   "cell_type": "code",
   "execution_count": 88,
   "metadata": {},
   "outputs": [],
   "source": [
    "change_base[change_buy] = (data[\"next.ask\"][change_buy])*(1+tranct)\n",
    "## actually the calculation of estimated ask price is complicated\n",
    "## it can be considered between the ask price and next ask price\n",
    "\n",
    "## Q：change.base[change.buy] <- (data$next.ask[change.buy])*(1+tranct)这句什么意思？\n",
    "## A：change.buy 是需要买的时间点，此时计算的是买入的价格，用的是下一跳的卖\n",
    "## 一价；如果价格不变，则直接是卖一价；如果价格恰好变化，则情况较为复杂，\n",
    "## 会模拟成交的情况，最后得到一个合理的价格。"
   ]
  },
  {
   "cell_type": "markdown",
   "metadata": {},
   "source": [
    "- base price of sell, we use the estimated bid price"
   ]
  },
  {
   "cell_type": "code",
   "execution_count": 89,
   "metadata": {},
   "outputs": [],
   "source": [
    "change_base[change_sell] = (data[\"next.bid\"][change_sell])*(1-tranct)"
   ]
  },
  {
   "cell_type": "markdown",
   "metadata": {},
   "source": [
    "- final.pnl"
   ]
  },
  {
   "cell_type": "code",
   "execution_count": 90,
   "metadata": {},
   "outputs": [
    {
     "name": "stdout",
     "output_type": "stream",
     "text": [
      "final pnl  -161.10059500007242 \n",
      "\n"
     ]
    }
   ],
   "source": [
    "final_pnl = -sum(change_base*change_pos)\n",
    "print (\"final pnl \", final_pnl, \"\\n\")\n",
    "## final pnl  -161\n",
    "## the unit of pnl is the same as the price point"
   ]
  },
  {
   "cell_type": "code",
   "execution_count": 91,
   "metadata": {},
   "outputs": [
    {
     "name": "stdout",
     "output_type": "stream",
     "text": [
      "turnover  1350914.5013749988 \n",
      "\n"
     ]
    }
   ],
   "source": [
    "turnover = sum(change_base*abs(change_pos))\n",
    "print (\"turnover \", turnover, \"\\n\")\n",
    "## turnover  1350914.5013749988"
   ]
  },
  {
   "cell_type": "markdown",
   "metadata": {},
   "source": [
    "- number of trades, only consider open position"
   ]
  },
  {
   "cell_type": "code",
   "execution_count": 92,
   "metadata": {},
   "outputs": [
    {
     "name": "stdout",
     "output_type": "stream",
     "text": [
      "trade num  377 \n",
      "\n"
     ]
    }
   ],
   "source": [
    "num = sum((position!=0) & (change_pos!=0))\n",
    "print (\"trade num \", num, \"\\n\")\n",
    "## 377"
   ]
  },
  {
   "cell_type": "code",
   "execution_count": 93,
   "metadata": {
    "scrolled": true
   },
   "outputs": [
    {
     "name": "stdout",
     "output_type": "stream",
     "text": [
      "avg pnl  -0.4273225331566908 \n",
      "\n"
     ]
    }
   ],
   "source": [
    "avg_pnl = final_pnl/num\n",
    "print (\"avg pnl \", avg_pnl, \"\\n\")\n",
    "## avg pnl  -0.427\n",
    "## it means each trade loses 0.82 bid-ask spread"
   ]
  },
  {
   "cell_type": "markdown",
   "metadata": {},
   "source": [
    "- average holing period"
   ]
  },
  {
   "cell_type": "code",
   "execution_count": 94,
   "metadata": {},
   "outputs": [
    {
     "name": "stdout",
     "output_type": "stream",
     "text": [
      "holding period  71.91246684350132 \n",
      "\n"
     ]
    }
   ],
   "source": [
    "hld_period = sum(position!=0)/num\n",
    "print (\"holding period \", hld_period, \"\\n\")\n",
    "## holding period   71.91246684350132 "
   ]
  },
  {
   "cell_type": "markdown",
   "metadata": {},
   "source": [
    "- now calculate the raw pnl of each ticks"
   ]
  },
  {
   "cell_type": "code",
   "execution_count": 95,
   "metadata": {},
   "outputs": [],
   "source": [
    "raw_pnl = -(change_base*change_pos).cumsum()\n",
    "long_pos = position>0\n",
    "short_pos = position<0\n",
    "raw_pnl[long_pos] = raw_pnl[long_pos]+(data[\"price\"][long_pos])*(1-tranct)*position[long_pos]\n",
    "raw_pnl[short_pos] = raw_pnl[short_pos]+(data[\"price\"][short_pos])*(1+tranct)*position[short_pos]\n",
    "## Q：请问图中红笔所画两个手续费，开多为什么是 “-” 号，而开空却是“+”号？\n",
    "## A：这里计算 raw.pnl，如果是多仓，现在计算盯市盈亏的时候，要加上合约\n",
    "## 的价值，加的时候，要扣除手续费，所以是减号；\n",
    "## 如果是空仓，现在计算盯市盈亏的时候，要减去合约的价值，此时\n",
    "## position[short.pos]对应的是负数，所以前庙还是加号，但本质是做减法；做减法\n",
    "## 的时候，也要扣除手续费，所以里面是加号。\n",
    "## 总之，手续费是成本，都是对净值有负面影响的。"
   ]
  },
  {
   "cell_type": "markdown",
   "metadata": {},
   "source": [
    "- plot the raw pnl curve, should be very bad"
   ]
  },
  {
   "cell_type": "code",
   "execution_count": 96,
   "metadata": {},
   "outputs": [
    {
     "data": {
      "image/png": "[encoded data removed]",
      "text/plain": [
       "<Figure size 1152x720 with 1 Axes>"
      ]
     },
     "metadata": {
      "needs_background": "light"
     },
     "output_type": "display_data"
    }
   ],
   "source": [
    "plt.figure(1, figsize=(16, 10))\n",
    "plt.title(date)\n",
    "plt.plot(raw_pnl.values);"
   ]
  },
  {
   "cell_type": "markdown",
   "metadata": {},
   "source": [
    "## #################### now use new trade scheme ###############"
   ]
  },
  {
   "cell_type": "markdown",
   "metadata": {},
   "source": [
    "- The previous result is terrible, why?\n",
    "- the reason is holding period is too short\n",
    "- 120 ticks is simply about 1 minute\n",
    "\n",
    "\n",
    "- you can try increase the threshold, but it wouldn't help improve the result\n",
    "\n",
    "- as the threshold increases, the number of trades decrease\n",
    "- but average holding period and average pnl would not improve\n",
    "\n",
    "\n",
    "- as the threshold decreases, the number of trades increae\n",
    "- but average holding period and average pnl would not improve either\n",
    "\n",
    "\n",
    "- WHY?\n",
    "\n",
    "\n",
    "- We used the actual price log return rather than predicted value\n",
    "- so it's not the reason of prediction accuracy\n",
    "\n",
    "\n",
    "- the reason is that:\n",
    "- when we increase the threshold, it's hard for the return to reach the threshold\n",
    "- so it's hard for it to have position, and the holding period is short\n",
    "\n",
    "\n",
    "- when we decrease the threshold, it's too easy for the return to reach the threhold and even negative of the threshold\n",
    "- so it's hard for it to keep the same position for a long time\n",
    "\n",
    "\n",
    "- In above, we need a better trading sCheme which can keep position for a long tim"
   ]
  },
  {
   "cell_type": "markdown",
   "metadata": {},
   "source": [
    "## ############## better scheme #############"
   ]
  },
  {
   "cell_type": "markdown",
   "metadata": {},
   "source": [
    "- we need to separate position from signal\n",
    "\n",
    "\n",
    "- long trades\n",
    "- we trigger a long trade when signal above the threshold, and keep it\n",
    "- until we meet the negative threshold"
   ]
  },
  {
   "cell_type": "code",
   "execution_count": 97,
   "metadata": {},
   "outputs": [],
   "source": [
    "position_pos = pd.Series([np.nan] * n_bar)"
   ]
  },
  {
   "cell_type": "markdown",
   "metadata": {},
   "source": [
    "- first position is zero"
   ]
  },
  {
   "cell_type": "code",
   "execution_count": 98,
   "metadata": {},
   "outputs": [],
   "source": [
    "position_pos[0] = 0"
   ]
  },
  {
   "cell_type": "markdown",
   "metadata": {},
   "source": [
    "- when trigger a buy trade and not reach limit price"
   ]
  },
  {
   "cell_type": "code",
   "execution_count": 99,
   "metadata": {},
   "outputs": [],
   "source": [
    "position_pos[(signal==1) & (data[\"next.ask\"]>0) & (data[\"next.bid\"]>0)] = 1"
   ]
  },
  {
   "cell_type": "markdown",
   "metadata": {},
   "source": [
    "- when trigger a reverse signal then close the position"
   ]
  },
  {
   "cell_type": "code",
   "execution_count": 100,
   "metadata": {},
   "outputs": [],
   "source": [
    "position_pos[(ret_2000< -threshold) & (data[\"next.bid\"]>0)] = 0"
   ]
  },
  {
   "cell_type": "markdown",
   "metadata": {},
   "source": [
    "- use previous value to fill the NAs"
   ]
  },
  {
   "cell_type": "code",
   "execution_count": 101,
   "metadata": {},
   "outputs": [],
   "source": [
    "position_pos.ffill(inplace=True)"
   ]
  },
  {
   "cell_type": "markdown",
   "metadata": {},
   "source": [
    "- short trades"
   ]
  },
  {
   "cell_type": "code",
   "execution_count": 102,
   "metadata": {},
   "outputs": [],
   "source": [
    "position_neg = pd.Series([np.nan] * n_bar)"
   ]
  },
  {
   "cell_type": "markdown",
   "metadata": {},
   "source": [
    "- first position is zero"
   ]
  },
  {
   "cell_type": "code",
   "execution_count": 103,
   "metadata": {},
   "outputs": [],
   "source": [
    "position_neg[0] = 0"
   ]
  },
  {
   "cell_type": "markdown",
   "metadata": {},
   "source": [
    "- when trigger a sell trade and not reach limit price"
   ]
  },
  {
   "cell_type": "code",
   "execution_count": 104,
   "metadata": {},
   "outputs": [],
   "source": [
    "position_neg[(signal==-1) & (data[\"next.ask\"]>0) & (data[\"next.bid\"]>0)] = -1"
   ]
  },
  {
   "cell_type": "markdown",
   "metadata": {},
   "source": [
    "- when trigger a reverse signal then close the position"
   ]
  },
  {
   "cell_type": "code",
   "execution_count": 105,
   "metadata": {},
   "outputs": [],
   "source": [
    "position_neg[(ret_2000> threshold) & (data[\"next.ask\"]>0)] = 0"
   ]
  },
  {
   "cell_type": "markdown",
   "metadata": {},
   "source": [
    "- use previous value to fill the NAs"
   ]
  },
  {
   "cell_type": "code",
   "execution_count": 106,
   "metadata": {},
   "outputs": [],
   "source": [
    "position_neg.ffill(inplace=True)"
   ]
  },
  {
   "cell_type": "markdown",
   "metadata": {},
   "source": [
    "- then the overall position is thesum of long position and short position"
   ]
  },
  {
   "cell_type": "code",
   "execution_count": 107,
   "metadata": {},
   "outputs": [],
   "source": [
    "position = position_pos + position_neg\n",
    "position[0] = 0"
   ]
  },
  {
   "cell_type": "markdown",
   "metadata": {},
   "source": [
    "- close positon at the end"
   ]
  },
  {
   "cell_type": "code",
   "execution_count": 108,
   "metadata": {},
   "outputs": [],
   "source": [
    "position[n_bar-1] = 0"
   ]
  },
  {
   "cell_type": "markdown",
   "metadata": {},
   "source": [
    "- initial position is zero"
   ]
  },
  {
   "cell_type": "code",
   "execution_count": 109,
   "metadata": {},
   "outputs": [],
   "source": [
    "position[0] = 0"
   ]
  },
  {
   "cell_type": "markdown",
   "metadata": {},
   "source": [
    "- calculate change of position"
   ]
  },
  {
   "cell_type": "code",
   "execution_count": 110,
   "metadata": {},
   "outputs": [],
   "source": [
    "change_pos = position - position.shift(1)\n",
    "change_pos[0] = 0"
   ]
  },
  {
   "cell_type": "markdown",
   "metadata": {},
   "source": [
    "- buy action"
   ]
  },
  {
   "cell_type": "code",
   "execution_count": 112,
   "metadata": {},
   "outputs": [
    {
     "data": {
      "text/plain": [
       "19"
      ]
     },
     "execution_count": 112,
     "metadata": {},
     "output_type": "execute_result"
    }
   ],
   "source": [
    "sum(change_pos>0)\n",
    "## 19"
   ]
  },
  {
   "cell_type": "markdown",
   "metadata": {},
   "source": [
    "- sell action"
   ]
  },
  {
   "cell_type": "code",
   "execution_count": 114,
   "metadata": {},
   "outputs": [
    {
     "data": {
      "text/plain": [
       "18"
      ]
     },
     "execution_count": 114,
     "metadata": {},
     "output_type": "execute_result"
    }
   ],
   "source": [
    "sum(change_pos<0)\n",
    "## 18"
   ]
  },
  {
   "cell_type": "markdown",
   "metadata": {},
   "source": [
    "- we can see there are much fewer trades now\n",
    "- the first open trade and last close trades are both buy\n",
    "- so there are more buy trades than sell trades \n",
    "\n",
    "\n",
    "- calculate trade price (buy at ask and sell at bid)"
   ]
  },
  {
   "cell_type": "code",
   "execution_count": 115,
   "metadata": {},
   "outputs": [],
   "source": [
    "change_base = pd.Series([0] * n_bar)"
   ]
  },
  {
   "cell_type": "markdown",
   "metadata": {},
   "source": [
    "- buy action"
   ]
  },
  {
   "cell_type": "code",
   "execution_count": 116,
   "metadata": {},
   "outputs": [],
   "source": [
    "change_buy = change_pos>0"
   ]
  },
  {
   "cell_type": "markdown",
   "metadata": {},
   "source": [
    "- sell action"
   ]
  },
  {
   "cell_type": "code",
   "execution_count": 117,
   "metadata": {},
   "outputs": [],
   "source": [
    "change_sell = change_pos<0"
   ]
  },
  {
   "cell_type": "markdown",
   "metadata": {},
   "source": [
    "- transaction cost"
   ]
  },
  {
   "cell_type": "code",
   "execution_count": 118,
   "metadata": {},
   "outputs": [],
   "source": [
    "tranct = 1.1e-4"
   ]
  },
  {
   "cell_type": "code",
   "execution_count": 119,
   "metadata": {},
   "outputs": [],
   "source": [
    "change_base[change_buy] = (data[\"ask\"][change_buy])*(1+tranct)\n",
    "change_base[change_sell] = (data[\"bid\"][change_sell])*(1-tranct)"
   ]
  },
  {
   "cell_type": "code",
   "execution_count": 120,
   "metadata": {
    "collapsed": true
   },
   "outputs": [
    {
     "name": "stdout",
     "output_type": "stream",
     "text": [
      "final pnl  149.78535999999303 \n",
      "\n"
     ]
    }
   ],
   "source": [
    "final_pnl = -sum(change_base*change_pos)\n",
    "print (\"final pnl \", final_pnl, \"\\n\")\n",
    "## final pnl  149.78535999999303 "
   ]
  },
  {
   "cell_type": "code",
   "execution_count": 122,
   "metadata": {},
   "outputs": [
    {
     "name": "stdout",
     "output_type": "stream",
     "text": [
      "turnover  129223.98196 \n",
      "\n"
     ]
    }
   ],
   "source": [
    "turnover = sum(change_base*abs(change_pos))\n",
    "print (\"turnover \", turnover, \"\\n\")\n",
    "## turnover  129223.98196"
   ]
  },
  {
   "cell_type": "markdown",
   "metadata": {},
   "source": [
    "- number of trades, only consider open position"
   ]
  },
  {
   "cell_type": "code",
   "execution_count": 123,
   "metadata": {},
   "outputs": [
    {
     "name": "stdout",
     "output_type": "stream",
     "text": [
      "trade num  36 \n",
      "\n"
     ]
    }
   ],
   "source": [
    "num = sum((position!=0) & (change_pos!=0))\n",
    "print (\"trade num \", num, \"\\n\")\n",
    "## trade num  36"
   ]
  },
  {
   "cell_type": "markdown",
   "metadata": {},
   "source": [
    "- we can see the difference between this schreme and the previous bad scheme\n",
    "- In the bad scheme, both long and short trades are 337,\n",
    "- and the number of trades is also 337.\n",
    "- That reason is at the bad scheme open and close positions are \n",
    "- usually separated\n",
    "- But in the good scheme, open and close positions are always together\n",
    "\n",
    "\n",
    "- People may argue that why using the same threshold for open and close positions\n",
    "- The main reason is to avoid overfitting\n",
    "- If there are enough number of trades, using different parameters for open and close\n",
    "- positions is accteptable\n",
    "- But if using one parameter can already generate good result\n",
    "- it's redundant to use anohter parameter"
   ]
  },
  {
   "cell_type": "markdown",
   "metadata": {},
   "source": [
    "- average pnl of trades"
   ]
  },
  {
   "cell_type": "code",
   "execution_count": 124,
   "metadata": {},
   "outputs": [
    {
     "name": "stdout",
     "output_type": "stream",
     "text": [
      "avg pnl  4.160704444444251 \n",
      "\n"
     ]
    }
   ],
   "source": [
    "avg_pnl = final_pnl/num\n",
    "print (\"avg pnl \", avg_pnl, \"\\n\")\n",
    "## avg pnl 4.160704444444251 \n",
    "\n",
    "## we can see that it's much better"
   ]
  },
  {
   "cell_type": "markdown",
   "metadata": {},
   "source": [
    "- average holing period"
   ]
  },
  {
   "cell_type": "code",
   "execution_count": 125,
   "metadata": {},
   "outputs": [
    {
     "name": "stdout",
     "output_type": "stream",
     "text": [
      "holding period  1026.9722222222222 \n",
      "\n"
     ]
    }
   ],
   "source": [
    "hld_period = sum(position!=0)/num\n",
    "print (\"holding period \", hld_period, \"\\n\")\n",
    "## holding period   1026.9722222222222 \n",
    "## the holding period is much longer, it's about 8 minutes"
   ]
  },
  {
   "cell_type": "markdown",
   "metadata": {},
   "source": [
    "- we can change the threshold to get different results:\n",
    "\n",
    "- we can see that, when use threshold=1e-4, we lose money generally\n",
    "- One result is that our transaction cost 1.1e-4\n",
    "- So we know that, even we know the exact price movements,\n",
    "- we would still lose money due to over trading"
   ]
  },
  {
   "cell_type": "markdown",
   "metadata": {},
   "source": [
    "- now calculate the raw pnl of each ticks"
   ]
  },
  {
   "cell_type": "code",
   "execution_count": 126,
   "metadata": {},
   "outputs": [],
   "source": [
    "raw_pnl = -(change_base*change_pos).cumsum()\n",
    "long_pos = position>0\n",
    "short_pos = position<0\n",
    "raw_pnl[long_pos] = raw_pnl[long_pos]+(data[\"price\"][long_pos])*(1-tranct)*position[long_pos]\n",
    "raw_pnl[short_pos] = raw_pnl[short_pos]+(data[\"price\"][short_pos])*(1+tranct)*position[short_pos]"
   ]
  },
  {
   "cell_type": "markdown",
   "metadata": {},
   "source": [
    "- plot the raw pnl"
   ]
  },
  {
   "cell_type": "code",
   "execution_count": 127,
   "metadata": {},
   "outputs": [
    {
     "data": {
      "image/png": "[encoded data removed]",
      "text/plain": [
       "<Figure size 1152x720 with 1 Axes>"
      ]
     },
     "metadata": {
      "needs_background": "light"
     },
     "output_type": "display_data"
    }
   ],
   "source": [
    "plt.figure(1, figsize=(16, 10))\n",
    "plt.title(date)\n",
    "plt.plot(raw_pnl.values);\n",
    "## we can see the result is much better"
   ]
  },
  {
   "cell_type": "markdown",
   "metadata": {},
   "source": [
    "- warning: this is simply to illustrade the framework\n",
    "- In practice, we cannot know the future price change\n",
    "- In later courses, we will follow the same scheme with predicted price movements"
   ]
  },
  {
   "cell_type": "markdown",
   "metadata": {},
   "source": [
    "- One may argue why using na.locf rather than for-loop\n",
    "- we can compare for-loop with na.locf"
   ]
  },
  {
   "cell_type": "code",
   "execution_count": 128,
   "metadata": {},
   "outputs": [],
   "source": [
    "position_fast = position.copy()"
   ]
  },
  {
   "cell_type": "code",
   "execution_count": 129,
   "metadata": {},
   "outputs": [],
   "source": [
    "pos = 0\n",
    "position = pd.Series([0] * n_bar)\n",
    "for tick in range(1, n_bar-1):\n",
    "    if (signal[tick]==1) & (data[\"next.ask\"][tick]>0) & (data[\"next.bid\"][tick]>0):\n",
    "        pos = 1\n",
    "    elif (signal[tick]==-1) & (data[\"next.bid\"][tick]>0) & (data[\"next.ask\"][tick]>0):\n",
    "        pos = -1\n",
    "    elif (pos>0) & (ret_2000[tick]< -threshold) & (data[\"next.bid\"][tick]>0):\n",
    "        pos = 0\n",
    "    elif (pos<0) & (ret_2000[tick]> threshold) & (data[\"next.ask\"][tick]>0):\n",
    "        pos = 0\n",
    "    position[tick] = pos"
   ]
  },
  {
   "cell_type": "code",
   "execution_count": 130,
   "metadata": {},
   "outputs": [
    {
     "data": {
      "text/plain": [
       "0"
      ]
     },
     "execution_count": 130,
     "metadata": {},
     "output_type": "execute_result"
    }
   ],
   "source": [
    "sum(position_fast != position)\n",
    "## all.equal(position.fast, position)\n",
    "## 0\n",
    "## so they are equal"
   ]
  },
  {
   "cell_type": "markdown",
   "metadata": {},
   "source": [
    "- now we can compare their speed"
   ]
  },
  {
   "cell_type": "code",
   "execution_count": 131,
   "metadata": {},
   "outputs": [
    {
     "name": "stdout",
     "output_type": "stream",
     "text": [
      "Wall time: 3.06 s\n"
     ]
    }
   ],
   "source": [
    "%%time\n",
    "for i in range(1, 101):\n",
    "    position_pos = pd.Series([np.nan] * n_bar)\n",
    "    position_pos[0] = 0\n",
    "    position_pos[(signal==1) & (data[\"next.ask\"]>0) & (data[\"next.bid\"]>0)] = 1\n",
    "    position_pos[(ret_2000< -threshold) & (data[\"next.bid\"]>0)] = 0\n",
    "    position_pos.ffill(inplace=True)\n",
    "    position_neg = pd.Series([np.nan] * n_bar)\n",
    "    position_neg[0] = 0\n",
    "    position_neg[(signal==-1) & (data[\"next.ask\"]>0) & (data[\"next.bid\"]>0)] = -1\n",
    "    position_neg[(ret_2000> threshold) & (data[\"next.ask\"]>0)] = 0\n",
    "    position_neg.ffill(inplace=True)\n",
    "    position = position_pos + position_neg\n",
    "    position[n_bar-1] = 0\n",
    "## R\n",
    "## 用户 系统 流逝 \n",
    "## 0.52 0.00 0.54 \n",
    "## Python\n",
    "## CPU times: user 2.16 s, sys: 27 ms, total: 2.19 s\n",
    "## Wall time: 3.62 s"
   ]
  },
  {
   "cell_type": "code",
   "execution_count": 132,
   "metadata": {},
   "outputs": [
    {
     "name": "stdout",
     "output_type": "stream",
     "text": [
      "Wall time: 6min 36s\n"
     ]
    }
   ],
   "source": [
    "%%time\n",
    "for i in range(1, 101):\n",
    "    pos = 0\n",
    "    position = pd.Series([0] * n_bar)\n",
    "    for tick in range(1, n_bar-1):\n",
    "        if (signal[tick]==1) & (data[\"next.ask\"][tick]>0) & (data[\"next.bid\"][tick]>0):\n",
    "            pos = 1\n",
    "        elif (signal[tick]==-1) & (data[\"next.bid\"][tick]>0) & (data[\"next.ask\"][tick]>0):\n",
    "            pos = -1\n",
    "        elif (pos>0) & (ret_2000[tick]< -threshold) & (data[\"next.bid\"][tick]>0):\n",
    "            pos = 0\n",
    "        elif (pos<0) & (ret_2000[tick]> threshold) & (data[\"next.ask\"][tick]>0):\n",
    "            pos = 0\n",
    "        position[tick] = pos\n",
    "\n",
    "## R\n",
    "## 用户  系统  流逝 \n",
    "## 38.20  0.00 38.39 \n",
    "## Python\n",
    "## CPU times: user 4min 54s, sys: 0 ns, total: 4min 54s\n",
    "## Wall time: 7min 10s"
   ]
  },
  {
   "cell_type": "markdown",
   "metadata": {},
   "source": [
    "- We can see that, to get the same result, using na.locf is about 100x faster\n",
    "- For just one day, one product, one strategy, one set of parameter, it would not be so important\n",
    "- But if we have hundreds of days, tens of products, tens of strategies, and dozens of parameters\n",
    "- The diffference would be significant"
   ]
  },
  {
   "cell_type": "markdown",
   "metadata": {},
   "source": [
    "- we can also make the above code into a function and run over for all the availabel data\n",
    "\n",
    "\n",
    "- define a function to get daily result"
   ]
  },
  {
   "cell_type": "code",
   "execution_count": 138,
   "metadata": {},
   "outputs": [],
   "source": [
    "from collections import OrderedDict\n",
    "def get_daily_pnl(date, product=\"rb\", period=2000, threshold=0.001, tranct=1.1e-4, noise=0):\n",
    "    with gzip.open(dire+\"/\"+date, 'rb', compresslevel=1) as file_object:\n",
    "        raw_data = file_object.read()\n",
    "    data = cPickle.loads(raw_data)\n",
    "    n_bar = len(data)\n",
    "    unit = np.std(data[\"ret\"])\n",
    "    np.random.seed(10)\n",
    "    noise_ret = np.random.normal(scale=unit*noise, size=n_bar)\n",
    "    ##  we repeat the above code to get daily result\n",
    "    ret_2000 = (data[\"ret\"].rolling(2000).sum()).dropna().reset_index(drop=True)\n",
    "    ret_2000 = ret_2000.append(pd.Series([0]*(len(data)-len(ret_2000)))).reset_index(drop=True) + noise_ret\n",
    "    signal = pd.Series([0] * n_bar)\n",
    "    signal[ret_2000>threshold] = 1\n",
    "    signal[ret_2000< -threshold] = -1\n",
    "    position_pos = pd.Series([np.nan] * n_bar)\n",
    "    position_pos[0] = 0\n",
    "    position_pos[(signal==1) & (data[\"next.ask\"]>0) & (data[\"next.bid\"]>0)] = 1\n",
    "    position_pos[(ret_2000< -threshold) & (data[\"next.bid\"]>0)] = 0\n",
    "    position_pos.ffill(inplace=True)\n",
    "    position_neg = pd.Series([np.nan] * n_bar)\n",
    "    position_neg[0] = 0\n",
    "    position_neg[(signal==-1) & (data[\"next.ask\"]>0) & (data[\"next.bid\"]>0)] = -1\n",
    "    position_neg[(ret_2000> threshold) & (data[\"next.ask\"]>0)] = 0\n",
    "    position_neg.ffill(inplace=True)\n",
    "    position = position_pos + position_neg\n",
    "    position[0]=0\n",
    "    position[n_bar-1] = 0\n",
    "    position[n_bar-2] = 0\n",
    "    change_pos = position - position.shift(1)\n",
    "    change_pos[0] = 0\n",
    "    change_base = pd.Series([0] * n_bar)\n",
    "    change_buy = change_pos>0\n",
    "    change_sell = change_pos<0\n",
    "    change_base[change_buy] = (data[\"ask\"][change_buy])*(1+tranct)\n",
    "    change_base[change_sell] = (data[\"bid\"][change_sell])*(1-tranct)\n",
    "    final_pnl = -sum(change_base*change_pos)\n",
    "    turnover = sum(change_base*abs(change_pos))\n",
    "    num = sum((position!=0) & (change_pos!=0))\n",
    "    hld_period = sum(position!=0)\n",
    "  \n",
    "    ## finally we combine the statistics into a data frame\n",
    "    #result = pd.DataFrame({\"final.pnl\": final_pnl, \"turnover\": turnover, \"num\": num, \"hld.period\": hld_period}, index=[0])\n",
    "    #result = {\"date\": date, \"final.pnl\": final_pnl, \"turnover\": turnover, \"num\": num, \"hld.period\": hld_period}\n",
    "    result = OrderedDict([(\"date\", date), (\"final.pnl\", final_pnl), (\"turnover\", turnover), (\"num\", num), (\"hld.period\", hld_period)])\n",
    "    return result"
   ]
  },
  {
   "cell_type": "markdown",
   "metadata": {},
   "source": [
    "- we use the parallel libary here"
   ]
  },
  {
   "cell_type": "code",
   "execution_count": 139,
   "metadata": {},
   "outputs": [
    {
     "data": {
      "text/plain": [
       "OrderedDict([('date', '20151201.pkl'),\n",
       "             ('final.pnl', -0.9829650000009451),\n",
       "             ('turnover', 13481.499945),\n",
       "             ('num', 11),\n",
       "             ('hld.period', 15730)])"
      ]
     },
     "execution_count": 139,
     "metadata": {},
     "output_type": "execute_result"
    }
   ],
   "source": [
    "import dask\n",
    "from dask import compute, delayed\n",
    "\n",
    "get_daily_pnl(all_dates[0], product=\"j\", period=2000, threshold=0.001, tranct=1.1e-4)\n",
    "\n",
    "#OrderedDict([('date', '20151201.pkl'),\n",
    "#             ('final.pnl', -0.9829650000009451),\n",
    "#             ('turnover', 13481.499945),\n",
    "#             ('num', 11),\n",
    "#             ('hld.period', 15730)])"
   ]
  },
  {
   "cell_type": "code",
   "execution_count": 141,
   "metadata": {
    "scrolled": true
   },
   "outputs": [
    {
     "name": "stdout",
     "output_type": "stream",
     "text": [
      "Wall time: 19.6 s\n"
     ]
    }
   ],
   "source": [
    "%%time\n",
    "import functools\n",
    "with dask.config.set(scheduler='processes', num_workers=16):\n",
    "    f_par = functools.partial(get_daily_pnl, product=\"j\", period=2000, threshold=0.001, tranct=1.1e-4, noise=0)\n",
    "    result = compute([delayed(f_par)(date) for date in all_dates])[0]\n",
    "    \n",
    "## R\n",
    "## 用户  系统  流逝 \n",
    "## 0.01  0.00 20.78 \n",
    "\n",
    "## Python pickle\n",
    "## CPU times: user 37.9 s, sys: 19.3 s, total: 57.2 s\n",
    "## Wall time: 1min 33s\n",
    "\n",
    "## Python cPickle\n",
    "## CPU times: user 39.6 s, sys: 13 s, total: 52.6 s\n",
    "## Wall time: 1min 38s\n",
    "\n",
    "## Python cPickle compresslevel=1\n",
    "## CPU times: user 264 ms, sys: 183 ms, total: 447 ms\n",
    "## Wall time: 22.8 s"
   ]
  },
  {
   "cell_type": "markdown",
   "metadata": {},
   "source": [
    "- the result is in a list, we need to transform it into data frame"
   ]
  },
  {
   "cell_type": "code",
   "execution_count": 142,
   "metadata": {},
   "outputs": [],
   "source": [
    "aa = pd.DataFrame(result)\n",
    "aa.set_index(\"date\", inplace=True)"
   ]
  },
  {
   "cell_type": "markdown",
   "metadata": {},
   "source": [
    "- the col names and row names are opposite"
   ]
  },
  {
   "cell_type": "code",
   "execution_count": 143,
   "metadata": {},
   "outputs": [],
   "source": [
    "col_names = aa.columns\n",
    "row_names = aa.index"
   ]
  },
  {
   "cell_type": "code",
   "execution_count": 144,
   "metadata": {},
   "outputs": [
    {
     "data": {
      "text/plain": [
       "Index(['final.pnl', 'turnover', 'num', 'hld.period'], dtype='object')"
      ]
     },
     "execution_count": 144,
     "metadata": {},
     "output_type": "execute_result"
    }
   ],
   "source": [
    "col_names\n",
    "## [1] \"final.pnl\"  \"turnover\"   \"num\"        \"hld.period\""
   ]
  },
  {
   "cell_type": "code",
   "execution_count": 145,
   "metadata": {},
   "outputs": [
    {
     "data": {
      "text/plain": [
       "Index(['20151201.pkl', '20151202.pkl', '20151203.pkl', '20151204.pkl',\n",
       "       '20151207.pkl', '20151208.pkl', '20151209.pkl', '20151210.pkl',\n",
       "       '20151211.pkl', '20151214.pkl'],\n",
       "      dtype='object', name='date')"
      ]
     },
     "execution_count": 145,
     "metadata": {},
     "output_type": "execute_result"
    }
   ],
   "source": [
    "row_names[0:10]\n",
    "\n",
    "#Index(['20151201.pkl', '20151202.pkl', '20151203.pkl', '20151204.pkl',\n",
    "#       '20151207.pkl', '20151208.pkl', '20151209.pkl', '20151210.pkl',\n",
    "#       '20151211.pkl', '20151214.pkl'],\n",
    "#      dtype='object', name='date')"
   ]
  },
  {
   "cell_type": "markdown",
   "metadata": {},
   "source": [
    "- transform the result into matrix, and delete all the column and row names"
   ]
  },
  {
   "cell_type": "code",
   "execution_count": 147,
   "metadata": {},
   "outputs": [
    {
     "data": {
      "text/plain": [
       "(733, 4)"
      ]
     },
     "execution_count": 147,
     "metadata": {},
     "output_type": "execute_result"
    }
   ],
   "source": [
    "stat = aa.values\n",
    "stat.shape\n",
    "\n",
    "## [1] 733   4"
   ]
  },
  {
   "cell_type": "markdown",
   "metadata": {},
   "source": [
    "- set column name"
   ]
  },
  {
   "cell_type": "code",
   "execution_count": 148,
   "metadata": {},
   "outputs": [],
   "source": [
    "stat = np.array(np.rec.fromrecords(aa.values))\n",
    "np_names = aa.dtypes.index.tolist()\n",
    "stat.dtype.names = tuple([name for name in np_names])"
   ]
  },
  {
   "cell_type": "markdown",
   "metadata": {},
   "source": [
    "- transform it into data frame"
   ]
  },
  {
   "cell_type": "code",
   "execution_count": 149,
   "metadata": {},
   "outputs": [],
   "source": [
    "stat = pd.DataFrame(stat)"
   ]
  },
  {
   "cell_type": "markdown",
   "metadata": {},
   "source": [
    "- get cumulated pnl"
   ]
  },
  {
   "cell_type": "code",
   "execution_count": 150,
   "metadata": {},
   "outputs": [],
   "source": [
    "pnl = stat[\"final.pnl\"].cumsum()"
   ]
  },
  {
   "cell_type": "markdown",
   "metadata": {},
   "source": [
    "- get the date"
   ]
  },
  {
   "cell_type": "code",
   "execution_count": 151,
   "metadata": {},
   "outputs": [],
   "source": [
    "date_str = [n[0:8] for n in row_names]\n",
    "date_format = [pd.to_datetime(d) for d in date_str]"
   ]
  },
  {
   "cell_type": "markdown",
   "metadata": {},
   "source": [
    "- plot the result"
   ]
  },
  {
   "cell_type": "code",
   "execution_count": 152,
   "metadata": {},
   "outputs": [
    {
     "data": {
      "image/png": "[encoded data removed]",
      "text/plain": [
       "<Figure size 1152x720 with 1 Axes>"
      ]
     },
     "metadata": {
      "needs_background": "light"
     },
     "output_type": "display_data"
    }
   ],
   "source": [
    "plt.figure(1, figsize=(16, 10))\n",
    "plt.title(\"\")\n",
    "plt.xlabel(\"date\")\n",
    "plt.ylabel(\"pnl\")\n",
    "plt.plot(date_format, pnl);\n",
    "\n",
    "## we can see that, even if we know the price movements, we cannot earn money every day\n",
    "## there is also significant drawdown in the pnl curve"
   ]
  },
  {
   "cell_type": "markdown",
   "metadata": {},
   "source": [
    "- we can see sum statistics"
   ]
  },
  {
   "cell_type": "markdown",
   "metadata": {},
   "source": [
    "- number of days"
   ]
  },
  {
   "cell_type": "code",
   "execution_count": 153,
   "metadata": {},
   "outputs": [],
   "source": [
    "n_days = len(date_str)"
   ]
  },
  {
   "cell_type": "markdown",
   "metadata": {},
   "source": [
    "- sharpe ratio\n",
    "- daily mean pnl divided by standard deviation and multiplied by square root of number of annual days"
   ]
  },
  {
   "cell_type": "code",
   "execution_count": 154,
   "metadata": {},
   "outputs": [
    {
     "data": {
      "text/plain": [
       "25.9495242887403"
      ]
     },
     "execution_count": 154,
     "metadata": {},
     "output_type": "execute_result"
    }
   ],
   "source": [
    "stat[\"final.pnl\"].mean()/stat[\"final.pnl\"].std() * math.sqrt(250)\n",
    "## 25.9495242887403"
   ]
  },
  {
   "cell_type": "markdown",
   "metadata": {},
   "source": [
    "- it's acceptable but not very high\n",
    "- In the future we would use predicted value rather than real return value\n",
    "- Remember that we simply use arbitrary threshold of 0.001 without any optimization\n",
    "- The number of ticks is 2000 here, it's also arbitrary\n",
    "- So if we use predicted returns, we must optimize the threshold and number of ticks for each product\n",
    "- Then we can also get accpetable out-of-sampe result "
   ]
  },
  {
   "cell_type": "markdown",
   "metadata": {},
   "source": [
    "- Now let's see other performance statistcs"
   ]
  },
  {
   "cell_type": "code",
   "execution_count": 155,
   "metadata": {},
   "outputs": [
    {
     "data": {
      "text/plain": [
       "1.7675630946118854e-05"
      ]
     },
     "execution_count": 155,
     "metadata": {},
     "output_type": "execute_result"
    }
   ],
   "source": [
    "drawdown = max(pnl.cummax()-pnl)/pnl.iloc[-1]\n",
    "drawdown\n",
    "## 1.7675630946118854e-05\n",
    "## it's profitable every day so no drawdown"
   ]
  },
  {
   "cell_type": "markdown",
   "metadata": {},
   "source": [
    "- mar"
   ]
  },
  {
   "cell_type": "code",
   "execution_count": 156,
   "metadata": {},
   "outputs": [
    {
     "data": {
      "text/plain": [
       "56575.06671463833"
      ]
     },
     "execution_count": 156,
     "metadata": {},
     "output_type": "execute_result"
    }
   ],
   "source": [
    "1/drawdown\n",
    "## 56575.06671463833\n"
   ]
  },
  {
   "cell_type": "markdown",
   "metadata": {},
   "source": [
    "- winning day ratio"
   ]
  },
  {
   "cell_type": "code",
   "execution_count": 157,
   "metadata": {},
   "outputs": [
    {
     "data": {
      "text/plain": [
       "0.9959072305593452"
      ]
     },
     "execution_count": 157,
     "metadata": {},
     "output_type": "execute_result"
    }
   ],
   "source": [
    "sum(stat[\"final.pnl\"]>0)/n_days\n",
    "## 0.9959072305593452"
   ]
  },
  {
   "cell_type": "markdown",
   "metadata": {},
   "source": [
    "- also there is number of trades"
   ]
  },
  {
   "cell_type": "code",
   "execution_count": 158,
   "metadata": {},
   "outputs": [
    {
     "data": {
      "text/plain": [
       "20306.0"
      ]
     },
     "execution_count": 158,
     "metadata": {},
     "output_type": "execute_result"
    }
   ],
   "source": [
    "sum(stat[\"num\"])\n",
    "## [1] 20306.0"
   ]
  },
  {
   "cell_type": "markdown",
   "metadata": {},
   "source": [
    "- average number of trades per day"
   ]
  },
  {
   "cell_type": "code",
   "execution_count": 159,
   "metadata": {
    "scrolled": true
   },
   "outputs": [
    {
     "data": {
      "text/plain": [
       "27.702592087312414"
      ]
     },
     "execution_count": 159,
     "metadata": {},
     "output_type": "execute_result"
    }
   ],
   "source": [
    "stat[\"num\"].mean()\n",
    "## 27.702592087312414\n",
    "## 27 trades per day can be considered very high frequency trading in China today"
   ]
  },
  {
   "cell_type": "markdown",
   "metadata": {},
   "source": [
    "- average pnl per trade"
   ]
  },
  {
   "cell_type": "code",
   "execution_count": 160,
   "metadata": {},
   "outputs": [
    {
     "data": {
      "text/plain": [
       "3.3470005611640063"
      ]
     },
     "execution_count": 160,
     "metadata": {},
     "output_type": "execute_result"
    }
   ],
   "source": [
    "sum(stat[\"final.pnl\"])/sum(stat[\"num\"])\n",
    "## 3.3470005611640063\n",
    "## average pnl per trade is also good\n",
    "## j's bi-ask spread is 0.5, so 3.347 is about 7 spreads"
   ]
  },
  {
   "cell_type": "markdown",
   "metadata": {},
   "source": [
    "- average holding period"
   ]
  },
  {
   "cell_type": "code",
   "execution_count": 161,
   "metadata": {
    "scrolled": true
   },
   "outputs": [
    {
     "data": {
      "text/plain": [
       "1073.6252339210087"
      ]
     },
     "execution_count": 161,
     "metadata": {},
     "output_type": "execute_result"
    }
   ],
   "source": [
    "sum(stat[\"hld.period\"])/sum(stat[\"num\"])\n",
    "## [1]1073.6252339210087\n",
    "## holding period is about 8 minutes"
   ]
  },
  {
   "cell_type": "markdown",
   "metadata": {},
   "source": [
    "- we can put all of the performance statistics into a function"
   ]
  },
  {
   "cell_type": "code",
   "execution_count": 162,
   "metadata": {},
   "outputs": [],
   "source": [
    "from collections import OrderedDict\n",
    "def get_performance(result):\n",
    "    stat = pd.DataFrame(result)\n",
    "    stat.set_index(\"date\", inplace=True)\n",
    "    pnl = stat[\"final.pnl\"].cumsum()\n",
    "    plt.figure(1, figsize=(16, 10))\n",
    "    plt.title(\"\")\n",
    "    plt.xlabel(\"date\")\n",
    "    plt.ylabel(\"pnl\")\n",
    "    plt.plot(stat.index, pnl);\n",
    "    n_days = len(stat)\n",
    "    sharpe = stat[\"final.pnl\"].mean()/stat[\"final.pnl\"].std()*math.sqrt(250)\n",
    "    drawdown = max(pnl.cummax()-pnl)/pnl.iloc[-1]\n",
    "    mar = 1/drawdown\n",
    "    win_ratio = sum(stat[\"final.pnl\"]>0)/n_days\n",
    "    num = stat[\"num\"].mean()\n",
    "    avg_pnl = sum(stat[\"final.pnl\"])/sum(stat[\"num\"])\n",
    "    hld_period = sum(stat[\"hld.period\"])/sum(stat[\"num\"])\n",
    "    return OrderedDict([(\"sharpe\", sharpe), (\"drawdown\", drawdown), (\"mar\", mar), (\"win.ratio\", win_ratio)\n",
    "                        , (\"num\", num), (\"avg.pnl\", avg_pnl), (\"hld.period\", hld_period)])"
   ]
  },
  {
   "cell_type": "code",
   "execution_count": 164,
   "metadata": {},
   "outputs": [
    {
     "name": "stdout",
     "output_type": "stream",
     "text": [
      "Wall time: 19.5 s\n"
     ]
    }
   ],
   "source": [
    "%%time\n",
    "import functools\n",
    "with dask.config.set(scheduler='processes', num_workers=CORE_NUM):\n",
    "    f_par = functools.partial(get_daily_pnl, product=\"j\", period=2000, threshold=0.001, tranct=1.1e-4, noise=0)\n",
    "    result = compute([delayed(f_par)(date) for date in all_dates])[0]"
   ]
  },
  {
   "cell_type": "code",
   "execution_count": 167,
   "metadata": {
    "scrolled": true
   },
   "outputs": [
    {
     "data": {
      "text/html": [
       "<div>\n",
       "<style scoped>\n",
       "    .dataframe tbody tr th:only-of-type {\n",
       "        vertical-align: middle;\n",
       "    }\n",
       "\n",
       "    .dataframe tbody tr th {\n",
       "        vertical-align: top;\n",
       "    }\n",
       "\n",
       "    .dataframe thead th {\n",
       "        text-align: right;\n",
       "    }\n",
       "</style>\n",
       "<table border=\"1\" class=\"dataframe\">\n",
       "  <thead>\n",
       "    <tr style=\"text-align: right;\">\n",
       "      <th></th>\n",
       "      <th>sharpe</th>\n",
       "      <th>drawdown</th>\n",
       "      <th>mar</th>\n",
       "      <th>win.ratio</th>\n",
       "      <th>num</th>\n",
       "      <th>avg.pnl</th>\n",
       "      <th>hld.period</th>\n",
       "    </tr>\n",
       "  </thead>\n",
       "  <tbody>\n",
       "    <tr>\n",
       "      <th>0</th>\n",
       "      <td>25.949524</td>\n",
       "      <td>0.000018</td>\n",
       "      <td>56575.066715</td>\n",
       "      <td>0.995907</td>\n",
       "      <td>27.702592</td>\n",
       "      <td>3.347001</td>\n",
       "      <td>1073.625234</td>\n",
       "    </tr>\n",
       "  </tbody>\n",
       "</table>\n",
       "</div>"
      ],
      "text/plain": [
       "      sharpe  drawdown           mar  win.ratio        num   avg.pnl  \\\n",
       "0  25.949524  0.000018  56575.066715   0.995907  27.702592  3.347001   \n",
       "\n",
       "    hld.period  \n",
       "0  1073.625234  "
      ]
     },
     "execution_count": 167,
     "metadata": {},
     "output_type": "execute_result"
    },
    {
     "data": {
      "image/png": "[encoded data removed]",
      "text/plain": [
       "<Figure size 1152x720 with 1 Axes>"
      ]
     },
     "metadata": {
      "needs_background": "light"
     },
     "output_type": "display_data"
    }
   ],
   "source": [
    "pd.DataFrame(get_performance(result), index=[0])\n",
    "#sharpe \tdrawdown \tmar \twin.ratio \tnum \tavg.pnl \thld.period\n",
    "#25.949524 \t0.000018 \t56575.066715 \t0.995907 \t27.702592 \t3.347001 \t1073.625234"
   ]
  },
  {
   "cell_type": "markdown",
   "metadata": {},
   "source": [
    "- Some people may say the result is too good to be true,\n",
    "- That's because we use the actual return\n",
    "- In practice we don't know the actual return"
   ]
  },
  {
   "cell_type": "markdown",
   "metadata": {},
   "source": [
    "- Now we don't have any predictive signals or models at hand\n",
    "- but we can also add some noise to the actual return and check the performance\n",
    "\n",
    "\n",
    "- we add normalized noise of 1 unit of standard deviation of the actual return"
   ]
  },
  {
   "cell_type": "code",
   "execution_count": 166,
   "metadata": {},
   "outputs": [
    {
     "name": "stdout",
     "output_type": "stream",
     "text": [
      "Wall time: 18.8 s\n"
     ]
    }
   ],
   "source": [
    "%%time\n",
    "import functools\n",
    "with dask.config.set(scheduler='processes', num_workers=CORE_NUM):\n",
    "    f_par = functools.partial(get_daily_pnl, product=\"j\", period=2000, threshold=0.001, tranct=1.1e-4, noise=3)\n",
    "    result_1 = compute([delayed(f_par)(date) for date in all_dates])[0]\n",
    "    \n",
    "\n",
    "## Python\n",
    "## CPU times: user 23.4 ms, sys: 117 ms, total: 140 ms\n",
    "## Wall time: 22.5 s"
   ]
  },
  {
   "cell_type": "code",
   "execution_count": 422,
   "metadata": {},
   "outputs": [
    {
     "data": {
      "text/html": [
       "<div>\n",
       "<style scoped>\n",
       "    .dataframe tbody tr th:only-of-type {\n",
       "        vertical-align: middle;\n",
       "    }\n",
       "\n",
       "    .dataframe tbody tr th {\n",
       "        vertical-align: top;\n",
       "    }\n",
       "\n",
       "    .dataframe thead th {\n",
       "        text-align: right;\n",
       "    }\n",
       "</style>\n",
       "<table border=\"1\" class=\"dataframe\">\n",
       "  <thead>\n",
       "    <tr style=\"text-align: right;\">\n",
       "      <th></th>\n",
       "      <th>sharpe</th>\n",
       "      <th>drawdown</th>\n",
       "      <th>mar</th>\n",
       "      <th>win.ratio</th>\n",
       "      <th>num</th>\n",
       "      <th>avg.pnl</th>\n",
       "      <th>hld.period</th>\n",
       "    </tr>\n",
       "  </thead>\n",
       "  <tbody>\n",
       "    <tr>\n",
       "      <th>0</th>\n",
       "      <td>7.898879</td>\n",
       "      <td>0.071798</td>\n",
       "      <td>13.927896</td>\n",
       "      <td>0.985141</td>\n",
       "      <td>47.014859</td>\n",
       "      <td>2.567312</td>\n",
       "      <td>907.7922</td>\n",
       "    </tr>\n",
       "  </tbody>\n",
       "</table>\n",
       "</div>"
      ],
      "text/plain": [
       "     sharpe  drawdown        mar  win.ratio        num   avg.pnl  hld.period\n",
       "0  7.898879  0.071798  13.927896   0.985141  47.014859  2.567312    907.7922"
      ]
     },
     "execution_count": 422,
     "metadata": {},
     "output_type": "execute_result"
    },
    {
     "data": {
      "image/png": "[encoded data removed]",
      "text/plain": [
       "<Figure size 1152x720 with 1 Axes>"
      ]
     },
     "metadata": {
      "needs_background": "light"
     },
     "output_type": "display_data"
    }
   ],
   "source": [
    "stat_1 = pd.DataFrame(result_1)\n",
    "pd.DataFrame(get_performance(result_1), index=[0])\n",
    "## we can see the result is worse, as expected\n",
    "\n",
    "##sharpe\tdrawdown\tmar\twin.ratio\tnum\tavg.pnl\thld.period\n",
    "##7.898879\t0.071798\t13.927896\t0.985141\t47.014859\t2.567312\t907.7922"
   ]
  },
  {
   "cell_type": "markdown",
   "metadata": {},
   "source": [
    "- we find that the holding period is shorter\n",
    "- That's because with more noise, the actual value is larger in magnitude\n",
    "- so it's eaiser to trigger trades, thought usually bad trades\n",
    "- so the number of trades increase, but holding period, average pnl, sharpe ratio drops\n",
    "\n",
    "## Remember that this result use future return so it's only used to explain the backtesting\n",
    "## process and cannot be compared to real backtesting or trading result.\n",
    "\n",
    "- Next week we would use a real signal to trigger trade and the result is much more reliable."
   ]
  },
  {
   "cell_type": "code",
   "execution_count": null,
   "metadata": {},
   "outputs": [],
   "source": []
  }
 ],
 "metadata": {
  "kernelspec": {
   "display_name": "Python 3",
   "language": "python",
   "name": "python3"
  },
  "language_info": {
   "codemirror_mode": {
    "name": "ipython",
    "version": 3
   },
   "file_extension": ".py",
   "mimetype": "text/x-python",
   "name": "python",
   "nbconvert_exporter": "python",
   "pygments_lexer": "ipython3",
   "version": "3.7.0"
  }
 },
 "nbformat": 4,
 "nbformat_minor": 2
}
