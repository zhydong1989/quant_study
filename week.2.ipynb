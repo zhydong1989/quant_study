{
 "cells": [
  {
   "cell_type": "markdown",
   "metadata": {},
   "source": [
    "- Welcome to Quantitative and High Frequency Trading Training Program\n",
    "- In this week, we will\n",
    "\n",
    "\n",
    "- change time frame from \"night to day\" to \"day to night\"\n",
    "- test the first predictive signal;\n",
    "- plot the pnl cureve and calculate return, sharpe ratio, maximum drawdown, etc statistics;\n",
    "- test in-sample and out-of-sample results;\n",
    "- change length of look-back period and test the result;\n",
    "\n",
    "\n",
    "- Now let's go over the first part\n",
    "- change time frame from \"night to day\" to \"day to night\"\n",
    "\n",
    "\n",
    "- The night session starts at 20:59:00\n",
    "\n",
    "\n",
    "- Change the path of helper.r if needed"
   ]
  },
  {
   "cell_type": "code",
   "execution_count": 1,
   "metadata": {},
   "outputs": [
    {
     "name": "stdout",
     "output_type": "stream",
     "text": [
      "d:/intern\n",
      "d:/intern/pkl tick/\n"
     ]
    }
   ],
   "source": [
    "from helper_week_02 import *\n",
    "print(HEAD_PATH)\n",
    "print(DATA_PATH)"
   ]
  },
  {
   "cell_type": "code",
   "execution_count": 2,
   "metadata": {},
   "outputs": [
    {
     "data": {
      "text/plain": [
       "<module 'helper_week_02' from 'C:\\\\Users\\\\dell\\\\helper_week_02.py'>"
      ]
     },
     "execution_count": 2,
     "metadata": {},
     "output_type": "execute_result"
    }
   ],
   "source": [
    "## if change information in helper_week_02 then\n",
    "import helper_week_02\n",
    "from imp import reload   \n",
    "reload(helper_week_02)"
   ]
  },
  {
   "cell_type": "markdown",
   "metadata": {},
   "source": [
    "- number of cores, set this number according to your computer"
   ]
  },
  {
   "cell_type": "code",
   "execution_count": 3,
   "metadata": {},
   "outputs": [],
   "source": [
    "CORE_NUM = 16"
   ]
  },
  {
   "cell_type": "markdown",
   "metadata": {},
   "source": [
    "- sample product, you can change to your specific product symbol"
   ]
  },
  {
   "cell_type": "code",
   "execution_count": 4,
   "metadata": {},
   "outputs": [],
   "source": [
    "product = \"j\""
   ]
  },
  {
   "cell_type": "markdown",
   "metadata": {},
   "source": [
    "- get all of the dates"
   ]
  },
  {
   "cell_type": "code",
   "execution_count": 5,
   "metadata": {},
   "outputs": [],
   "source": [
    "all_dates = get_dates(product)"
   ]
  },
  {
   "cell_type": "markdown",
   "metadata": {},
   "source": [
    "- initial of the dates"
   ]
  },
  {
   "cell_type": "code",
   "execution_count": 6,
   "metadata": {},
   "outputs": [
    {
     "data": {
      "text/plain": [
       "['20151201', '20151202', '20151203', '20151204', '20151207', '20151208']"
      ]
     },
     "execution_count": 6,
     "metadata": {},
     "output_type": "execute_result"
    }
   ],
   "source": [
    "all_dates[:6]\n",
    "## [1] \"20151201\" \"20151202\" \"20151203\" \"20151204\" \"20151207\" \"20151208\""
   ]
  },
  {
   "cell_type": "markdown",
   "metadata": {},
   "source": [
    "- end of the dates"
   ]
  },
  {
   "cell_type": "code",
   "execution_count": 7,
   "metadata": {},
   "outputs": [
    {
     "data": {
      "text/plain": [
       "['20181126', '20181127', '20181128', '20181129', '20181130', '20181203']"
      ]
     },
     "execution_count": 7,
     "metadata": {},
     "output_type": "execute_result"
    }
   ],
   "source": [
    "all_dates[-6:]\n",
    "## [1] \"20180824\" \"20180827\" \"20180828\" \"20180829\" \"20180830\" \"20180831\""
   ]
  },
  {
   "cell_type": "markdown",
   "metadata": {},
   "source": [
    "- total number of dates"
   ]
  },
  {
   "cell_type": "code",
   "execution_count": 8,
   "metadata": {},
   "outputs": [
    {
     "data": {
      "text/plain": [
       "733"
      ]
     },
     "execution_count": 8,
     "metadata": {},
     "output_type": "execute_result"
    }
   ],
   "source": [
    "len(all_dates)\n",
    "## [1] 733"
   ]
  },
  {
   "cell_type": "markdown",
   "metadata": {},
   "source": [
    "-  we can check that some of the data has only day session"
   ]
  },
  {
   "cell_type": "code",
   "execution_count": 9,
   "metadata": {},
   "outputs": [
    {
     "name": "stdout",
     "output_type": "stream",
     "text": [
      "20160104\n",
      "20160215\n",
      "20160405\n",
      "20160503\n",
      "20160613\n",
      "20160919\n",
      "20161010\n",
      "20170103\n",
      "20170203\n",
      "20170331\n",
      "20170405\n",
      "20170502\n",
      "20170531\n",
      "20171009\n",
      "20180102\n",
      "20180222\n",
      "20180409\n",
      "20180619\n",
      "20180925\n",
      "20181008\n"
     ]
    }
   ],
   "source": [
    "for date in all_dates:\n",
    "    data = get_data(product, date)\n",
    "    if sum(data[\"time\"]>=\"21:00:00\")==0:\n",
    "        print(date)\n",
    "# 20160104 \n",
    "# 20160215 \n",
    "# 20160405 \n",
    "# 20160503 \n",
    "# 20160613 \n",
    "# 20160919 \n",
    "# 20161010 \n",
    "# 20170103 \n",
    "# 20170203 \n",
    "# 20170405 \n",
    "# 20170502 \n",
    "# 20170531 \n",
    "# 20171009 \n",
    "# 20180102 \n",
    "# 20180222 \n",
    "# 20180409 \n",
    "# 20180619 \n",
    "# 20180925\n",
    "# 20181008\n",
    "        \n",
    "## we can see that after holidays there is usually only morning session"
   ]
  },
  {
   "cell_type": "markdown",
   "metadata": {},
   "source": [
    "- we can also check that, if there is a night session, then there is day session before"
   ]
  },
  {
   "cell_type": "code",
   "execution_count": 10,
   "metadata": {},
   "outputs": [],
   "source": [
    "for date in all_dates[1:]:\n",
    "    data = get_data(product, date)\n",
    "    if sum(data[\"time\"]>=\"21:00:00\")>0:\n",
    "        if sum((data[\"time\"]>=\"09:00:00\") & (data[\"time\"]<=\"15:00:00\"))==0:\n",
    "            print(date)\n",
    "## there should be no output"
   ]
  },
  {
   "cell_type": "markdown",
   "metadata": {},
   "source": [
    "- So we can construct the day-to-night data sets now\n",
    "- every day has two days' data of current data set\n",
    "\n",
    "\n",
    "- create directory"
   ]
  },
  {
   "cell_type": "markdown",
   "metadata": {},
   "source": [
    "- create directory for the product"
   ]
  },
  {
   "cell_type": "code",
   "execution_count": 11,
   "metadata": {},
   "outputs": [],
   "source": [
    "os.makedirs(HEAD_PATH+\"/night pkl tick/\"+product, exist_ok=True)"
   ]
  },
  {
   "cell_type": "markdown",
   "metadata": {},
   "source": [
    "- now merge two day's data into one day"
   ]
  },
  {
   "cell_type": "code",
   "execution_count": 12,
   "metadata": {},
   "outputs": [
    {
     "data": {
      "text/plain": [
       "733"
      ]
     },
     "execution_count": 12,
     "metadata": {},
     "output_type": "execute_result"
    }
   ],
   "source": [
    "n_days = len(all_dates)\n",
    "n_days"
   ]
  },
  {
   "cell_type": "markdown",
   "metadata": {},
   "source": [
    "- use multiple cores"
   ]
  },
  {
   "cell_type": "code",
   "execution_count": 13,
   "metadata": {},
   "outputs": [],
   "source": [
    "import dask\n",
    "from dask import compute, delayed"
   ]
  },
  {
   "cell_type": "code",
   "execution_count": 44,
   "metadata": {},
   "outputs": [
    {
     "name": "stdout",
     "output_type": "stream",
     "text": [
      "Wall time: 1min 4s\n"
     ]
    }
   ],
   "source": [
    "%%time\n",
    "import functools\n",
    "def write2nightPklFiles(i, product=\"rb\"):\n",
    "    data = get_data(product, all_dates[i])\n",
    "    data[\"good\"] = False\n",
    "    data.loc[(data[\"time\"]>=\"20:59:00\") | (data[\"time\"]<=\"03:00:00\"), \"good\"] = True\n",
    "    if sum(data[\"time\"]>=\"21:00:00\")>0:\n",
    "        pre_data = get_data(product, all_dates[i-1])\n",
    "        pre_data[\"good\"] = False\n",
    "        pre_data.loc[(pre_data[\"time\"]>=\"08:59:00\") & (pre_data[\"time\"]<=\"15:00:02\"), \"good\"] = True\n",
    "        \n",
    "        data = pre_data.append(data, ignore_index=True)\n",
    "            \n",
    "        save(data, NIGHT_PATH+product+\"/\"+all_dates[i-1] + \".pkl\")\n",
    "\n",
    "with dask.config.set(scheduler='processes', num_workers=CORE_NUM):\n",
    "    f_par = functools.partial(write2nightPklFiles, product=product)\n",
    "    result = compute([delayed(f_par)(i) for i in range(1,len(all_dates))])[0]"
   ]
  },
  {
   "cell_type": "markdown",
   "metadata": {},
   "source": [
    "- get the list of this form"
   ]
  },
  {
   "cell_type": "code",
   "execution_count": 14,
   "metadata": {},
   "outputs": [],
   "source": [
    "import os\n",
    "night_list = list(map(lambda x: NIGHT_PATH+product+\"/\"+x, os.listdir(NIGHT_PATH + product)))"
   ]
  },
  {
   "cell_type": "markdown",
   "metadata": {},
   "source": [
    "- number of days"
   ]
  },
  {
   "cell_type": "code",
   "execution_count": 15,
   "metadata": {},
   "outputs": [
    {
     "data": {
      "text/plain": [
       "712"
      ]
     },
     "execution_count": 15,
     "metadata": {},
     "output_type": "execute_result"
    }
   ],
   "source": [
    "len(night_list)\n",
    "# 712\n",
    "## it's fewer because some days have not night session "
   ]
  },
  {
   "cell_type": "markdown",
   "metadata": {},
   "source": [
    "- some days may have error because of rolling contracts"
   ]
  },
  {
   "cell_type": "code",
   "execution_count": 48,
   "metadata": {},
   "outputs": [
    {
     "name": "stdout",
     "output_type": "stream",
     "text": [
      "Wall time: 30.2 s\n"
     ]
    }
   ],
   "source": [
    "%%time\n",
    "\n",
    "def checkForDifferentContract(file):\n",
    "    data = load(file)\n",
    "    return len(data[[\"contract\"]].groupby(\"contract\").max())==1\n",
    "\n",
    "with dask.config.set(scheduler='processes', num_workers=CORE_NUM):\n",
    "    result = compute([delayed(checkForDifferentContract)(file) for file in night_list])[0]"
   ]
  },
  {
   "cell_type": "markdown",
   "metadata": {},
   "source": [
    "- The following data has two contracts, so it cannot be used directly"
   ]
  },
  {
   "cell_type": "code",
   "execution_count": null,
   "metadata": {},
   "outputs": [],
   "source": [
    "pd.DataFrame(night_list)[list(not x for x in result)]\n",
    "# 75 \td:/intern/night pkl tick/j/20160325.pkl\n",
    "# 168 \td:/intern/night pkl tick/j/20160812.pkl\n",
    "# 237 \td:/intern/night pkl tick/j/20161130.pkl\n",
    "# 314 \td:/intern/night pkl tick/j/20170329.pkl\n",
    "# 394 \td:/intern/night pkl tick/j/20170801.pkl\n",
    "# 472 \td:/intern/night pkl tick/j/20171128.pkl\n",
    "# 555 \td:/intern/night pkl tick/j/20180409.pkl\n",
    "# 637 \td:/intern/night pkl tick/j/20180808.pkl"
   ]
  },
  {
   "cell_type": "markdown",
   "metadata": {},
   "source": [
    "- now remaining days are"
   ]
  },
  {
   "cell_type": "code",
   "execution_count": 16,
   "metadata": {},
   "outputs": [
    {
     "ename": "NameError",
     "evalue": "name 'result' is not defined",
     "traceback": [
      "\u001b[1;31m---------------------------------------------------------------------------\u001b[0m",
      "\u001b[1;31mNameError\u001b[0m                                 Traceback (most recent call last)",
      "\u001b[1;32m<ipython-input-16-ab22cd708c02>\u001b[0m in \u001b[0;36m<module>\u001b[1;34m()\u001b[0m\n\u001b[1;32m----> 1\u001b[1;33m \u001b[0msum\u001b[0m\u001b[1;33m(\u001b[0m\u001b[0mresult\u001b[0m\u001b[1;33m)\u001b[0m\u001b[1;33m\u001b[0m\u001b[0m\n\u001b[0m\u001b[0;32m      2\u001b[0m \u001b[1;31m## 704\u001b[0m\u001b[1;33m\u001b[0m\u001b[1;33m\u001b[0m\u001b[0m\n",
      "\u001b[1;31mNameError\u001b[0m: name 'result' is not defined"
     ],
     "output_type": "error"
    }
   ],
   "source": [
    "sum(result)\n",
    "## 704"
   ]
  },
  {
   "cell_type": "code",
   "execution_count": 61,
   "metadata": {},
   "outputs": [],
   "source": [
    "good_night = pd.DataFrame(data={\"file.path\": night_list, \"good.night\": result})"
   ]
  },
  {
   "cell_type": "markdown",
   "metadata": {},
   "source": [
    "- we can save the data so next time we can use it directly"
   ]
  },
  {
   "cell_type": "code",
   "execution_count": 62,
   "metadata": {},
   "outputs": [],
   "source": [
    "os.makedirs(HEAD_PATH+\"/good night pkl\", exist_ok=True)\n",
    "save(good_night, HEAD_PATH+\"/good night pkl/\"+product+\".pkl\")"
   ]
  },
  {
   "cell_type": "markdown",
   "metadata": {},
   "source": [
    "- load the good.night data"
   ]
  },
  {
   "cell_type": "code",
   "execution_count": 17,
   "metadata": {},
   "outputs": [],
   "source": [
    "good_night = load(HEAD_PATH+\"/good night pkl/\"+product+\".pkl\")"
   ]
  },
  {
   "cell_type": "markdown",
   "metadata": {},
   "source": [
    "- In practice we know whether a day has night session or rolling contract\n",
    "- so we didn't use \"future data\" here\n",
    "\n",
    "\n",
    "- now it's see why we use this kind of data"
   ]
  },
  {
   "cell_type": "code",
   "execution_count": 18,
   "metadata": {},
   "outputs": [
    {
     "name": "stdout",
     "output_type": "stream",
     "text": [
      "704\n"
     ]
    }
   ],
   "source": [
    "good_night_list = good_night[good_night[\"good.night\"]==True]\n",
    "n_good_night = len(good_night_list)\n",
    "print(n_good_night)\n",
    "## 704"
   ]
  },
  {
   "cell_type": "markdown",
   "metadata": {},
   "source": [
    "- we randomly choose a day"
   ]
  },
  {
   "cell_type": "code",
   "execution_count": 19,
   "metadata": {},
   "outputs": [],
   "source": [
    "data = load(good_night_list.iloc[599][\"file.path\"])"
   ]
  },
  {
   "cell_type": "markdown",
   "metadata": {},
   "source": [
    "- plot all the data"
   ]
  },
  {
   "cell_type": "code",
   "execution_count": 20,
   "metadata": {},
   "outputs": [
    {
     "data": {
      "image/png": "[encoded data removed]",
      "text/plain": [
       "<Figure size 1152x720 with 1 Axes>"
      ]
     },
     "metadata": {
      "needs_background": "light"
     },
     "output_type": "display_data"
    }
   ],
   "source": [
    "import matplotlib.pyplot as plt\n",
    "%matplotlib inline\n",
    "\n",
    "plt.figure(1, figsize=(16, 10))\n",
    "plt.plot(data[\"wpr\"].values);"
   ]
  },
  {
   "cell_type": "markdown",
   "metadata": {},
   "source": [
    "- plot the data to be used in red"
   ]
  },
  {
   "cell_type": "code",
   "execution_count": 71,
   "metadata": {},
   "outputs": [
    {
     "data": {
      "image/png": "[encoded data removed]",
      "text/plain": [
       "<Figure size 1152x720 with 1 Axes>"
      ]
     },
     "metadata": {
      "needs_background": "light"
     },
     "output_type": "display_data"
    }
   ],
   "source": [
    "plt.figure(1, figsize=(16, 10))\n",
    "plt.plot(data.reset_index()[\"wpr\"]);\n",
    "plt.plot(data.reset_index()[data.reset_index()[\"good\"]][\"wpr\"]);"
   ]
  },
  {
   "cell_type": "markdown",
   "metadata": {},
   "source": [
    "- number of usable points"
   ]
  },
  {
   "cell_type": "code",
   "execution_count": 21,
   "metadata": {},
   "outputs": [
    {
     "data": {
      "text/plain": [
       "35524"
      ]
     },
     "execution_count": 21,
     "metadata": {},
     "output_type": "execute_result"
    }
   ],
   "source": [
    "sum(data[\"good\"])\n",
    "## 35524"
   ]
  },
  {
   "cell_type": "markdown",
   "metadata": {},
   "source": [
    "- total number of two days"
   ]
  },
  {
   "cell_type": "code",
   "execution_count": 22,
   "metadata": {},
   "outputs": [
    {
     "data": {
      "text/plain": [
       "70184"
      ]
     },
     "execution_count": 22,
     "metadata": {},
     "output_type": "execute_result"
    }
   ],
   "source": [
    "len(data)\n",
    "## 70184"
   ]
  },
  {
   "cell_type": "markdown",
   "metadata": {},
   "source": [
    "- so we only use the middle part of the data\n",
    "\n",
    "\n",
    "- test the first predictive signal\n",
    "- we can use look-back period of 2048 at first"
   ]
  },
  {
   "cell_type": "code",
   "execution_count": 23,
   "metadata": {},
   "outputs": [],
   "source": [
    "period = 2048"
   ]
  },
  {
   "cell_type": "markdown",
   "metadata": {},
   "source": [
    "- the first signal is the buy/sell imbalance signal\n",
    "\n",
    "\n",
    "- create directory for all signals"
   ]
  },
  {
   "cell_type": "markdown",
   "metadata": {},
   "source": [
    "- create directory for the product"
   ]
  },
  {
   "cell_type": "code",
   "execution_count": 24,
   "metadata": {},
   "outputs": [],
   "source": [
    "os.makedirs(HEAD_PATH + \"/tmp pkl/\" + product, exist_ok=True)"
   ]
  },
  {
   "cell_type": "markdown",
   "metadata": {},
   "source": [
    "- create directory for the signal"
   ]
  },
  {
   "cell_type": "code",
   "execution_count": 25,
   "metadata": {},
   "outputs": [],
   "source": [
    "os.makedirs(HEAD_PATH + \"/tmp pkl/\" + product + \"/trade.imb.\" + str(period), exist_ok=True)"
   ]
  },
  {
   "cell_type": "markdown",
   "metadata": {},
   "source": [
    "- now let's check the signal\n",
    "\n",
    "\n",
    "- it's the buy/sell imbalance of one tick"
   ]
  },
  {
   "cell_type": "code",
   "execution_count": 26,
   "metadata": {},
   "outputs": [],
   "source": [
    "imb = zero_divide(data[\"buy.trade\"] - data[\"sell.trade\"], data[\"buy.trade\"] + data[\"sell.trade\"])"
   ]
  },
  {
   "cell_type": "markdown",
   "metadata": {},
   "source": [
    "- zero_divide is zero when denominator is zero\n",
    "- we can see the definition of zero_divide in helper.py\n",
    "\n",
    "\n",
    "- returns 0 if the numerator or denominator is 0"
   ]
  },
  {
   "cell_type": "code",
   "execution_count": 27,
   "metadata": {},
   "outputs": [],
   "source": [
    "def zero_divide(x, y):\n",
    "    with warnings.catch_warnings():\n",
    "        warnings.simplefilter(\"ignore\")\n",
    "        res = np.divide(x,y)\n",
    "    if hasattr(y, \"__len__\"):\n",
    "        res[y == 0] = 0\n",
    "    elif y == 0:\n",
    "        res = 0\n",
    "        \n",
    "    return res"
   ]
  },
  {
   "cell_type": "markdown",
   "metadata": {},
   "source": [
    "- we can check the result"
   ]
  },
  {
   "cell_type": "code",
   "execution_count": 28,
   "metadata": {},
   "outputs": [
    {
     "data": {
      "text/plain": [
       "0"
      ]
     },
     "execution_count": 28,
     "metadata": {},
     "output_type": "execute_result"
    }
   ],
   "source": [
    "sum(np.isnan(imb))\n",
    "## 0"
   ]
  },
  {
   "cell_type": "markdown",
   "metadata": {},
   "source": [
    "- so the result shows that the imb has no bad values\n",
    "- However, if we simply use \"/\" rather than zero_divide"
   ]
  },
  {
   "cell_type": "code",
   "execution_count": 29,
   "metadata": {},
   "outputs": [],
   "source": [
    "bad_imb = (data[\"buy.trade\"] - data[\"sell.trade\"]) / (data[\"buy.trade\"] + data[\"sell.trade\"])"
   ]
  },
  {
   "cell_type": "markdown",
   "metadata": {},
   "source": [
    "- check the bad.imb"
   ]
  },
  {
   "cell_type": "code",
   "execution_count": 30,
   "metadata": {},
   "outputs": [
    {
     "data": {
      "text/plain": [
       "18567"
      ]
     },
     "execution_count": 30,
     "metadata": {},
     "output_type": "execute_result"
    }
   ],
   "source": [
    "sum(np.isnan(bad_imb))\n",
    "## 18567\n",
    "## so there are so many bad values which may cause error when we use this signal"
   ]
  },
  {
   "cell_type": "markdown",
   "metadata": {},
   "source": [
    "- now use the ewma to get exponential moving average of the value"
   ]
  },
  {
   "cell_type": "code",
   "execution_count": 31,
   "metadata": {},
   "outputs": [],
   "source": [
    "#pd.set_option('precision', 10)\n",
    "total_imb = ewma(imb, period)"
   ]
  },
  {
   "cell_type": "markdown",
   "metadata": {},
   "source": [
    "- check the result"
   ]
  },
  {
   "cell_type": "code",
   "execution_count": 32,
   "metadata": {},
   "outputs": [
    {
     "data": {
      "text/plain": [
       "0"
      ]
     },
     "execution_count": 32,
     "metadata": {},
     "output_type": "execute_result"
    }
   ],
   "source": [
    "sum(np.isnan(total_imb))\n",
    "## 0\n",
    "## so the result contains no bad values"
   ]
  },
  {
   "cell_type": "markdown",
   "metadata": {},
   "source": [
    "- check the length of the signal"
   ]
  },
  {
   "cell_type": "code",
   "execution_count": 33,
   "metadata": {},
   "outputs": [
    {
     "data": {
      "text/plain": [
       "70184"
      ]
     },
     "execution_count": 33,
     "metadata": {},
     "output_type": "execute_result"
    }
   ],
   "source": [
    "len(total_imb)\n",
    "## 70184"
   ]
  },
  {
   "cell_type": "code",
   "execution_count": 34,
   "metadata": {},
   "outputs": [
    {
     "data": {
      "text/plain": [
       "(70184, 31)"
      ]
     },
     "execution_count": 34,
     "metadata": {},
     "output_type": "execute_result"
    }
   ],
   "source": [
    "data.shape"
   ]
  },
  {
   "cell_type": "markdown",
   "metadata": {},
   "source": [
    "- we can see that they are the same\n",
    "- so the signal calculation process is correct\n",
    "\n",
    "\n",
    "- now let's plot the singal"
   ]
  },
  {
   "cell_type": "code",
   "execution_count": null,
   "metadata": {},
   "outputs": [
    {
     "data": {
      "image/png": "[encoded data removed]",
      "text/plain": [
       "<Figure size 1152x720 with 1 Axes>"
      ]
     },
     "metadata": {
      "needs_background": "light"
     },
     "output_type": "display_data"
    }
   ],
   "source": [
    "plt.figure(1, figsize=(16, 10))\n",
    "plt.plot(total_imb.values);"
   ]
  },
  {
   "cell_type": "markdown",
   "metadata": {},
   "source": [
    "- we only need the middle part of the signal\n",
    "- when using ewma, the first 1:(period-1) values are usually not good\n",
    "- that's because there are not enough data to get accurate result\n",
    "- when the period is large, it would make many data points useless\n",
    "- that's one of the reason why we add previous day's data to our data set\n",
    "\n",
    "\n",
    "- somebody argue that we can use normalized ewma\n",
    "- but that would make the calculation process more complicate\n",
    "- so here use simply add one more day's data instead\n",
    "\n",
    "\n",
    "- let's see the definition of ewma\n",
    "\n",
    "\n",
    "- ewma\n",
    "\n",
    "- we can see the formula we use and the filter coefficient\n",
    "- the values are similar to simple moving average\n",
    "- but the calculation is much faster"
   ]
  },
  {
   "cell_type": "code",
   "execution_count": 36,
   "metadata": {},
   "outputs": [
    {
     "data": {
      "text/plain": [
       "'\\n## exponentially weighted moving average\\newma <- function(x, halflife, init = 0) {\\n  ## S_t = lambda S_t-1 + (1 - lambda) X_t\\n  lambda <- 1 - 0.5^(1 / halflife)\\n  filter(lambda * x, filter = 1 - lambda,\\n                          method = \"recursive\", init = init)\\n}\\n'"
      ]
     },
     "execution_count": 36,
     "metadata": {},
     "output_type": "execute_result"
    }
   ],
   "source": [
    "'''\n",
    "## exponentially weighted moving average\n",
    "ewma <- function(x, halflife, init = 0) {\n",
    "  ## S_t = lambda S_t-1 + (1 - lambda) X_t\n",
    "  lambda <- 1 - 0.5^(1 / halflife)\n",
    "  filter(lambda * x, filter = 1 - lambda,\n",
    "                          method = \"recursive\", init = init)\n",
    "}\n",
    "'''"
   ]
  },
  {
   "cell_type": "markdown",
   "metadata": {},
   "source": [
    "- now we can the simple moving avergage"
   ]
  },
  {
   "cell_type": "code",
   "execution_count": 37,
   "metadata": {},
   "outputs": [],
   "source": [
    "sma = cum(imb, period) / period"
   ]
  },
  {
   "cell_type": "markdown",
   "metadata": {},
   "source": [
    "- check the coefficient of the two signals"
   ]
  },
  {
   "cell_type": "code",
   "execution_count": 38,
   "metadata": {},
   "outputs": [
    {
     "data": {
      "text/plain": [
       "array([[1.        , 0.83381315],\n",
       "       [0.83381315, 1.        ]])"
      ]
     },
     "execution_count": 38,
     "metadata": {},
     "output_type": "execute_result"
    }
   ],
   "source": [
    "np.corrcoef(sma[data[\"good\"]], total_imb[data[\"good\"]])\n",
    "##   0.83381315\n",
    "## so these two signals are highly correlated\n",
    "## but in practice ewma may be better than sma\n",
    "## because sma requries save the history of data\n",
    "## while ewma only needs to save the newest data\n",
    "## when computing sma we need to minus the first data and add the new data\n",
    "## so we need to save the history of 2048 data(here period is 2048)\n",
    "## it may be inefficient for high frequency trading"
   ]
  },
  {
   "cell_type": "markdown",
   "metadata": {},
   "source": [
    "- plot the useful part of the signal"
   ]
  },
  {
   "cell_type": "code",
   "execution_count": 39,
   "metadata": {},
   "outputs": [
    {
     "data": {
      "image/png": "[encoded data removed]",
      "text/plain": [
       "<Figure size 1152x720 with 1 Axes>"
      ]
     },
     "metadata": {
      "needs_background": "light"
     },
     "output_type": "display_data"
    }
   ],
   "source": [
    "plt.figure(1, figsize=(16, 10))\n",
    "plt.plot(total_imb[data[\"good\"]].values);\n",
    "## we can see that it's not very stationary"
   ]
  },
  {
   "cell_type": "markdown",
   "metadata": {},
   "source": [
    "- check correcness"
   ]
  },
  {
   "cell_type": "code",
   "execution_count": 40,
   "metadata": {},
   "outputs": [
    {
     "data": {
      "text/plain": [
       "0"
      ]
     },
     "execution_count": 40,
     "metadata": {},
     "output_type": "execute_result"
    }
   ],
   "source": [
    "sum(np.isnan(total_imb))\n",
    "## 0"
   ]
  },
  {
   "cell_type": "code",
   "execution_count": 41,
   "metadata": {},
   "outputs": [
    {
     "data": {
      "text/plain": [
       "-0.0029562735205810003"
      ]
     },
     "execution_count": 41,
     "metadata": {},
     "output_type": "execute_result"
    }
   ],
   "source": [
    "np.mean(total_imb)\n",
    "## [1] -0.0029562735205810003"
   ]
  },
  {
   "cell_type": "markdown",
   "metadata": {},
   "source": [
    "- now calcualte all the value of this signal"
   ]
  },
  {
   "cell_type": "code",
   "execution_count": 45,
   "metadata": {},
   "outputs": [],
   "source": [
    "import functools"
   ]
  },
  {
   "cell_type": "code",
   "execution_count": 69,
   "metadata": {},
   "outputs": [
    {
     "name": "stdout",
     "output_type": "stream",
     "text": [
      "Wall time: 25.3 s\n"
     ]
    }
   ],
   "source": [
    "\n",
    "%%time\n",
    "\n",
    "def get_trade_imb(file, product, period):\n",
    "    data = load(file)\n",
    "\n",
    "    imb = zero_divide(data[\"buy.trade\"] - data[\"sell.trade\"], data[\"buy.trade\"] + data[\"sell.trade\"])\n",
    "    total_imb = ewma(imb, period)\n",
    "    S = total_imb[data[\"good\"]].values\n",
    "    \n",
    "    save(S, HEAD_PATH+\"/tmp pkl/\"+product+\"/trade.imb.\"+str(period)+\"/\" + file[-12:])\n",
    "    \n",
    "\n",
    "with dask.config.set(scheduler='processes', num_workers=CORE_NUM):\n",
    "    f_par = functools.partial(get_trade_imb, product=product, period=period)\n",
    "    result = compute([delayed(f_par)(file) for file in good_night_list[\"file.path\"]])[0]"
   ]
  },
  {
   "cell_type": "markdown",
   "metadata": {},
   "source": [
    "- check the result"
   ]
  },
  {
   "cell_type": "code",
   "execution_count": 70,
   "metadata": {},
   "outputs": [
    {
     "data": {
      "image/png": "[encoded data removed]",
      "text/plain": [
       "<Figure size 1152x720 with 1 Axes>"
      ]
     },
     "metadata": {
      "needs_background": "light"
     },
     "output_type": "display_data"
    }
   ],
   "source": [
    "S = load(HEAD_PATH+\"/tmp pkl/j/trade.imb.2048/20180626.pkl\")\n",
    "\n",
    "plt.figure(1, figsize=(16, 10))\n",
    "plt.plot(S);"
   ]
  },
  {
   "cell_type": "markdown",
   "metadata": {},
   "source": [
    "- we can check the result"
   ]
  },
  {
   "cell_type": "code",
   "execution_count": 48,
   "metadata": {},
   "outputs": [
    {
     "data": {
      "text/plain": [
       "0"
      ]
     },
     "execution_count": 48,
     "metadata": {},
     "output_type": "execute_result"
    }
   ],
   "source": [
    "signal = ewma(imb, period)\n",
    "sum(S != signal[data[\"good\"]].values)\n",
    "## 0\n",
    "\n",
    "## so the calculation is correct\n",
    "## here we only save the values we need"
   ]
  },
  {
   "cell_type": "markdown",
   "metadata": {},
   "source": [
    "- now we can test the performance of this signal\n",
    "\n",
    "\n",
    "- we can extract the file names from their full names"
   ]
  },
  {
   "cell_type": "code",
   "execution_count": 49,
   "metadata": {},
   "outputs": [
    {
     "data": {
      "text/plain": [
       "array(['20151201.pkl', '20151202.pkl', '20151203.pkl', '20151204.pkl',\n",
       "       '20151207.pkl', '20151208.pkl'], dtype='<U12')"
      ]
     },
     "execution_count": 49,
     "metadata": {},
     "output_type": "execute_result"
    }
   ],
   "source": [
    "good_night_files = np.array([x[-12:] for x in good_night_list[\"file.path\"]])\n",
    "good_night_files[:6]\n",
    "## [1] \"20151201.RData\" \"20151202.RData\" \"20151203.RData\" \"20151204.RData\"\n",
    "## [5] \"20151207.RData\" \"20151208.RData\""
   ]
  },
  {
   "cell_type": "markdown",
   "metadata": {},
   "source": [
    "- we set the signal name"
   ]
  },
  {
   "cell_type": "code",
   "execution_count": 50,
   "metadata": {},
   "outputs": [],
   "source": [
    "signal_name = \"trade.imb.2048\""
   ]
  },
  {
   "cell_type": "markdown",
   "metadata": {},
   "source": [
    "- we can check the value range of the signal\n",
    "- for example, we choose one day every 10 days "
   ]
  },
  {
   "cell_type": "code",
   "execution_count": 51,
   "metadata": {},
   "outputs": [],
   "source": [
    "to_choose = (np.arange(n_good_night)+1) % 10 == 0"
   ]
  },
  {
   "cell_type": "code",
   "execution_count": 71,
   "metadata": {},
   "outputs": [],
   "source": [
    "all_signal = np.array([])\n",
    "for file in good_night_files[to_choose]:\n",
    "    S = load(HEAD_PATH+\"/tmp pkl/\"+product+\"/\"+signal_name+\"/\"+file)\n",
    "    all_signal = np.concatenate((all_signal, S), axis=0)"
   ]
  },
  {
   "cell_type": "markdown",
   "metadata": {},
   "source": [
    "- we can see the total number of all.signal"
   ]
  },
  {
   "cell_type": "code",
   "execution_count": 72,
   "metadata": {},
   "outputs": [
    {
     "data": {
      "text/plain": [
       "2103861"
      ]
     },
     "execution_count": 72,
     "metadata": {},
     "output_type": "execute_result"
    }
   ],
   "source": [
    "len(all_signal)\n",
    "## 2103861"
   ]
  },
  {
   "cell_type": "markdown",
   "metadata": {},
   "source": [
    "- we can see the plot of the signal"
   ]
  },
  {
   "cell_type": "code",
   "execution_count": 54,
   "metadata": {},
   "outputs": [
    {
     "data": {
      "image/png": "[encoded data removed]",
      "text/plain": [
       "<Figure size 1152x720 with 1 Axes>"
      ]
     },
     "metadata": {
      "needs_background": "light"
     },
     "output_type": "display_data"
    }
   ],
   "source": [
    "plt.figure(1, figsize=(16, 10))\n",
    "plt.plot(all_signal);\n",
    "## it's quite stationary as it appears"
   ]
  },
  {
   "cell_type": "markdown",
   "metadata": {},
   "source": [
    "- the signal is too long, we select portion of 1/period of it"
   ]
  },
  {
   "cell_type": "code",
   "execution_count": 55,
   "metadata": {},
   "outputs": [
    {
     "data": {
      "text/plain": [
       "1027"
      ]
     },
     "execution_count": 55,
     "metadata": {},
     "output_type": "execute_result"
    }
   ],
   "source": [
    "sample_signal = all_signal[np.arange(1,len(all_signal)+1)% period==0]\n",
    "len(sample_signal)\n",
    "#1027"
   ]
  },
  {
   "cell_type": "markdown",
   "metadata": {},
   "source": [
    "- we test whether the signal has unit root"
   ]
  },
  {
   "cell_type": "code",
   "execution_count": 56,
   "metadata": {},
   "outputs": [],
   "source": [
    "import statsmodels.tsa.stattools as ts"
   ]
  },
  {
   "cell_type": "code",
   "execution_count": 57,
   "metadata": {},
   "outputs": [
    {
     "data": {
      "text/plain": [
       "(-8.154328454975579,\n",
       " 3.1426099355023875e-11,\n",
       " 10,\n",
       " 1016,\n",
       " {'1%': -3.967708199092398,\n",
       "  '5%': -3.414820056748954,\n",
       "  '10%': -3.129598705580359})"
      ]
     },
     "execution_count": 57,
     "metadata": {},
     "output_type": "execute_result"
    }
   ],
   "source": [
    "result = ts.adfuller(sample_signal, maxlag=int(pow(len(sample_signal)-1,(1/3))), regression='ct', autolag=None)\n",
    "result\n",
    "# (-8.154328454975579,\n",
    "#  3.1426099355023875e-11,\n",
    "#  10,\n",
    "#  1016,\n",
    "#  {'1%': -3.967708199092398,\n",
    "#   '5%': -3.414820056748954,\n",
    "#   '10%': -3.129598705580359}\n",
    "\n",
    "## so it's stationary and is good for us\n",
    "## for adf.test, there are two results: stationary or explosive\n",
    "## explosive is bad and stationary is good"
   ]
  },
  {
   "cell_type": "markdown",
   "metadata": {},
   "source": [
    "- now we can get the range of the signal values\n",
    "- we can set the quantile points at frst"
   ]
  },
  {
   "cell_type": "code",
   "execution_count": 58,
   "metadata": {},
   "outputs": [],
   "source": [
    "quantile_ps = list(np.arange(1,5) * 0.01) + list(np.arange(5,20) * 0.05) + [0.96,0.97,0.98,0.99]"
   ]
  },
  {
   "cell_type": "markdown",
   "metadata": {},
   "source": [
    "- then at the quantile values"
   ]
  },
  {
   "cell_type": "code",
   "execution_count": 59,
   "metadata": {},
   "outputs": [
    {
     "data": {
      "text/plain": [
       "0.01   -0.078472\n",
       "0.02   -0.068325\n",
       "0.03   -0.061092\n",
       "0.04   -0.055831\n",
       "0.25   -0.023405\n",
       "0.30   -0.018834\n",
       "0.35   -0.014535\n",
       "0.40   -0.010552\n",
       "0.45   -0.006823\n",
       "0.50   -0.003132\n",
       "0.55    0.000324\n",
       "0.60    0.003674\n",
       "0.65    0.007271\n",
       "0.70    0.011187\n",
       "0.75    0.015761\n",
       "0.80    0.020598\n",
       "0.85    0.026385\n",
       "0.90    0.034097\n",
       "0.95    0.045561\n",
       "0.96    0.048632\n",
       "0.97    0.052184\n",
       "0.98    0.056687\n",
       "0.99    0.066518\n",
       "dtype: float64"
      ]
     },
     "execution_count": 59,
     "metadata": {},
     "output_type": "execute_result"
    }
   ],
   "source": [
    "pd.Series(all_signal).quantile(quantile_ps)\n",
    "# 0.01   -0.078472\n",
    "# 0.02   -0.068325\n",
    "# 0.03   -0.061092\n",
    "# 0.04   -0.055831\n",
    "# 0.25   -0.023405\n",
    "# 0.30   -0.018834\n",
    "# 0.35   -0.014535\n",
    "# 0.40   -0.010552\n",
    "# 0.45   -0.006823\n",
    "# 0.50   -0.003132\n",
    "# 0.55    0.000324\n",
    "# 0.60    0.003674\n",
    "# 0.65    0.007271\n",
    "# 0.70    0.011187\n",
    "# 0.75    0.015761\n",
    "# 0.80    0.020598\n",
    "# 0.85    0.026385\n",
    "# 0.90    0.034097\n",
    "# 0.95    0.045561\n",
    "# 0.96    0.048632\n",
    "# 0.97    0.052184\n",
    "# 0.98    0.056687\n",
    "# 0.99    0.066518"
   ]
  },
  {
   "cell_type": "markdown",
   "metadata": {},
   "source": [
    "- it seems the signal value leans to negative"
   ]
  },
  {
   "cell_type": "code",
   "execution_count": 60,
   "metadata": {},
   "outputs": [
    {
     "data": {
      "text/plain": [
       "-0.0037714251156076048"
      ]
     },
     "execution_count": 60,
     "metadata": {},
     "output_type": "execute_result"
    }
   ],
   "source": [
    "np.mean(all_signal)\n",
    "## -0.0037714251156076048"
   ]
  },
  {
   "cell_type": "code",
   "execution_count": 61,
   "metadata": {},
   "outputs": [
    {
     "data": {
      "text/plain": [
       "-0.0031317881619003164"
      ]
     },
     "execution_count": 61,
     "metadata": {},
     "output_type": "execute_result"
    }
   ],
   "source": [
    "np.median(all_signal)\n",
    "## -0.0031317881619003164"
   ]
  },
  {
   "cell_type": "markdown",
   "metadata": {},
   "source": [
    "- now we write the code to calcualte pnl accordign to week 1's code"
   ]
  },
  {
   "cell_type": "markdown",
   "metadata": {},
   "source": [
    "- we get a vector of open threshold"
   ]
  },
  {
   "cell_type": "code",
   "execution_count": 62,
   "metadata": {},
   "outputs": [
    {
     "data": {
      "text/plain": [
       "array([0.03044908, 0.03177713, 0.03317289, 0.03462175, 0.03625767,\n",
       "       0.03805103, 0.03994442, 0.04192011, 0.04399497, 0.04639052,\n",
       "       0.04906155, 0.0520916 , 0.05621452, 0.06300016, 0.07386922])"
      ]
     },
     "execution_count": 62,
     "metadata": {},
     "output_type": "execute_result"
    }
   ],
   "source": [
    "open_thre = np.quantile(abs(all_signal), np.arange(0.7, 0.98, 0.02))\n",
    "open_thre\n",
    "\n",
    "# array([0.03044908, 0.03177713, 0.03317289, 0.03462175, 0.03625767,\n",
    "#        0.03805103, 0.03994442, 0.04192011, 0.04399497, 0.04639052,\n",
    "#        0.04906155, 0.0520916 , 0.05621452, 0.06300016, 0.07386922])"
   ]
  },
  {
   "cell_type": "code",
   "execution_count": 63,
   "metadata": {},
   "outputs": [],
   "source": [
    "from collections import OrderedDict\n",
    "thre_mat = pd.DataFrame(data=OrderedDict([(\"open\", open_thre), (\"close\", -open_thre)]))"
   ]
  },
  {
   "cell_type": "code",
   "execution_count": 73,
   "metadata": {},
   "outputs": [],
   "source": [
    "from collections import OrderedDict\n",
    "def get_signal_pnl(file, product, signal_name, thre_mat, reverse=1, tranct=1.1e-4, HEAD_PATH=\"d:/intern\"):\n",
    "    ## load data\n",
    "    data = load(HEAD_PATH+\"/night pkl tick/\"+product+\"/\"+file)\n",
    "    data = data[data[\"good\"]]\n",
    "    #n_bar = len(data)\n",
    "    \n",
    "    ## load signal\n",
    "    S = load(HEAD_PATH+\"/tmp pkl/\"+product+\"/\"+signal_name+\"/\"+file)\n",
    "\n",
    "    ## we don't know the signal is positive correlated or negative correlated  \n",
    "    pred = S*reverse\n",
    "    #n_thre = len(thre_mat)\n",
    "    result = pd.DataFrame(data=OrderedDict([(\"open\", thre_mat[\"open\"].values), (\"close\", thre_mat[\"close\"].values),\n",
    "                               (\"num\", 0), (\"avg.pnl\", 0), (\"pnl\", 0)]), index=thre_mat.index)\n",
    "    \n",
    "    for thre in thre_mat.iterrows():\n",
    "        buy = pred>thre[1][\"open\"]\n",
    "        sell = pred<-thre[1][\"open\"]\n",
    "        signal = pd.Series(data=0, index=data.index)\n",
    "        position = signal.copy()\n",
    "        signal[buy] = 1\n",
    "        signal[sell] = -1\n",
    "        scratch = -thre[1][\"close\"]\n",
    "        position_pos = pd.Series(data=np.nan, index=data.index)\n",
    "        position_pos.iloc[0] = 0\n",
    "        position_pos[(signal==1) & (data[\"next.ask\"]>0) & (data[\"next.bid\"]>0)] = 1\n",
    "        position_pos[(pred< -scratch) & (data[\"next.bid\"]>0)] = 0\n",
    "        position_pos.ffill(inplace=True)\n",
    "        position_neg = pd.Series(data=np.nan, index=data.index)\n",
    "        position_neg.iloc[0] = 0\n",
    "        position_neg[(signal==-1) & (data[\"next.ask\"]>0) & (data[\"next.bid\"]>0)] = -1\n",
    "        position_neg[(pred> scratch) & (data[\"next.ask\"]>0)] = 0\n",
    "        position_neg.ffill(inplace=True)\n",
    "        position = position_pos + position_neg\n",
    "        #position[n_bar-1] = 0\n",
    "        position.iloc[0] = 0\n",
    "        position.iloc[-2:] = 0\n",
    "        change_pos = position - position.shift(1)\n",
    "        change_pos.iloc[0] = 0\n",
    "        change_base = pd.Series(data=0, index=data.index)\n",
    "        change_buy = change_pos>0\n",
    "        change_sell = change_pos<0\n",
    "        change_base[change_buy] = (data[\"ask\"][change_buy])*(1+tranct)\n",
    "        change_base[change_sell] = (data[\"bid\"][change_sell])*(1-tranct)\n",
    "        final_pnl = -sum(change_base*change_pos)\n",
    "\n",
    "        num = sum((position!=0) & (change_pos!=0))\n",
    "        \n",
    "        if num == 0:\n",
    "            avg_pnl = 0\n",
    "            final_pnl = 0\n",
    "            result.loc[thre[0], (\"num\", \"avg.pnl\", \"pnl\")] = (num, avg_pnl, final_pnl)\n",
    "            return result\n",
    "        else:\n",
    "            avg_pnl = np.divide(final_pnl, num)\n",
    "            result.loc[thre[0], (\"num\", \"avg.pnl\", \"pnl\")] = (num, avg_pnl, final_pnl)\n",
    "            \n",
    "    return result"
   ]
  },
  {
   "cell_type": "code",
   "execution_count": 74,
   "metadata": {},
   "outputs": [
    {
     "name": "stdout",
     "output_type": "stream",
     "text": [
      "Wall time: 1min 13s\n"
     ]
    }
   ],
   "source": [
    "%%time\n",
    "import functools\n",
    "with dask.config.set(scheduler='processes', num_workers=CORE_NUM):\n",
    "    f_par = functools.partial(get_signal_pnl, product=product, signal_name=signal_name, thre_mat=thre_mat)\n",
    "    result = compute([delayed(f_par)(file) for file in good_night_files])[0]"
   ]
  },
  {
   "cell_type": "code",
   "execution_count": 75,
   "metadata": {},
   "outputs": [
    {
     "data": {
      "text/html": [
       "<div>\n",
       "<style scoped>\n",
       "    .dataframe tbody tr th:only-of-type {\n",
       "        vertical-align: middle;\n",
       "    }\n",
       "\n",
       "    .dataframe tbody tr th {\n",
       "        vertical-align: top;\n",
       "    }\n",
       "\n",
       "    .dataframe thead th {\n",
       "        text-align: right;\n",
       "    }\n",
       "</style>\n",
       "<table border=\"1\" class=\"dataframe\">\n",
       "  <thead>\n",
       "    <tr style=\"text-align: right;\">\n",
       "      <th></th>\n",
       "      <th>open</th>\n",
       "      <th>close</th>\n",
       "      <th>num</th>\n",
       "      <th>avg.pnl</th>\n",
       "      <th>total.pnl</th>\n",
       "      <th>sharp</th>\n",
       "      <th>drawdown</th>\n",
       "      <th>max.drawdown</th>\n",
       "      <th>mar</th>\n",
       "    </tr>\n",
       "  </thead>\n",
       "  <tbody>\n",
       "    <tr>\n",
       "      <th>0</th>\n",
       "      <td>0.030449</td>\n",
       "      <td>-0.030449</td>\n",
       "      <td>1900</td>\n",
       "      <td>-1.712547</td>\n",
       "      <td>-3253.839630</td>\n",
       "      <td>-1.823500</td>\n",
       "      <td>3263.203835</td>\n",
       "      <td>3544.276855</td>\n",
       "      <td>-0.918055</td>\n",
       "    </tr>\n",
       "    <tr>\n",
       "      <th>1</th>\n",
       "      <td>0.031777</td>\n",
       "      <td>-0.031777</td>\n",
       "      <td>1829</td>\n",
       "      <td>-1.887196</td>\n",
       "      <td>-3451.681740</td>\n",
       "      <td>-1.929654</td>\n",
       "      <td>3461.045945</td>\n",
       "      <td>3722.619130</td>\n",
       "      <td>-0.927219</td>\n",
       "    </tr>\n",
       "    <tr>\n",
       "      <th>2</th>\n",
       "      <td>0.033173</td>\n",
       "      <td>-0.033173</td>\n",
       "      <td>1741</td>\n",
       "      <td>-1.776301</td>\n",
       "      <td>-3092.540605</td>\n",
       "      <td>-1.749958</td>\n",
       "      <td>3104.971090</td>\n",
       "      <td>3363.545265</td>\n",
       "      <td>-0.919429</td>\n",
       "    </tr>\n",
       "    <tr>\n",
       "      <th>3</th>\n",
       "      <td>0.034622</td>\n",
       "      <td>-0.034622</td>\n",
       "      <td>1634</td>\n",
       "      <td>-1.514133</td>\n",
       "      <td>-2474.092920</td>\n",
       "      <td>-1.477691</td>\n",
       "      <td>2546.703270</td>\n",
       "      <td>2765.281735</td>\n",
       "      <td>-0.894698</td>\n",
       "    </tr>\n",
       "    <tr>\n",
       "      <th>4</th>\n",
       "      <td>0.036258</td>\n",
       "      <td>-0.036258</td>\n",
       "      <td>1528</td>\n",
       "      <td>-1.450823</td>\n",
       "      <td>-2216.857425</td>\n",
       "      <td>-1.333416</td>\n",
       "      <td>2321.827540</td>\n",
       "      <td>2553.397325</td>\n",
       "      <td>-0.868199</td>\n",
       "    </tr>\n",
       "    <tr>\n",
       "      <th>5</th>\n",
       "      <td>0.038051</td>\n",
       "      <td>-0.038051</td>\n",
       "      <td>1422</td>\n",
       "      <td>-1.625671</td>\n",
       "      <td>-2311.704240</td>\n",
       "      <td>-1.418570</td>\n",
       "      <td>2330.679555</td>\n",
       "      <td>2594.873860</td>\n",
       "      <td>-0.890873</td>\n",
       "    </tr>\n",
       "    <tr>\n",
       "      <th>6</th>\n",
       "      <td>0.039944</td>\n",
       "      <td>-0.039944</td>\n",
       "      <td>1334</td>\n",
       "      <td>-1.832335</td>\n",
       "      <td>-2444.335070</td>\n",
       "      <td>-1.524837</td>\n",
       "      <td>2457.310825</td>\n",
       "      <td>2672.157560</td>\n",
       "      <td>-0.914742</td>\n",
       "    </tr>\n",
       "    <tr>\n",
       "      <th>7</th>\n",
       "      <td>0.041920</td>\n",
       "      <td>-0.041920</td>\n",
       "      <td>1235</td>\n",
       "      <td>-1.544949</td>\n",
       "      <td>-1908.011410</td>\n",
       "      <td>-1.225630</td>\n",
       "      <td>1919.069990</td>\n",
       "      <td>2163.496350</td>\n",
       "      <td>-0.881911</td>\n",
       "    </tr>\n",
       "    <tr>\n",
       "      <th>8</th>\n",
       "      <td>0.043995</td>\n",
       "      <td>-0.043995</td>\n",
       "      <td>1135</td>\n",
       "      <td>-1.820525</td>\n",
       "      <td>-2066.295700</td>\n",
       "      <td>-1.377372</td>\n",
       "      <td>2076.131535</td>\n",
       "      <td>2153.194805</td>\n",
       "      <td>-0.959642</td>\n",
       "    </tr>\n",
       "    <tr>\n",
       "      <th>9</th>\n",
       "      <td>0.046391</td>\n",
       "      <td>-0.046391</td>\n",
       "      <td>1042</td>\n",
       "      <td>-2.006497</td>\n",
       "      <td>-2090.769755</td>\n",
       "      <td>-1.424309</td>\n",
       "      <td>2098.519135</td>\n",
       "      <td>2143.585595</td>\n",
       "      <td>-0.975361</td>\n",
       "    </tr>\n",
       "    <tr>\n",
       "      <th>10</th>\n",
       "      <td>0.049062</td>\n",
       "      <td>-0.049062</td>\n",
       "      <td>933</td>\n",
       "      <td>-1.900589</td>\n",
       "      <td>-1773.249590</td>\n",
       "      <td>-1.249017</td>\n",
       "      <td>1779.113410</td>\n",
       "      <td>1779.113410</td>\n",
       "      <td>-0.996704</td>\n",
       "    </tr>\n",
       "    <tr>\n",
       "      <th>11</th>\n",
       "      <td>0.052092</td>\n",
       "      <td>-0.052092</td>\n",
       "      <td>819</td>\n",
       "      <td>-2.206013</td>\n",
       "      <td>-1806.724460</td>\n",
       "      <td>-1.354992</td>\n",
       "      <td>1812.512895</td>\n",
       "      <td>1827.083390</td>\n",
       "      <td>-0.988857</td>\n",
       "    </tr>\n",
       "    <tr>\n",
       "      <th>12</th>\n",
       "      <td>0.056215</td>\n",
       "      <td>-0.056215</td>\n",
       "      <td>696</td>\n",
       "      <td>-2.366394</td>\n",
       "      <td>-1647.009885</td>\n",
       "      <td>-1.300357</td>\n",
       "      <td>1669.335270</td>\n",
       "      <td>1757.353045</td>\n",
       "      <td>-0.937211</td>\n",
       "    </tr>\n",
       "    <tr>\n",
       "      <th>13</th>\n",
       "      <td>0.063000</td>\n",
       "      <td>-0.063000</td>\n",
       "      <td>504</td>\n",
       "      <td>-2.595273</td>\n",
       "      <td>-1308.017615</td>\n",
       "      <td>-1.262075</td>\n",
       "      <td>1338.940425</td>\n",
       "      <td>1338.940425</td>\n",
       "      <td>-0.976905</td>\n",
       "    </tr>\n",
       "    <tr>\n",
       "      <th>14</th>\n",
       "      <td>0.073869</td>\n",
       "      <td>-0.073869</td>\n",
       "      <td>314</td>\n",
       "      <td>-2.725780</td>\n",
       "      <td>-855.894815</td>\n",
       "      <td>-1.123829</td>\n",
       "      <td>907.601390</td>\n",
       "      <td>911.954225</td>\n",
       "      <td>-0.938528</td>\n",
       "    </tr>\n",
       "  </tbody>\n",
       "</table>\n",
       "</div>"
      ],
      "text/plain": [
       "        open     close   num   avg.pnl    total.pnl     sharp     drawdown  \\\n",
       "0   0.030449 -0.030449  1900 -1.712547 -3253.839630 -1.823500  3263.203835   \n",
       "1   0.031777 -0.031777  1829 -1.887196 -3451.681740 -1.929654  3461.045945   \n",
       "2   0.033173 -0.033173  1741 -1.776301 -3092.540605 -1.749958  3104.971090   \n",
       "3   0.034622 -0.034622  1634 -1.514133 -2474.092920 -1.477691  2546.703270   \n",
       "4   0.036258 -0.036258  1528 -1.450823 -2216.857425 -1.333416  2321.827540   \n",
       "5   0.038051 -0.038051  1422 -1.625671 -2311.704240 -1.418570  2330.679555   \n",
       "6   0.039944 -0.039944  1334 -1.832335 -2444.335070 -1.524837  2457.310825   \n",
       "7   0.041920 -0.041920  1235 -1.544949 -1908.011410 -1.225630  1919.069990   \n",
       "8   0.043995 -0.043995  1135 -1.820525 -2066.295700 -1.377372  2076.131535   \n",
       "9   0.046391 -0.046391  1042 -2.006497 -2090.769755 -1.424309  2098.519135   \n",
       "10  0.049062 -0.049062   933 -1.900589 -1773.249590 -1.249017  1779.113410   \n",
       "11  0.052092 -0.052092   819 -2.206013 -1806.724460 -1.354992  1812.512895   \n",
       "12  0.056215 -0.056215   696 -2.366394 -1647.009885 -1.300357  1669.335270   \n",
       "13  0.063000 -0.063000   504 -2.595273 -1308.017615 -1.262075  1338.940425   \n",
       "14  0.073869 -0.073869   314 -2.725780  -855.894815 -1.123829   907.601390   \n",
       "\n",
       "    max.drawdown       mar  \n",
       "0    3544.276855 -0.918055  \n",
       "1    3722.619130 -0.927219  \n",
       "2    3363.545265 -0.919429  \n",
       "3    2765.281735 -0.894698  \n",
       "4    2553.397325 -0.868199  \n",
       "5    2594.873860 -0.890873  \n",
       "6    2672.157560 -0.914742  \n",
       "7    2163.496350 -0.881911  \n",
       "8    2153.194805 -0.959642  \n",
       "9    2143.585595 -0.975361  \n",
       "10   1779.113410 -0.996704  \n",
       "11   1827.083390 -0.988857  \n",
       "12   1757.353045 -0.937211  \n",
       "13   1338.940425 -0.976905  \n",
       "14    911.954225 -0.938528  "
      ]
     },
     "execution_count": 75,
     "metadata": {},
     "output_type": "execute_result"
    }
   ],
   "source": [
    "trade_stat = get_hft_summary(result, thre_mat, n_good_night)\n",
    "trade_stat[\"final.result\"]\n",
    "\n",
    "#  \topen \tclose \tnum \tavg.pnl \ttotal.pnl \tsharp \tdrawdown \tmax.drawdown \tmar\n",
    "# 0 \t0.030449 \t-0.030449 \t1900 \t-1.712547 \t-3253.839630 \t-1.823500 \t3263.203835 \t3544.276855 \t-0.918055\n",
    "# 1 \t0.031777 \t-0.031777 \t1829 \t-1.887196 \t-3451.681740 \t-1.929654 \t3461.045945 \t3722.619130 \t-0.927219\n",
    "# 2 \t0.033173 \t-0.033173 \t1741 \t-1.776301 \t-3092.540605 \t-1.749958 \t3104.971090 \t3363.545265 \t-0.919429\n",
    "# 3 \t0.034622 \t-0.034622 \t1634 \t-1.514133 \t-2474.092920 \t-1.477691 \t2546.703270 \t2765.281735 \t-0.894698\n",
    "# 4 \t0.036258 \t-0.036258 \t1528 \t-1.450823 \t-2216.857425 \t-1.333416 \t2321.827540 \t2553.397325 \t-0.868199\n",
    "# 5 \t0.038051 \t-0.038051 \t1422 \t-1.625671 \t-2311.704240 \t-1.418570 \t2330.679555 \t2594.873860 \t-0.890873\n",
    "# 6 \t0.039944 \t-0.039944 \t1334 \t-1.832335 \t-2444.335070 \t-1.524837 \t2457.310825 \t2672.157560 \t-0.914742\n",
    "# 7 \t0.041920 \t-0.041920 \t1235 \t-1.544949 \t-1908.011410 \t-1.225630 \t1919.069990 \t2163.496350 \t-0.881911\n",
    "# 8 \t0.043995 \t-0.043995 \t1135 \t-1.820525 \t-2066.295700 \t-1.377372 \t2076.131535 \t2153.194805 \t-0.959642\n",
    "# 9 \t0.046391 \t-0.046391 \t1042 \t-2.006497 \t-2090.769755 \t-1.424309 \t2098.519135 \t2143.585595 \t-0.975361\n",
    "# 10 \t0.049062 \t-0.049062 \t933 \t-1.900589 \t-1773.249590 \t-1.249017 \t1779.113410 \t1779.113410 \t-0.996704\n",
    "# 11 \t0.052092 \t-0.052092 \t819 \t-2.206013 \t-1806.724460 \t-1.354992 \t1812.512895 \t1827.083390 \t-0.988857\n",
    "# 12 \t0.056215 \t-0.056215 \t696 \t-2.366394 \t-1647.009885 \t-1.300357 \t1669.335270 \t1757.353045 \t-0.937211\n",
    "# 13 \t0.063000 \t-0.063000 \t504 \t-2.595273 \t-1308.017615 \t-1.262075 \t1338.940425 \t1338.940425 \t-0.976905\n",
    "# 14 \t0.073869 \t-0.073869 \t314 \t-2.725780 \t-855.894815 \t-1.123829 \t907.601390 \t911.954225 \t-0.938528\n",
    "\n",
    "## the result is VERY BAD!!!\n",
    "## but we can see that the avg.pnl is about -1 and -2 \n",
    "## for j one tick is 0.5, so avg.pnl is about -2 to -4 ticks"
   ]
  },
  {
   "cell_type": "markdown",
   "metadata": {},
   "source": [
    "- so if we reverse the direction of trades it would be profitable\n",
    "- let's do it\n",
    "\n",
    "\n",
    "- we set the reverse to be -1"
   ]
  },
  {
   "cell_type": "code",
   "execution_count": 76,
   "metadata": {},
   "outputs": [
    {
     "name": "stdout",
     "output_type": "stream",
     "text": [
      "Wall time: 1min 53s\n"
     ]
    }
   ],
   "source": [
    "%%time\n",
    "import functools\n",
    "with dask.config.set(scheduler='processes', num_workers=CORE_NUM):\n",
    "    f_par = functools.partial(get_signal_pnl, product=product, signal_name=signal_name, thre_mat=thre_mat, reverse=-1)\n",
    "    reverse_result = compute([delayed(f_par)(file) for file in good_night_files])[0]"
   ]
  },
  {
   "cell_type": "markdown",
   "metadata": {},
   "source": [
    "- now we get the reuslt"
   ]
  },
  {
   "cell_type": "code",
   "execution_count": 77,
   "metadata": {},
   "outputs": [
    {
     "data": {
      "text/html": [
       "<div>\n",
       "<style scoped>\n",
       "    .dataframe tbody tr th:only-of-type {\n",
       "        vertical-align: middle;\n",
       "    }\n",
       "\n",
       "    .dataframe tbody tr th {\n",
       "        vertical-align: top;\n",
       "    }\n",
       "\n",
       "    .dataframe thead th {\n",
       "        text-align: right;\n",
       "    }\n",
       "</style>\n",
       "<table border=\"1\" class=\"dataframe\">\n",
       "  <thead>\n",
       "    <tr style=\"text-align: right;\">\n",
       "      <th></th>\n",
       "      <th>open</th>\n",
       "      <th>close</th>\n",
       "      <th>num</th>\n",
       "      <th>avg.pnl</th>\n",
       "      <th>total.pnl</th>\n",
       "      <th>sharp</th>\n",
       "      <th>drawdown</th>\n",
       "      <th>max.drawdown</th>\n",
       "      <th>mar</th>\n",
       "    </tr>\n",
       "  </thead>\n",
       "  <tbody>\n",
       "    <tr>\n",
       "      <th>0</th>\n",
       "      <td>0.030449</td>\n",
       "      <td>-0.030449</td>\n",
       "      <td>1900</td>\n",
       "      <td>-0.337284</td>\n",
       "      <td>-640.840400</td>\n",
       "      <td>-0.360339</td>\n",
       "      <td>772.750915</td>\n",
       "      <td>1220.920210</td>\n",
       "      <td>-0.524883</td>\n",
       "    </tr>\n",
       "    <tr>\n",
       "      <th>1</th>\n",
       "      <td>0.031777</td>\n",
       "      <td>-0.031777</td>\n",
       "      <td>1829</td>\n",
       "      <td>-0.146900</td>\n",
       "      <td>-268.679980</td>\n",
       "      <td>-0.150732</td>\n",
       "      <td>659.420760</td>\n",
       "      <td>1067.992660</td>\n",
       "      <td>-0.251575</td>\n",
       "    </tr>\n",
       "    <tr>\n",
       "      <th>2</th>\n",
       "      <td>0.033173</td>\n",
       "      <td>-0.033173</td>\n",
       "      <td>1741</td>\n",
       "      <td>-0.256196</td>\n",
       "      <td>-446.037690</td>\n",
       "      <td>-0.252769</td>\n",
       "      <td>699.338550</td>\n",
       "      <td>1274.635595</td>\n",
       "      <td>-0.349933</td>\n",
       "    </tr>\n",
       "    <tr>\n",
       "      <th>3</th>\n",
       "      <td>0.034622</td>\n",
       "      <td>-0.034622</td>\n",
       "      <td>1634</td>\n",
       "      <td>-0.527289</td>\n",
       "      <td>-861.590445</td>\n",
       "      <td>-0.513906</td>\n",
       "      <td>991.794260</td>\n",
       "      <td>1300.124890</td>\n",
       "      <td>-0.662698</td>\n",
       "    </tr>\n",
       "    <tr>\n",
       "      <th>4</th>\n",
       "      <td>0.036258</td>\n",
       "      <td>-0.036258</td>\n",
       "      <td>1528</td>\n",
       "      <td>-0.574513</td>\n",
       "      <td>-877.855995</td>\n",
       "      <td>-0.527254</td>\n",
       "      <td>1077.939045</td>\n",
       "      <td>1612.008250</td>\n",
       "      <td>-0.544573</td>\n",
       "    </tr>\n",
       "    <tr>\n",
       "      <th>5</th>\n",
       "      <td>0.038051</td>\n",
       "      <td>-0.038051</td>\n",
       "      <td>1422</td>\n",
       "      <td>-0.413293</td>\n",
       "      <td>-587.702260</td>\n",
       "      <td>-0.359592</td>\n",
       "      <td>867.116540</td>\n",
       "      <td>1219.018645</td>\n",
       "      <td>-0.482111</td>\n",
       "    </tr>\n",
       "    <tr>\n",
       "      <th>6</th>\n",
       "      <td>0.039944</td>\n",
       "      <td>-0.039944</td>\n",
       "      <td>1334</td>\n",
       "      <td>-0.206022</td>\n",
       "      <td>-274.833475</td>\n",
       "      <td>-0.170974</td>\n",
       "      <td>562.835720</td>\n",
       "      <td>964.558555</td>\n",
       "      <td>-0.284932</td>\n",
       "    </tr>\n",
       "    <tr>\n",
       "      <th>7</th>\n",
       "      <td>0.041920</td>\n",
       "      <td>-0.041920</td>\n",
       "      <td>1235</td>\n",
       "      <td>-0.484220</td>\n",
       "      <td>-598.011850</td>\n",
       "      <td>-0.382763</td>\n",
       "      <td>889.717705</td>\n",
       "      <td>1041.980780</td>\n",
       "      <td>-0.573918</td>\n",
       "    </tr>\n",
       "    <tr>\n",
       "      <th>8</th>\n",
       "      <td>0.043995</td>\n",
       "      <td>-0.043995</td>\n",
       "      <td>1135</td>\n",
       "      <td>-0.203783</td>\n",
       "      <td>-231.293940</td>\n",
       "      <td>-0.153581</td>\n",
       "      <td>643.876630</td>\n",
       "      <td>983.668360</td>\n",
       "      <td>-0.235134</td>\n",
       "    </tr>\n",
       "    <tr>\n",
       "      <th>9</th>\n",
       "      <td>0.046391</td>\n",
       "      <td>-0.046391</td>\n",
       "      <td>1042</td>\n",
       "      <td>-0.019931</td>\n",
       "      <td>-20.768545</td>\n",
       "      <td>-0.014089</td>\n",
       "      <td>507.390005</td>\n",
       "      <td>1069.862380</td>\n",
       "      <td>-0.019412</td>\n",
       "    </tr>\n",
       "    <tr>\n",
       "      <th>10</th>\n",
       "      <td>0.049062</td>\n",
       "      <td>-0.049062</td>\n",
       "      <td>933</td>\n",
       "      <td>-0.141746</td>\n",
       "      <td>-132.249260</td>\n",
       "      <td>-0.092831</td>\n",
       "      <td>406.305620</td>\n",
       "      <td>966.862945</td>\n",
       "      <td>-0.136782</td>\n",
       "    </tr>\n",
       "    <tr>\n",
       "      <th>11</th>\n",
       "      <td>0.052092</td>\n",
       "      <td>-0.052092</td>\n",
       "      <td>819</td>\n",
       "      <td>0.165784</td>\n",
       "      <td>135.777465</td>\n",
       "      <td>0.101433</td>\n",
       "      <td>166.657585</td>\n",
       "      <td>848.650385</td>\n",
       "      <td>0.159992</td>\n",
       "    </tr>\n",
       "    <tr>\n",
       "      <th>12</th>\n",
       "      <td>0.056215</td>\n",
       "      <td>-0.056215</td>\n",
       "      <td>696</td>\n",
       "      <td>0.325420</td>\n",
       "      <td>226.492260</td>\n",
       "      <td>0.178117</td>\n",
       "      <td>155.482500</td>\n",
       "      <td>909.171385</td>\n",
       "      <td>0.249119</td>\n",
       "    </tr>\n",
       "    <tr>\n",
       "      <th>13</th>\n",
       "      <td>0.063000</td>\n",
       "      <td>-0.063000</td>\n",
       "      <td>504</td>\n",
       "      <td>0.571400</td>\n",
       "      <td>287.985465</td>\n",
       "      <td>0.278173</td>\n",
       "      <td>37.337360</td>\n",
       "      <td>696.807615</td>\n",
       "      <td>0.413293</td>\n",
       "    </tr>\n",
       "    <tr>\n",
       "      <th>14</th>\n",
       "      <td>0.073869</td>\n",
       "      <td>-0.073869</td>\n",
       "      <td>314</td>\n",
       "      <td>0.732825</td>\n",
       "      <td>230.106945</td>\n",
       "      <td>0.302216</td>\n",
       "      <td>115.767145</td>\n",
       "      <td>448.979390</td>\n",
       "      <td>0.512511</td>\n",
       "    </tr>\n",
       "  </tbody>\n",
       "</table>\n",
       "</div>"
      ],
      "text/plain": [
       "        open     close   num   avg.pnl   total.pnl     sharp     drawdown  \\\n",
       "0   0.030449 -0.030449  1900 -0.337284 -640.840400 -0.360339   772.750915   \n",
       "1   0.031777 -0.031777  1829 -0.146900 -268.679980 -0.150732   659.420760   \n",
       "2   0.033173 -0.033173  1741 -0.256196 -446.037690 -0.252769   699.338550   \n",
       "3   0.034622 -0.034622  1634 -0.527289 -861.590445 -0.513906   991.794260   \n",
       "4   0.036258 -0.036258  1528 -0.574513 -877.855995 -0.527254  1077.939045   \n",
       "5   0.038051 -0.038051  1422 -0.413293 -587.702260 -0.359592   867.116540   \n",
       "6   0.039944 -0.039944  1334 -0.206022 -274.833475 -0.170974   562.835720   \n",
       "7   0.041920 -0.041920  1235 -0.484220 -598.011850 -0.382763   889.717705   \n",
       "8   0.043995 -0.043995  1135 -0.203783 -231.293940 -0.153581   643.876630   \n",
       "9   0.046391 -0.046391  1042 -0.019931  -20.768545 -0.014089   507.390005   \n",
       "10  0.049062 -0.049062   933 -0.141746 -132.249260 -0.092831   406.305620   \n",
       "11  0.052092 -0.052092   819  0.165784  135.777465  0.101433   166.657585   \n",
       "12  0.056215 -0.056215   696  0.325420  226.492260  0.178117   155.482500   \n",
       "13  0.063000 -0.063000   504  0.571400  287.985465  0.278173    37.337360   \n",
       "14  0.073869 -0.073869   314  0.732825  230.106945  0.302216   115.767145   \n",
       "\n",
       "    max.drawdown       mar  \n",
       "0    1220.920210 -0.524883  \n",
       "1    1067.992660 -0.251575  \n",
       "2    1274.635595 -0.349933  \n",
       "3    1300.124890 -0.662698  \n",
       "4    1612.008250 -0.544573  \n",
       "5    1219.018645 -0.482111  \n",
       "6     964.558555 -0.284932  \n",
       "7    1041.980780 -0.573918  \n",
       "8     983.668360 -0.235134  \n",
       "9    1069.862380 -0.019412  \n",
       "10    966.862945 -0.136782  \n",
       "11    848.650385  0.159992  \n",
       "12    909.171385  0.249119  \n",
       "13    696.807615  0.413293  \n",
       "14    448.979390  0.512511  "
      ]
     },
     "execution_count": 77,
     "metadata": {},
     "output_type": "execute_result"
    }
   ],
   "source": [
    "reverse_trade_stat = get_hft_summary(reverse_result, thre_mat, n_good_night)\n",
    "reverse_trade_stat[\"final.result\"]\n",
    "\n",
    "# open \tclose \tnum \tavg.pnl \ttotal.pnl \tsharp \tdrawdown \tmax.drawdown \tmar\n",
    "# 0 \t0.030449 \t-0.030449 \t1900 \t-0.337284 \t-640.840400 \t-0.360339 \t772.750915 \t1220.920210 \t-0.524883\n",
    "# 1 \t0.031777 \t-0.031777 \t1829 \t-0.146900 \t-268.679980 \t-0.150732 \t659.420760 \t1067.992660 \t-0.251575\n",
    "# 2 \t0.033173 \t-0.033173 \t1741 \t-0.256196 \t-446.037690 \t-0.252769 \t699.338550 \t1274.635595 \t-0.349933\n",
    "# 3 \t0.034622 \t-0.034622 \t1634 \t-0.527289 \t-861.590445 \t-0.513906 \t991.794260 \t1300.124890 \t-0.662698\n",
    "# 4 \t0.036258 \t-0.036258 \t1528 \t-0.574513 \t-877.855995 \t-0.527254 \t1077.939045 \t1612.008250 \t-0.544573\n",
    "# 5 \t0.038051 \t-0.038051 \t1422 \t-0.413293 \t-587.702260 \t-0.359592 \t867.116540 \t1219.018645 \t-0.482111\n",
    "# 6 \t0.039944 \t-0.039944 \t1334 \t-0.206022 \t-274.833475 \t-0.170974 \t562.835720 \t964.558555 \t-0.284932\n",
    "# 7 \t0.041920 \t-0.041920 \t1235 \t-0.484220 \t-598.011850 \t-0.382763 \t889.717705 \t1041.980780 \t-0.573918\n",
    "# 8 \t0.043995 \t-0.043995 \t1135 \t-0.203783 \t-231.293940 \t-0.153581 \t643.876630 \t983.668360 \t-0.235134\n",
    "# 9 \t0.046391 \t-0.046391 \t1042 \t-0.019931 \t-20.768545 \t-0.014089 \t507.390005 \t1069.862380 \t-0.019412\n",
    "# 10 \t0.049062 \t-0.049062 \t933 \t-0.141746 \t-132.249260 \t-0.092831 \t406.305620 \t966.862945 \t-0.136782\n",
    "# 11 \t0.052092 \t-0.052092 \t819 \t0.165784 \t135.777465 \t0.101433 \t166.657585 \t848.650385 \t0.159992\n",
    "# 12 \t0.056215 \t-0.056215 \t696 \t0.325420 \t226.492260 \t0.178117 \t155.482500 \t909.171385 \t0.249119\n",
    "# 13 \t0.063000 \t-0.063000 \t504 \t0.571400 \t287.985465 \t0.278173 \t37.337360 \t696.807615 \t0.413293\n",
    "# 14 \t0.073869 \t-0.073869 \t314 \t0.732825 \t230.106945 \t0.302216 \t115.767145 \t448.979390 \t0.512511\n",
    "## now we can see that it's much better"
   ]
  },
  {
   "cell_type": "markdown",
   "metadata": {},
   "source": [
    "- now let's explain the meaning of each column\n",
    "- open: open threshold\n",
    "- close: close threshold, here it's the same as open threshold\n",
    "- num: number of trades, one open + one close = one trade\n",
    "- avg.pnl: average pnl of each trade, its unit is price point\n",
    "- total.pnl: total pnl of the strategy\n",
    "- sharpe: sharpe rato of the strategy\n",
    "- drawdown: recent drawdown\n",
    "- max.drawdon: maximum drawdown\n",
    "- mar: total.pnl/max.drawdown"
   ]
  },
  {
   "cell_type": "markdown",
   "metadata": {},
   "source": [
    "- number of strategies"
   ]
  },
  {
   "cell_type": "code",
   "execution_count": 78,
   "metadata": {},
   "outputs": [
    {
     "data": {
      "text/plain": [
       "15"
      ]
     },
     "execution_count": 78,
     "metadata": {},
     "output_type": "execute_result"
    }
   ],
   "source": [
    "n_thre = len(thre_mat)\n",
    "n_thre"
   ]
  },
  {
   "cell_type": "markdown",
   "metadata": {},
   "source": [
    "- ratio of profitable strategies"
   ]
  },
  {
   "cell_type": "code",
   "execution_count": 79,
   "metadata": {},
   "outputs": [
    {
     "data": {
      "text/plain": [
       "0.26666666666666666"
      ]
     },
     "execution_count": 79,
     "metadata": {},
     "output_type": "execute_result"
    }
   ],
   "source": [
    "sum(reverse_trade_stat[\"final.result\"][\"total.pnl\"]>0)/n_thre\n",
    "## 0.26666666666666666"
   ]
  },
  {
   "cell_type": "markdown",
   "metadata": {},
   "source": [
    "- so only a few of the strategies are profitable\n",
    "- we can change the threshold so that it does not depend on the values "
   ]
  },
  {
   "cell_type": "code",
   "execution_count": 104,
   "metadata": {},
   "outputs": [],
   "source": [
    "open_thre = np.arange(0.05, 0.102, 0.002)\n",
    "thre_mat = pd.DataFrame(data=OrderedDict([(\"open\", open_thre), (\"close\", -open_thre)]))"
   ]
  },
  {
   "cell_type": "code",
   "execution_count": 105,
   "metadata": {},
   "outputs": [
    {
     "name": "stdout",
     "output_type": "stream",
     "text": [
      "Wall time: 1min 12s\n"
     ]
    }
   ],
   "source": [
    "%%time\n",
    "import functools\n",
    "with dask.config.set(scheduler='processes', num_workers=CORE_NUM):\n",
    "    f_par = functools.partial(get_signal_pnl, product=product, signal_name=signal_name, thre_mat=thre_mat, reverse=-1)\n",
    "    reverse_result = compute([delayed(f_par)(file) for file in good_night_files])[0]"
   ]
  },
  {
   "cell_type": "markdown",
   "metadata": {},
   "source": [
    "- for example we care about the average pnl"
   ]
  },
  {
   "cell_type": "code",
   "execution_count": 106,
   "metadata": {},
   "outputs": [],
   "source": [
    "reverse_trade_stat = get_hft_summary(reverse_result, thre_mat, n_good_night)\n",
    "\n",
    "good_strat = reverse_trade_stat[\"final.result\"][\"avg.pnl\"]>2"
   ]
  },
  {
   "cell_type": "markdown",
   "metadata": {},
   "source": [
    "- let's wee the result"
   ]
  },
  {
   "cell_type": "code",
   "execution_count": 107,
   "metadata": {},
   "outputs": [
    {
     "data": {
      "text/html": [
       "<div>\n",
       "<style scoped>\n",
       "    .dataframe tbody tr th:only-of-type {\n",
       "        vertical-align: middle;\n",
       "    }\n",
       "\n",
       "    .dataframe tbody tr th {\n",
       "        vertical-align: top;\n",
       "    }\n",
       "\n",
       "    .dataframe thead th {\n",
       "        text-align: right;\n",
       "    }\n",
       "</style>\n",
       "<table border=\"1\" class=\"dataframe\">\n",
       "  <thead>\n",
       "    <tr style=\"text-align: right;\">\n",
       "      <th></th>\n",
       "      <th>open</th>\n",
       "      <th>close</th>\n",
       "      <th>num</th>\n",
       "      <th>avg.pnl</th>\n",
       "      <th>total.pnl</th>\n",
       "      <th>sharp</th>\n",
       "      <th>drawdown</th>\n",
       "      <th>max.drawdown</th>\n",
       "      <th>mar</th>\n",
       "    </tr>\n",
       "  </thead>\n",
       "  <tbody>\n",
       "    <tr>\n",
       "      <th>15</th>\n",
       "      <td>0.080</td>\n",
       "      <td>-0.080</td>\n",
       "      <td>228</td>\n",
       "      <td>2.144018</td>\n",
       "      <td>488.836105</td>\n",
       "      <td>0.757148</td>\n",
       "      <td>33.120700</td>\n",
       "      <td>311.265260</td>\n",
       "      <td>1.570481</td>\n",
       "    </tr>\n",
       "    <tr>\n",
       "      <th>16</th>\n",
       "      <td>0.082</td>\n",
       "      <td>-0.082</td>\n",
       "      <td>207</td>\n",
       "      <td>2.642581</td>\n",
       "      <td>547.014265</td>\n",
       "      <td>0.869728</td>\n",
       "      <td>89.586095</td>\n",
       "      <td>261.579190</td>\n",
       "      <td>2.091199</td>\n",
       "    </tr>\n",
       "    <tr>\n",
       "      <th>17</th>\n",
       "      <td>0.084</td>\n",
       "      <td>-0.084</td>\n",
       "      <td>191</td>\n",
       "      <td>2.829483</td>\n",
       "      <td>540.431220</td>\n",
       "      <td>0.895798</td>\n",
       "      <td>87.586315</td>\n",
       "      <td>270.524800</td>\n",
       "      <td>1.997714</td>\n",
       "    </tr>\n",
       "    <tr>\n",
       "      <th>18</th>\n",
       "      <td>0.086</td>\n",
       "      <td>-0.086</td>\n",
       "      <td>175</td>\n",
       "      <td>3.047082</td>\n",
       "      <td>533.239325</td>\n",
       "      <td>0.904975</td>\n",
       "      <td>64.565410</td>\n",
       "      <td>266.025295</td>\n",
       "      <td>2.004469</td>\n",
       "    </tr>\n",
       "    <tr>\n",
       "      <th>19</th>\n",
       "      <td>0.088</td>\n",
       "      <td>-0.088</td>\n",
       "      <td>154</td>\n",
       "      <td>3.035239</td>\n",
       "      <td>467.426835</td>\n",
       "      <td>0.830829</td>\n",
       "      <td>28.537575</td>\n",
       "      <td>263.369465</td>\n",
       "      <td>1.774795</td>\n",
       "    </tr>\n",
       "    <tr>\n",
       "      <th>20</th>\n",
       "      <td>0.090</td>\n",
       "      <td>-0.090</td>\n",
       "      <td>138</td>\n",
       "      <td>4.372840</td>\n",
       "      <td>603.451860</td>\n",
       "      <td>1.152762</td>\n",
       "      <td>29.537685</td>\n",
       "      <td>179.199505</td>\n",
       "      <td>3.367486</td>\n",
       "    </tr>\n",
       "    <tr>\n",
       "      <th>21</th>\n",
       "      <td>0.092</td>\n",
       "      <td>-0.092</td>\n",
       "      <td>120</td>\n",
       "      <td>4.067090</td>\n",
       "      <td>488.050755</td>\n",
       "      <td>1.037529</td>\n",
       "      <td>27.037410</td>\n",
       "      <td>161.144355</td>\n",
       "      <td>3.028656</td>\n",
       "    </tr>\n",
       "    <tr>\n",
       "      <th>22</th>\n",
       "      <td>0.094</td>\n",
       "      <td>-0.094</td>\n",
       "      <td>108</td>\n",
       "      <td>4.403169</td>\n",
       "      <td>475.542265</td>\n",
       "      <td>1.032725</td>\n",
       "      <td>34.820850</td>\n",
       "      <td>173.167375</td>\n",
       "      <td>2.746142</td>\n",
       "    </tr>\n",
       "    <tr>\n",
       "      <th>23</th>\n",
       "      <td>0.096</td>\n",
       "      <td>-0.096</td>\n",
       "      <td>93</td>\n",
       "      <td>3.716016</td>\n",
       "      <td>345.589505</td>\n",
       "      <td>0.782780</td>\n",
       "      <td>33.930390</td>\n",
       "      <td>164.706915</td>\n",
       "      <td>2.098209</td>\n",
       "    </tr>\n",
       "    <tr>\n",
       "      <th>24</th>\n",
       "      <td>0.098</td>\n",
       "      <td>-0.098</td>\n",
       "      <td>85</td>\n",
       "      <td>3.883039</td>\n",
       "      <td>330.058345</td>\n",
       "      <td>0.749715</td>\n",
       "      <td>46.553905</td>\n",
       "      <td>157.740350</td>\n",
       "      <td>2.092415</td>\n",
       "    </tr>\n",
       "    <tr>\n",
       "      <th>25</th>\n",
       "      <td>0.100</td>\n",
       "      <td>-0.100</td>\n",
       "      <td>77</td>\n",
       "      <td>3.819509</td>\n",
       "      <td>294.102160</td>\n",
       "      <td>0.701270</td>\n",
       "      <td>12.105430</td>\n",
       "      <td>215.323765</td>\n",
       "      <td>1.365860</td>\n",
       "    </tr>\n",
       "  </tbody>\n",
       "</table>\n",
       "</div>"
      ],
      "text/plain": [
       "     open  close  num   avg.pnl   total.pnl     sharp   drawdown  \\\n",
       "15  0.080 -0.080  228  2.144018  488.836105  0.757148  33.120700   \n",
       "16  0.082 -0.082  207  2.642581  547.014265  0.869728  89.586095   \n",
       "17  0.084 -0.084  191  2.829483  540.431220  0.895798  87.586315   \n",
       "18  0.086 -0.086  175  3.047082  533.239325  0.904975  64.565410   \n",
       "19  0.088 -0.088  154  3.035239  467.426835  0.830829  28.537575   \n",
       "20  0.090 -0.090  138  4.372840  603.451860  1.152762  29.537685   \n",
       "21  0.092 -0.092  120  4.067090  488.050755  1.037529  27.037410   \n",
       "22  0.094 -0.094  108  4.403169  475.542265  1.032725  34.820850   \n",
       "23  0.096 -0.096   93  3.716016  345.589505  0.782780  33.930390   \n",
       "24  0.098 -0.098   85  3.883039  330.058345  0.749715  46.553905   \n",
       "25  0.100 -0.100   77  3.819509  294.102160  0.701270  12.105430   \n",
       "\n",
       "    max.drawdown       mar  \n",
       "15    311.265260  1.570481  \n",
       "16    261.579190  2.091199  \n",
       "17    270.524800  1.997714  \n",
       "18    266.025295  2.004469  \n",
       "19    263.369465  1.774795  \n",
       "20    179.199505  3.367486  \n",
       "21    161.144355  3.028656  \n",
       "22    173.167375  2.746142  \n",
       "23    164.706915  2.098209  \n",
       "24    157.740350  2.092415  \n",
       "25    215.323765  1.365860  "
      ]
     },
     "execution_count": 107,
     "metadata": {},
     "output_type": "execute_result"
    }
   ],
   "source": [
    "reverse_trade_stat[\"final.result\"][good_strat]\n",
    "\n",
    "# open \tclose \tnum \tavg.pnl \ttotal.pnl \tsharp \tdrawdown \tmax.drawdown \tmar\n",
    "# 15 \t0.080 \t-0.080 \t228 \t2.144018 \t488.836105 \t0.757148 \t33.120700 \t311.265260 \t1.570481\n",
    "# 16 \t0.082 \t-0.082 \t207 \t2.642581 \t547.014265 \t0.869728 \t89.586095 \t261.579190 \t2.091199\n",
    "# 17 \t0.084 \t-0.084 \t191 \t2.829483 \t540.431220 \t0.895798 \t87.586315 \t270.524800 \t1.997714\n",
    "# 18 \t0.086 \t-0.086 \t175 \t3.047082 \t533.239325 \t0.904975 \t64.565410 \t266.025295 \t2.004469\n",
    "# 19 \t0.088 \t-0.088 \t154 \t3.035239 \t467.426835 \t0.830829 \t28.537575 \t263.369465 \t1.774795\n",
    "# 20 \t0.090 \t-0.090 \t138 \t4.372840 \t603.451860 \t1.152762 \t29.537685 \t179.199505 \t3.367486\n",
    "# 21 \t0.092 \t-0.092 \t120 \t4.067090 \t488.050755 \t1.037529 \t27.037410 \t161.144355 \t3.028656\n",
    "# 22 \t0.094 \t-0.094 \t108 \t4.403169 \t475.542265 \t1.032725 \t34.820850 \t173.167375 \t2.746142\n",
    "# 23 \t0.096 \t-0.096 \t93 \t3.716016 \t345.589505 \t0.782780 \t33.930390 \t164.706915 \t2.098209\n",
    "# 24 \t0.098 \t-0.098 \t85 \t3.883039 \t330.058345 \t0.749715 \t46.553905 \t157.740350 \t2.092415\n",
    "# 25 \t0.100 \t-0.100 \t77 \t3.819509 \t294.102160 \t0.701270 \t12.105430 \t215.323765 \t1.365860"
   ]
  },
  {
   "cell_type": "markdown",
   "metadata": {},
   "source": [
    "- let's plot them"
   ]
  },
  {
   "cell_type": "markdown",
   "metadata": {},
   "source": [
    "- first we get the dates"
   ]
  },
  {
   "cell_type": "code",
   "execution_count": 108,
   "metadata": {},
   "outputs": [],
   "source": [
    "date_str = [n[0:8] for n in good_night_files]\n",
    "format_dates = np.array([pd.to_datetime(d) for d in date_str])"
   ]
  },
  {
   "cell_type": "markdown",
   "metadata": {},
   "source": [
    "- then we computer the average pnl of selected strategies"
   ]
  },
  {
   "cell_type": "code",
   "execution_count": 109,
   "metadata": {},
   "outputs": [],
   "source": [
    "good_pnl = reverse_trade_stat[\"daily.pnl\"].loc[:, good_strat].sum(axis=1)/sum(good_strat)"
   ]
  },
  {
   "cell_type": "markdown",
   "metadata": {},
   "source": [
    "- at last we plot the selected pnl"
   ]
  },
  {
   "cell_type": "code",
   "execution_count": 110,
   "metadata": {},
   "outputs": [
    {
     "data": {
      "image/png": "[encoded data removed]",
      "text/plain": [
       "<Figure size 1152x720 with 1 Axes>"
      ]
     },
     "metadata": {
      "needs_background": "light"
     },
     "output_type": "display_data"
    }
   ],
   "source": [
    "plt.figure(1, figsize=(16, 10))\n",
    "plt.title(\"\")\n",
    "plt.xlabel(\"date\")\n",
    "plt.ylabel(\"pnl\")\n",
    "plt.plot(format_dates, good_pnl.cumsum());"
   ]
  },
  {
   "cell_type": "markdown",
   "metadata": {},
   "source": [
    "- we can check its sharp ratio"
   ]
  },
  {
   "cell_type": "code",
   "execution_count": 111,
   "metadata": {},
   "outputs": [
    {
     "data": {
      "text/plain": [
       "0.9641411975845682"
      ]
     },
     "execution_count": 111,
     "metadata": {},
     "output_type": "execute_result"
    }
   ],
   "source": [
    "sharpe(good_pnl)\n",
    "## 0.9641411975845682"
   ]
  },
  {
   "cell_type": "markdown",
   "metadata": {},
   "source": [
    "- now let's see the in-sample and out-of-sample performance\n",
    "\n",
    "\n",
    "- the previous result used the whole data set \n",
    "- so it may be more optimistic than reality\n",
    "- now we split the data into training sample and test sample\n",
    "\n",
    "\n",
    "- at first let's remain 2018 as out-of-sample"
   ]
  },
  {
   "cell_type": "markdown",
   "metadata": {},
   "source": [
    "- get training samples"
   ]
  },
  {
   "cell_type": "code",
   "execution_count": 117,
   "metadata": {},
   "outputs": [],
   "source": [
    "train_sample = good_night_files<\"2018\""
   ]
  },
  {
   "cell_type": "markdown",
   "metadata": {},
   "source": [
    "- number of training samples"
   ]
  },
  {
   "cell_type": "code",
   "execution_count": 118,
   "metadata": {},
   "outputs": [
    {
     "data": {
      "text/plain": [
       "489"
      ]
     },
     "execution_count": 118,
     "metadata": {},
     "output_type": "execute_result"
    }
   ],
   "source": [
    "sum(train_sample)\n",
    "## 490"
   ]
  },
  {
   "cell_type": "markdown",
   "metadata": {},
   "source": [
    "- get testing samples"
   ]
  },
  {
   "cell_type": "code",
   "execution_count": 119,
   "metadata": {},
   "outputs": [
    {
     "data": {
      "text/plain": [
       "215"
      ]
     },
     "execution_count": 119,
     "metadata": {},
     "output_type": "execute_result"
    }
   ],
   "source": [
    "test_sample = good_night_files>\"2018\"\n",
    "sum(test_sample)\n",
    "## 157"
   ]
  },
  {
   "cell_type": "code",
   "execution_count": 120,
   "metadata": {},
   "outputs": [
    {
     "name": "stdout",
     "output_type": "stream",
     "text": [
      "Wall time: 1min 5s\n"
     ]
    }
   ],
   "source": [
    "%%time\n",
    "import functools\n",
    "with dask.config.set(scheduler='processes', num_workers=CORE_NUM):\n",
    "    f_par = functools.partial(get_signal_pnl, product=product, signal_name=signal_name, thre_mat=thre_mat, reverse=-1)\n",
    "    train_result = compute([delayed(f_par)(file) for file in good_night_files[train_sample]])[0]"
   ]
  },
  {
   "cell_type": "code",
   "execution_count": 121,
   "metadata": {},
   "outputs": [
    {
     "data": {
      "text/html": [
       "<div>\n",
       "<style scoped>\n",
       "    .dataframe tbody tr th:only-of-type {\n",
       "        vertical-align: middle;\n",
       "    }\n",
       "\n",
       "    .dataframe tbody tr th {\n",
       "        vertical-align: top;\n",
       "    }\n",
       "\n",
       "    .dataframe thead th {\n",
       "        text-align: right;\n",
       "    }\n",
       "</style>\n",
       "<table border=\"1\" class=\"dataframe\">\n",
       "  <thead>\n",
       "    <tr style=\"text-align: right;\">\n",
       "      <th></th>\n",
       "      <th>open</th>\n",
       "      <th>close</th>\n",
       "      <th>num</th>\n",
       "      <th>avg.pnl</th>\n",
       "      <th>total.pnl</th>\n",
       "      <th>sharp</th>\n",
       "      <th>drawdown</th>\n",
       "      <th>max.drawdown</th>\n",
       "      <th>mar</th>\n",
       "    </tr>\n",
       "  </thead>\n",
       "  <tbody>\n",
       "    <tr>\n",
       "      <th>0</th>\n",
       "      <td>0.050</td>\n",
       "      <td>-0.050</td>\n",
       "      <td>588</td>\n",
       "      <td>0.163044</td>\n",
       "      <td>95.869810</td>\n",
       "      <td>0.097095</td>\n",
       "      <td>277.940070</td>\n",
       "      <td>918.259820</td>\n",
       "      <td>0.104404</td>\n",
       "    </tr>\n",
       "    <tr>\n",
       "      <th>1</th>\n",
       "      <td>0.052</td>\n",
       "      <td>-0.052</td>\n",
       "      <td>537</td>\n",
       "      <td>-0.247964</td>\n",
       "      <td>-133.156635</td>\n",
       "      <td>-0.144662</td>\n",
       "      <td>432.091740</td>\n",
       "      <td>849.650165</td>\n",
       "      <td>-0.156719</td>\n",
       "    </tr>\n",
       "    <tr>\n",
       "      <th>2</th>\n",
       "      <td>0.054</td>\n",
       "      <td>-0.054</td>\n",
       "      <td>500</td>\n",
       "      <td>0.077952</td>\n",
       "      <td>38.975935</td>\n",
       "      <td>0.043198</td>\n",
       "      <td>288.526575</td>\n",
       "      <td>780.573905</td>\n",
       "      <td>0.049932</td>\n",
       "    </tr>\n",
       "    <tr>\n",
       "      <th>3</th>\n",
       "      <td>0.056</td>\n",
       "      <td>-0.056</td>\n",
       "      <td>454</td>\n",
       "      <td>0.140600</td>\n",
       "      <td>63.832310</td>\n",
       "      <td>0.071420</td>\n",
       "      <td>266.147530</td>\n",
       "      <td>880.430000</td>\n",
       "      <td>0.072501</td>\n",
       "    </tr>\n",
       "    <tr>\n",
       "      <th>4</th>\n",
       "      <td>0.058</td>\n",
       "      <td>-0.058</td>\n",
       "      <td>413</td>\n",
       "      <td>0.766345</td>\n",
       "      <td>316.500575</td>\n",
       "      <td>0.390273</td>\n",
       "      <td>24.909810</td>\n",
       "      <td>738.847785</td>\n",
       "      <td>0.428370</td>\n",
       "    </tr>\n",
       "    <tr>\n",
       "      <th>5</th>\n",
       "      <td>0.060</td>\n",
       "      <td>-0.060</td>\n",
       "      <td>373</td>\n",
       "      <td>0.704816</td>\n",
       "      <td>262.896370</td>\n",
       "      <td>0.351952</td>\n",
       "      <td>151.636335</td>\n",
       "      <td>737.327170</td>\n",
       "      <td>0.356553</td>\n",
       "    </tr>\n",
       "    <tr>\n",
       "      <th>6</th>\n",
       "      <td>0.062</td>\n",
       "      <td>-0.062</td>\n",
       "      <td>345</td>\n",
       "      <td>0.404162</td>\n",
       "      <td>139.435780</td>\n",
       "      <td>0.194282</td>\n",
       "      <td>183.112485</td>\n",
       "      <td>726.444850</td>\n",
       "      <td>0.191943</td>\n",
       "    </tr>\n",
       "    <tr>\n",
       "      <th>7</th>\n",
       "      <td>0.064</td>\n",
       "      <td>-0.064</td>\n",
       "      <td>325</td>\n",
       "      <td>0.296540</td>\n",
       "      <td>96.375570</td>\n",
       "      <td>0.132377</td>\n",
       "      <td>269.615350</td>\n",
       "      <td>673.871180</td>\n",
       "      <td>0.143018</td>\n",
       "    </tr>\n",
       "    <tr>\n",
       "      <th>8</th>\n",
       "      <td>0.066</td>\n",
       "      <td>-0.066</td>\n",
       "      <td>303</td>\n",
       "      <td>0.894379</td>\n",
       "      <td>270.996690</td>\n",
       "      <td>0.389342</td>\n",
       "      <td>118.727075</td>\n",
       "      <td>572.780640</td>\n",
       "      <td>0.473125</td>\n",
       "    </tr>\n",
       "    <tr>\n",
       "      <th>9</th>\n",
       "      <td>0.068</td>\n",
       "      <td>-0.068</td>\n",
       "      <td>286</td>\n",
       "      <td>1.155919</td>\n",
       "      <td>330.592820</td>\n",
       "      <td>0.492732</td>\n",
       "      <td>149.343720</td>\n",
       "      <td>567.663050</td>\n",
       "      <td>0.582375</td>\n",
       "    </tr>\n",
       "    <tr>\n",
       "      <th>10</th>\n",
       "      <td>0.070</td>\n",
       "      <td>-0.070</td>\n",
       "      <td>262</td>\n",
       "      <td>0.680864</td>\n",
       "      <td>178.386325</td>\n",
       "      <td>0.277284</td>\n",
       "      <td>205.221260</td>\n",
       "      <td>536.569325</td>\n",
       "      <td>0.332457</td>\n",
       "    </tr>\n",
       "    <tr>\n",
       "      <th>11</th>\n",
       "      <td>0.072</td>\n",
       "      <td>-0.072</td>\n",
       "      <td>238</td>\n",
       "      <td>0.654389</td>\n",
       "      <td>155.744550</td>\n",
       "      <td>0.254385</td>\n",
       "      <td>153.960875</td>\n",
       "      <td>487.648080</td>\n",
       "      <td>0.319379</td>\n",
       "    </tr>\n",
       "    <tr>\n",
       "      <th>12</th>\n",
       "      <td>0.074</td>\n",
       "      <td>-0.074</td>\n",
       "      <td>218</td>\n",
       "      <td>0.045481</td>\n",
       "      <td>9.914895</td>\n",
       "      <td>0.017712</td>\n",
       "      <td>317.906950</td>\n",
       "      <td>448.479335</td>\n",
       "      <td>0.022108</td>\n",
       "    </tr>\n",
       "    <tr>\n",
       "      <th>13</th>\n",
       "      <td>0.076</td>\n",
       "      <td>-0.076</td>\n",
       "      <td>193</td>\n",
       "      <td>0.301988</td>\n",
       "      <td>58.283685</td>\n",
       "      <td>0.111313</td>\n",
       "      <td>191.000860</td>\n",
       "      <td>344.277810</td>\n",
       "      <td>0.169293</td>\n",
       "    </tr>\n",
       "    <tr>\n",
       "      <th>14</th>\n",
       "      <td>0.078</td>\n",
       "      <td>-0.078</td>\n",
       "      <td>181</td>\n",
       "      <td>0.527310</td>\n",
       "      <td>95.443115</td>\n",
       "      <td>0.187424</td>\n",
       "      <td>120.128330</td>\n",
       "      <td>328.151745</td>\n",
       "      <td>0.290851</td>\n",
       "    </tr>\n",
       "    <tr>\n",
       "      <th>15</th>\n",
       "      <td>0.080</td>\n",
       "      <td>-0.080</td>\n",
       "      <td>163</td>\n",
       "      <td>1.066000</td>\n",
       "      <td>173.757980</td>\n",
       "      <td>0.375109</td>\n",
       "      <td>200.395395</td>\n",
       "      <td>311.265260</td>\n",
       "      <td>0.558231</td>\n",
       "    </tr>\n",
       "    <tr>\n",
       "      <th>16</th>\n",
       "      <td>0.082</td>\n",
       "      <td>-0.082</td>\n",
       "      <td>152</td>\n",
       "      <td>1.764654</td>\n",
       "      <td>268.227370</td>\n",
       "      <td>0.578011</td>\n",
       "      <td>170.240175</td>\n",
       "      <td>261.579190</td>\n",
       "      <td>1.025416</td>\n",
       "    </tr>\n",
       "    <tr>\n",
       "      <th>17</th>\n",
       "      <td>0.084</td>\n",
       "      <td>-0.084</td>\n",
       "      <td>142</td>\n",
       "      <td>2.328947</td>\n",
       "      <td>330.710515</td>\n",
       "      <td>0.736439</td>\n",
       "      <td>183.408785</td>\n",
       "      <td>270.524800</td>\n",
       "      <td>1.222478</td>\n",
       "    </tr>\n",
       "    <tr>\n",
       "      <th>18</th>\n",
       "      <td>0.086</td>\n",
       "      <td>-0.086</td>\n",
       "      <td>133</td>\n",
       "      <td>2.925995</td>\n",
       "      <td>389.157350</td>\n",
       "      <td>0.871548</td>\n",
       "      <td>163.409665</td>\n",
       "      <td>266.025295</td>\n",
       "      <td>1.462858</td>\n",
       "    </tr>\n",
       "    <tr>\n",
       "      <th>19</th>\n",
       "      <td>0.088</td>\n",
       "      <td>-0.088</td>\n",
       "      <td>115</td>\n",
       "      <td>2.355248</td>\n",
       "      <td>270.853480</td>\n",
       "      <td>0.641529</td>\n",
       "      <td>157.909365</td>\n",
       "      <td>263.369465</td>\n",
       "      <td>1.028416</td>\n",
       "    </tr>\n",
       "    <tr>\n",
       "      <th>20</th>\n",
       "      <td>0.090</td>\n",
       "      <td>-0.090</td>\n",
       "      <td>103</td>\n",
       "      <td>4.005262</td>\n",
       "      <td>412.542000</td>\n",
       "      <td>1.068313</td>\n",
       "      <td>13.274655</td>\n",
       "      <td>179.199505</td>\n",
       "      <td>2.302138</td>\n",
       "    </tr>\n",
       "    <tr>\n",
       "      <th>21</th>\n",
       "      <td>0.092</td>\n",
       "      <td>-0.092</td>\n",
       "      <td>90</td>\n",
       "      <td>3.714950</td>\n",
       "      <td>334.345470</td>\n",
       "      <td>0.956916</td>\n",
       "      <td>74.935625</td>\n",
       "      <td>161.144355</td>\n",
       "      <td>2.074820</td>\n",
       "    </tr>\n",
       "    <tr>\n",
       "      <th>22</th>\n",
       "      <td>0.094</td>\n",
       "      <td>-0.094</td>\n",
       "      <td>81</td>\n",
       "      <td>4.340343</td>\n",
       "      <td>351.567800</td>\n",
       "      <td>1.019764</td>\n",
       "      <td>87.421375</td>\n",
       "      <td>173.167375</td>\n",
       "      <td>2.030220</td>\n",
       "    </tr>\n",
       "    <tr>\n",
       "      <th>23</th>\n",
       "      <td>0.096</td>\n",
       "      <td>-0.096</td>\n",
       "      <td>71</td>\n",
       "      <td>3.594022</td>\n",
       "      <td>255.175570</td>\n",
       "      <td>0.765623</td>\n",
       "      <td>79.960805</td>\n",
       "      <td>164.706915</td>\n",
       "      <td>1.549271</td>\n",
       "    </tr>\n",
       "    <tr>\n",
       "      <th>24</th>\n",
       "      <td>0.098</td>\n",
       "      <td>-0.098</td>\n",
       "      <td>64</td>\n",
       "      <td>4.034406</td>\n",
       "      <td>258.201990</td>\n",
       "      <td>0.772128</td>\n",
       "      <td>66.979065</td>\n",
       "      <td>157.740350</td>\n",
       "      <td>1.636880</td>\n",
       "    </tr>\n",
       "    <tr>\n",
       "      <th>25</th>\n",
       "      <td>0.100</td>\n",
       "      <td>-0.100</td>\n",
       "      <td>58</td>\n",
       "      <td>3.117182</td>\n",
       "      <td>180.796560</td>\n",
       "      <td>0.565328</td>\n",
       "      <td>124.062535</td>\n",
       "      <td>215.323765</td>\n",
       "      <td>0.839650</td>\n",
       "    </tr>\n",
       "  </tbody>\n",
       "</table>\n",
       "</div>"
      ],
      "text/plain": [
       "     open  close  num   avg.pnl   total.pnl     sharp    drawdown  \\\n",
       "0   0.050 -0.050  588  0.163044   95.869810  0.097095  277.940070   \n",
       "1   0.052 -0.052  537 -0.247964 -133.156635 -0.144662  432.091740   \n",
       "2   0.054 -0.054  500  0.077952   38.975935  0.043198  288.526575   \n",
       "3   0.056 -0.056  454  0.140600   63.832310  0.071420  266.147530   \n",
       "4   0.058 -0.058  413  0.766345  316.500575  0.390273   24.909810   \n",
       "5   0.060 -0.060  373  0.704816  262.896370  0.351952  151.636335   \n",
       "6   0.062 -0.062  345  0.404162  139.435780  0.194282  183.112485   \n",
       "7   0.064 -0.064  325  0.296540   96.375570  0.132377  269.615350   \n",
       "8   0.066 -0.066  303  0.894379  270.996690  0.389342  118.727075   \n",
       "9   0.068 -0.068  286  1.155919  330.592820  0.492732  149.343720   \n",
       "10  0.070 -0.070  262  0.680864  178.386325  0.277284  205.221260   \n",
       "11  0.072 -0.072  238  0.654389  155.744550  0.254385  153.960875   \n",
       "12  0.074 -0.074  218  0.045481    9.914895  0.017712  317.906950   \n",
       "13  0.076 -0.076  193  0.301988   58.283685  0.111313  191.000860   \n",
       "14  0.078 -0.078  181  0.527310   95.443115  0.187424  120.128330   \n",
       "15  0.080 -0.080  163  1.066000  173.757980  0.375109  200.395395   \n",
       "16  0.082 -0.082  152  1.764654  268.227370  0.578011  170.240175   \n",
       "17  0.084 -0.084  142  2.328947  330.710515  0.736439  183.408785   \n",
       "18  0.086 -0.086  133  2.925995  389.157350  0.871548  163.409665   \n",
       "19  0.088 -0.088  115  2.355248  270.853480  0.641529  157.909365   \n",
       "20  0.090 -0.090  103  4.005262  412.542000  1.068313   13.274655   \n",
       "21  0.092 -0.092   90  3.714950  334.345470  0.956916   74.935625   \n",
       "22  0.094 -0.094   81  4.340343  351.567800  1.019764   87.421375   \n",
       "23  0.096 -0.096   71  3.594022  255.175570  0.765623   79.960805   \n",
       "24  0.098 -0.098   64  4.034406  258.201990  0.772128   66.979065   \n",
       "25  0.100 -0.100   58  3.117182  180.796560  0.565328  124.062535   \n",
       "\n",
       "    max.drawdown       mar  \n",
       "0     918.259820  0.104404  \n",
       "1     849.650165 -0.156719  \n",
       "2     780.573905  0.049932  \n",
       "3     880.430000  0.072501  \n",
       "4     738.847785  0.428370  \n",
       "5     737.327170  0.356553  \n",
       "6     726.444850  0.191943  \n",
       "7     673.871180  0.143018  \n",
       "8     572.780640  0.473125  \n",
       "9     567.663050  0.582375  \n",
       "10    536.569325  0.332457  \n",
       "11    487.648080  0.319379  \n",
       "12    448.479335  0.022108  \n",
       "13    344.277810  0.169293  \n",
       "14    328.151745  0.290851  \n",
       "15    311.265260  0.558231  \n",
       "16    261.579190  1.025416  \n",
       "17    270.524800  1.222478  \n",
       "18    266.025295  1.462858  \n",
       "19    263.369465  1.028416  \n",
       "20    179.199505  2.302138  \n",
       "21    161.144355  2.074820  \n",
       "22    173.167375  2.030220  \n",
       "23    164.706915  1.549271  \n",
       "24    157.740350  1.636880  \n",
       "25    215.323765  0.839650  "
      ]
     },
     "execution_count": 121,
     "metadata": {},
     "output_type": "execute_result"
    }
   ],
   "source": [
    "train_stat = get_hft_summary(train_result, thre_mat, sum(train_sample))\n",
    "train_stat[\"final.result\"]\n",
    "\n",
    "# open \tclose \tnum \tavg.pnl \ttotal.pnl \tsharp \tdrawdown \tmax.drawdown \tmar\n",
    "# 0 \t0.050 \t-0.050 \t588 \t0.163044 \t95.869810 \t0.097095 \t277.940070 \t918.259820 \t0.104404\n",
    "# 1 \t0.052 \t-0.052 \t537 \t-0.247964 \t-133.156635 \t-0.144662 \t432.091740 \t849.650165 \t-0.156719\n",
    "# 2 \t0.054 \t-0.054 \t500 \t0.077952 \t38.975935 \t0.043198 \t288.526575 \t780.573905 \t0.049932\n",
    "# 3 \t0.056 \t-0.056 \t454 \t0.140600 \t63.832310 \t0.071420 \t266.147530 \t880.430000 \t0.072501\n",
    "# 4 \t0.058 \t-0.058 \t413 \t0.766345 \t316.500575 \t0.390273 \t24.909810 \t738.847785 \t0.428370\n",
    "# 5 \t0.060 \t-0.060 \t373 \t0.704816 \t262.896370 \t0.351952 \t151.636335 \t737.327170 \t0.356553\n",
    "# 6 \t0.062 \t-0.062 \t345 \t0.404162 \t139.435780 \t0.194282 \t183.112485 \t726.444850 \t0.191943\n",
    "# 7 \t0.064 \t-0.064 \t325 \t0.296540 \t96.375570 \t0.132377 \t269.615350 \t673.871180 \t0.143018\n",
    "# 8 \t0.066 \t-0.066 \t303 \t0.894379 \t270.996690 \t0.389342 \t118.727075 \t572.780640 \t0.473125\n",
    "# 9 \t0.068 \t-0.068 \t286 \t1.155919 \t330.592820 \t0.492732 \t149.343720 \t567.663050 \t0.582375\n",
    "# 10 \t0.070 \t-0.070 \t262 \t0.680864 \t178.386325 \t0.277284 \t205.221260 \t536.569325 \t0.332457\n",
    "# 11 \t0.072 \t-0.072 \t238 \t0.654389 \t155.744550 \t0.254385 \t153.960875 \t487.648080 \t0.319379\n",
    "# 12 \t0.074 \t-0.074 \t218 \t0.045481 \t9.914895 \t0.017712 \t317.906950 \t448.479335 \t0.022108\n",
    "# 13 \t0.076 \t-0.076 \t193 \t0.301988 \t58.283685 \t0.111313 \t191.000860 \t344.277810 \t0.169293\n",
    "# 14 \t0.078 \t-0.078 \t181 \t0.527310 \t95.443115 \t0.187424 \t120.128330 \t328.151745 \t0.290851\n",
    "# 15 \t0.080 \t-0.080 \t163 \t1.066000 \t173.757980 \t0.375109 \t200.395395 \t311.265260 \t0.558231\n",
    "# 16 \t0.082 \t-0.082 \t152 \t1.764654 \t268.227370 \t0.578011 \t170.240175 \t261.579190 \t1.025416\n",
    "# 17 \t0.084 \t-0.084 \t142 \t2.328947 \t330.710515 \t0.736439 \t183.408785 \t270.524800 \t1.222478\n",
    "# 18 \t0.086 \t-0.086 \t133 \t2.925995 \t389.157350 \t0.871548 \t163.409665 \t266.025295 \t1.462858\n",
    "# 19 \t0.088 \t-0.088 \t115 \t2.355248 \t270.853480 \t0.641529 \t157.909365 \t263.369465 \t1.028416\n",
    "# 20 \t0.090 \t-0.090 \t103 \t4.005262 \t412.542000 \t1.068313 \t13.274655 \t179.199505 \t2.302138\n",
    "# 21 \t0.092 \t-0.092 \t90 \t3.714950 \t334.345470 \t0.956916 \t74.935625 \t161.144355 \t2.074820\n",
    "# 22 \t0.094 \t-0.094 \t81 \t4.340343 \t351.567800 \t1.019764 \t87.421375 \t173.167375 \t2.030220\n",
    "# 23 \t0.096 \t-0.096 \t71 \t3.594022 \t255.175570 \t0.765623 \t79.960805 \t164.706915 \t1.549271\n",
    "# 24 \t0.098 \t-0.098 \t64 \t4.034406 \t258.201990 \t0.772128 \t66.979065 \t157.740350 \t1.636880\n",
    "# 25 \t0.100 \t-0.100 \t58 \t3.117182 \t180.796560 \t0.565328 \t124.062535 \t215.323765 \t0.839650"
   ]
  },
  {
   "cell_type": "code",
   "execution_count": 122,
   "metadata": {},
   "outputs": [
    {
     "data": {
      "text/plain": [
       "17    True\n",
       "18    True\n",
       "19    True\n",
       "20    True\n",
       "21    True\n",
       "22    True\n",
       "23    True\n",
       "24    True\n",
       "25    True\n",
       "Name: avg.pnl, dtype: bool"
      ]
     },
     "execution_count": 122,
     "metadata": {},
     "output_type": "execute_result"
    }
   ],
   "source": [
    "good_train = train_stat[\"final.result\"][\"avg.pnl\"]>2\n",
    "good_train[good_train == True]\n",
    "# 17    True\n",
    "# 18    True\n",
    "# 19    True\n",
    "# 20    True\n",
    "# 21    True\n",
    "# 22    True\n",
    "# 23    True\n",
    "# 24    True\n",
    "# 25    True\n",
    "# Name: avg.pnl, dtype: bool"
   ]
  },
  {
   "cell_type": "markdown",
   "metadata": {},
   "source": [
    "- now calculate the result of test samples"
   ]
  },
  {
   "cell_type": "code",
   "execution_count": 123,
   "metadata": {},
   "outputs": [
    {
     "name": "stdout",
     "output_type": "stream",
     "text": [
      "Wall time: 27.3 s\n"
     ]
    }
   ],
   "source": [
    "%%time\n",
    "import functools\n",
    "with dask.config.set(scheduler='processes', num_workers=CORE_NUM):\n",
    "    f_par = functools.partial(get_signal_pnl, product=product, signal_name=signal_name, thre_mat=thre_mat, reverse=-1)\n",
    "    test_result = compute([delayed(f_par)(file) for file in good_night_files[test_sample]])[0]"
   ]
  },
  {
   "cell_type": "markdown",
   "metadata": {},
   "source": [
    "- get the test result summary"
   ]
  },
  {
   "cell_type": "code",
   "execution_count": 124,
   "metadata": {},
   "outputs": [],
   "source": [
    "test_stat = get_hft_summary(test_result, thre_mat, sum(test_sample))"
   ]
  },
  {
   "cell_type": "markdown",
   "metadata": {},
   "source": [
    "- get the result of good training strategies"
   ]
  },
  {
   "cell_type": "code",
   "execution_count": 125,
   "metadata": {},
   "outputs": [
    {
     "data": {
      "text/html": [
       "<div>\n",
       "<style scoped>\n",
       "    .dataframe tbody tr th:only-of-type {\n",
       "        vertical-align: middle;\n",
       "    }\n",
       "\n",
       "    .dataframe tbody tr th {\n",
       "        vertical-align: top;\n",
       "    }\n",
       "\n",
       "    .dataframe thead th {\n",
       "        text-align: right;\n",
       "    }\n",
       "</style>\n",
       "<table border=\"1\" class=\"dataframe\">\n",
       "  <thead>\n",
       "    <tr style=\"text-align: right;\">\n",
       "      <th></th>\n",
       "      <th>open</th>\n",
       "      <th>close</th>\n",
       "      <th>num</th>\n",
       "      <th>avg.pnl</th>\n",
       "      <th>total.pnl</th>\n",
       "      <th>sharp</th>\n",
       "      <th>drawdown</th>\n",
       "      <th>max.drawdown</th>\n",
       "      <th>mar</th>\n",
       "    </tr>\n",
       "  </thead>\n",
       "  <tbody>\n",
       "    <tr>\n",
       "      <th>17</th>\n",
       "      <td>0.084</td>\n",
       "      <td>-0.084</td>\n",
       "      <td>49</td>\n",
       "      <td>4.280014</td>\n",
       "      <td>209.720705</td>\n",
       "      <td>1.394841</td>\n",
       "      <td>87.586315</td>\n",
       "      <td>92.077015</td>\n",
       "      <td>2.277666</td>\n",
       "    </tr>\n",
       "    <tr>\n",
       "      <th>18</th>\n",
       "      <td>0.086</td>\n",
       "      <td>-0.086</td>\n",
       "      <td>42</td>\n",
       "      <td>3.430523</td>\n",
       "      <td>144.081975</td>\n",
       "      <td>1.059728</td>\n",
       "      <td>64.565410</td>\n",
       "      <td>89.115520</td>\n",
       "      <td>1.616800</td>\n",
       "    </tr>\n",
       "    <tr>\n",
       "      <th>19</th>\n",
       "      <td>0.088</td>\n",
       "      <td>-0.088</td>\n",
       "      <td>39</td>\n",
       "      <td>5.040342</td>\n",
       "      <td>196.573355</td>\n",
       "      <td>1.449788</td>\n",
       "      <td>28.537575</td>\n",
       "      <td>82.676730</td>\n",
       "      <td>2.377614</td>\n",
       "    </tr>\n",
       "    <tr>\n",
       "      <th>20</th>\n",
       "      <td>0.090</td>\n",
       "      <td>-0.090</td>\n",
       "      <td>35</td>\n",
       "      <td>5.454567</td>\n",
       "      <td>190.909860</td>\n",
       "      <td>1.414156</td>\n",
       "      <td>29.537685</td>\n",
       "      <td>91.520235</td>\n",
       "      <td>2.085985</td>\n",
       "    </tr>\n",
       "    <tr>\n",
       "      <th>21</th>\n",
       "      <td>0.092</td>\n",
       "      <td>-0.092</td>\n",
       "      <td>30</td>\n",
       "      <td>5.123509</td>\n",
       "      <td>153.705285</td>\n",
       "      <td>1.299974</td>\n",
       "      <td>27.037410</td>\n",
       "      <td>54.588540</td>\n",
       "      <td>2.815706</td>\n",
       "    </tr>\n",
       "    <tr>\n",
       "      <th>22</th>\n",
       "      <td>0.094</td>\n",
       "      <td>-0.094</td>\n",
       "      <td>27</td>\n",
       "      <td>4.591647</td>\n",
       "      <td>123.974465</td>\n",
       "      <td>1.105833</td>\n",
       "      <td>34.820850</td>\n",
       "      <td>42.307800</td>\n",
       "      <td>2.930298</td>\n",
       "    </tr>\n",
       "    <tr>\n",
       "      <th>23</th>\n",
       "      <td>0.096</td>\n",
       "      <td>-0.096</td>\n",
       "      <td>22</td>\n",
       "      <td>4.109724</td>\n",
       "      <td>90.413935</td>\n",
       "      <td>0.872036</td>\n",
       "      <td>33.930390</td>\n",
       "      <td>37.426695</td>\n",
       "      <td>2.415761</td>\n",
       "    </tr>\n",
       "    <tr>\n",
       "      <th>24</th>\n",
       "      <td>0.098</td>\n",
       "      <td>-0.098</td>\n",
       "      <td>21</td>\n",
       "      <td>3.421731</td>\n",
       "      <td>71.856355</td>\n",
       "      <td>0.715605</td>\n",
       "      <td>46.553905</td>\n",
       "      <td>51.550375</td>\n",
       "      <td>1.393906</td>\n",
       "    </tr>\n",
       "    <tr>\n",
       "      <th>25</th>\n",
       "      <td>0.100</td>\n",
       "      <td>-0.100</td>\n",
       "      <td>19</td>\n",
       "      <td>5.963453</td>\n",
       "      <td>113.305600</td>\n",
       "      <td>1.207885</td>\n",
       "      <td>12.105430</td>\n",
       "      <td>47.129845</td>\n",
       "      <td>2.404116</td>\n",
       "    </tr>\n",
       "  </tbody>\n",
       "</table>\n",
       "</div>"
      ],
      "text/plain": [
       "     open  close  num   avg.pnl   total.pnl     sharp   drawdown  \\\n",
       "17  0.084 -0.084   49  4.280014  209.720705  1.394841  87.586315   \n",
       "18  0.086 -0.086   42  3.430523  144.081975  1.059728  64.565410   \n",
       "19  0.088 -0.088   39  5.040342  196.573355  1.449788  28.537575   \n",
       "20  0.090 -0.090   35  5.454567  190.909860  1.414156  29.537685   \n",
       "21  0.092 -0.092   30  5.123509  153.705285  1.299974  27.037410   \n",
       "22  0.094 -0.094   27  4.591647  123.974465  1.105833  34.820850   \n",
       "23  0.096 -0.096   22  4.109724   90.413935  0.872036  33.930390   \n",
       "24  0.098 -0.098   21  3.421731   71.856355  0.715605  46.553905   \n",
       "25  0.100 -0.100   19  5.963453  113.305600  1.207885  12.105430   \n",
       "\n",
       "    max.drawdown       mar  \n",
       "17     92.077015  2.277666  \n",
       "18     89.115520  1.616800  \n",
       "19     82.676730  2.377614  \n",
       "20     91.520235  2.085985  \n",
       "21     54.588540  2.815706  \n",
       "22     42.307800  2.930298  \n",
       "23     37.426695  2.415761  \n",
       "24     51.550375  1.393906  \n",
       "25     47.129845  2.404116  "
      ]
     },
     "execution_count": 125,
     "metadata": {},
     "output_type": "execute_result"
    }
   ],
   "source": [
    "test_stat[\"final.result\"][good_train]\n",
    "#  \topen \tclose \tnum \tavg.pnl \ttotal.pnl \tsharp \tdrawdown \tmax.drawdown \tmar\n",
    "# 17 \t0.084 \t-0.084 \t49 \t4.280014 \t209.720705 \t1.394841 \t87.586315 \t92.077015 \t2.277666\n",
    "# 18 \t0.086 \t-0.086 \t42 \t3.430523 \t144.081975 \t1.059728 \t64.565410 \t89.115520 \t1.616800\n",
    "# 19 \t0.088 \t-0.088 \t39 \t5.040342 \t196.573355 \t1.449788 \t28.537575 \t82.676730 \t2.377614\n",
    "# 20 \t0.090 \t-0.090 \t35 \t5.454567 \t190.909860 \t1.414156 \t29.537685 \t91.520235 \t2.085985\n",
    "# 21 \t0.092 \t-0.092 \t30 \t5.123509 \t153.705285 \t1.299974 \t27.037410 \t54.588540 \t2.815706\n",
    "# 22 \t0.094 \t-0.094 \t27 \t4.591647 \t123.974465 \t1.105833 \t34.820850 \t42.307800 \t2.930298\n",
    "# 23 \t0.096 \t-0.096 \t22 \t4.109724 \t90.413935 \t0.872036 \t33.930390 \t37.426695 \t2.415761\n",
    "# 24 \t0.098 \t-0.098 \t21 \t3.421731 \t71.856355 \t0.715605 \t46.553905 \t51.550375 \t1.393906\n",
    "# 25 \t0.100 \t-0.100 \t19 \t5.963453 \t113.305600 \t1.207885 \t12.105430 \t47.129845 \t2.404116\n",
    "\n",
    "## we can see that the result is accpetable"
   ]
  },
  {
   "cell_type": "markdown",
   "metadata": {},
   "source": [
    "- to check the pnl curve"
   ]
  },
  {
   "cell_type": "markdown",
   "metadata": {},
   "source": [
    "- the dates of test samples"
   ]
  },
  {
   "cell_type": "code",
   "execution_count": 126,
   "metadata": {},
   "outputs": [],
   "source": [
    "test_dates = format_dates[test_sample]"
   ]
  },
  {
   "cell_type": "markdown",
   "metadata": {},
   "source": [
    "- pnl of test samples using the strategies selected from training sample"
   ]
  },
  {
   "cell_type": "code",
   "execution_count": 127,
   "metadata": {},
   "outputs": [],
   "source": [
    "test_pnl = test_stat[\"daily.pnl\"].loc[:, good_train].sum(axis=1)/sum(good_train)"
   ]
  },
  {
   "cell_type": "markdown",
   "metadata": {},
   "source": [
    "- now plot the pnl cure"
   ]
  },
  {
   "cell_type": "code",
   "execution_count": 128,
   "metadata": {},
   "outputs": [
    {
     "data": {
      "image/png": "[encoded data removed]",
      "text/plain": [
       "<Figure size 1152x720 with 1 Axes>"
      ]
     },
     "metadata": {
      "needs_background": "light"
     },
     "output_type": "display_data"
    }
   ],
   "source": [
    "plt.figure(1, figsize=(16, 10))\n",
    "plt.title(\"\")\n",
    "plt.xlabel(\"date\")\n",
    "plt.ylabel(\"pnl\")\n",
    "plt.plot(test_dates, test_pnl.cumsum());"
   ]
  },
  {
   "cell_type": "markdown",
   "metadata": {},
   "source": [
    "- calculate its sharpe ratio"
   ]
  },
  {
   "cell_type": "code",
   "execution_count": 129,
   "metadata": {},
   "outputs": [
    {
     "data": {
      "text/plain": [
       "1.2952264092321257"
      ]
     },
     "execution_count": 129,
     "metadata": {},
     "output_type": "execute_result"
    }
   ],
   "source": [
    "sharpe(test_pnl)\n",
    "##[1] 1.2952264092321257\n",
    "## we can see that the sharpe ratio is still better"
   ]
  },
  {
   "cell_type": "markdown",
   "metadata": {},
   "source": [
    "- since  sharpe ratio is affected by the market \n",
    "- its value may not has too much meaning\n",
    "- we can check its rank\n",
    "\n",
    "\n",
    "- mean sharp value of good training samples"
   ]
  },
  {
   "cell_type": "code",
   "execution_count": 130,
   "metadata": {},
   "outputs": [
    {
     "data": {
      "text/plain": [
       "0.8219543941204094"
      ]
     },
     "execution_count": 130,
     "metadata": {},
     "output_type": "execute_result"
    }
   ],
   "source": [
    "train_sharp = np.mean(train_stat[\"final.result\"][\"sharp\"][good_train])\n",
    "train_sharp\n",
    "## 0.8219543941204094"
   ]
  },
  {
   "cell_type": "markdown",
   "metadata": {},
   "source": [
    "- now gets its rank"
   ]
  },
  {
   "cell_type": "code",
   "execution_count": 131,
   "metadata": {},
   "outputs": [
    {
     "data": {
      "text/plain": [
       "5"
      ]
     },
     "execution_count": 131,
     "metadata": {},
     "output_type": "execute_result"
    }
   ],
   "source": [
    "sum(train_stat[\"final.result\"][\"sharp\"]>train_sharp)+1\n",
    "## 5"
   ]
  },
  {
   "cell_type": "markdown",
   "metadata": {},
   "source": [
    "- mean sharp value of test samples"
   ]
  },
  {
   "cell_type": "code",
   "execution_count": 132,
   "metadata": {},
   "outputs": [
    {
     "data": {
      "text/plain": [
       "1.1688717010949166"
      ]
     },
     "execution_count": 132,
     "metadata": {},
     "output_type": "execute_result"
    }
   ],
   "source": [
    "test_sharp = np.mean(test_stat[\"final.result\"][\"sharp\"][good_train])\n",
    "test_sharp\n",
    "## 1.1688717010949166"
   ]
  },
  {
   "cell_type": "markdown",
   "metadata": {},
   "source": [
    "- now gets its rank"
   ]
  },
  {
   "cell_type": "code",
   "execution_count": 133,
   "metadata": {},
   "outputs": [
    {
     "data": {
      "text/plain": [
       "9"
      ]
     },
     "execution_count": 133,
     "metadata": {},
     "output_type": "execute_result"
    }
   ],
   "source": [
    "sum(test_stat[\"final.result\"][\"sharp\"]>test_sharp)+1\n",
    "## 9"
   ]
  },
  {
   "cell_type": "markdown",
   "metadata": {},
   "source": [
    "- so it's still rank #9\n",
    "- although test sample sharp ratio is higher than training sample\n",
    "- we cannot be sure about whether there is overfitting or not\n",
    "- because maybe the overall market of test sample is better than in-sample "
   ]
  },
  {
   "cell_type": "markdown",
   "metadata": {},
   "source": [
    "- some people may argue that when we get the range of thresholds, \n"
   ]
  },
  {
   "cell_type": "markdown",
   "metadata": {},
   "source": [
    "- now get the good samples using these thresholds"
   ]
  },
  {
   "cell_type": "markdown",
   "metadata": {},
   "source": [
    "- for statistical analysis in finance, if we simply change a little bit of the setup such as the thre.mat here\n",
    "- we should NOT expect much changes in the result, otherwise we might have overfitted the data\n",
    "\n",
    "\n",
    "- to use fix thre.mat rather than quantile, we have several advantages\n",
    "- the range is fixed, so we can calcualte each day's result and save them,\n",
    "- and we don't need to change too frequently"
   ]
  },
  {
   "cell_type": "markdown",
   "metadata": {},
   "source": [
    "- until now we have just open thresholds, now we can consider adding close thresholds"
   ]
  },
  {
   "cell_type": "markdown",
   "metadata": {},
   "source": [
    "- add close thresholds, simply 30%, 60%, and 100% of the open thresholds"
   ]
  },
  {
   "cell_type": "code",
   "execution_count": 142,
   "metadata": {},
   "outputs": [],
   "source": [
    "from collections import OrderedDict\n",
    "import itertools\n",
    "open_list=open_thre[good_train]\n",
    "thre_list = []\n",
    "for cartesian in itertools.product(open_list, np.array([0.3, 0.6, 1.0])):\n",
    "    thre_list.append((cartesian[0], -cartesian[0] * cartesian[1]))"
   ]
  },
  {
   "cell_type": "markdown",
   "metadata": {},
   "source": [
    "- get the thre.mat"
   ]
  },
  {
   "cell_type": "code",
   "execution_count": 143,
   "metadata": {},
   "outputs": [
    {
     "data": {
      "text/html": [
       "<div>\n",
       "<style scoped>\n",
       "    .dataframe tbody tr th:only-of-type {\n",
       "        vertical-align: middle;\n",
       "    }\n",
       "\n",
       "    .dataframe tbody tr th {\n",
       "        vertical-align: top;\n",
       "    }\n",
       "\n",
       "    .dataframe thead th {\n",
       "        text-align: right;\n",
       "    }\n",
       "</style>\n",
       "<table border=\"1\" class=\"dataframe\">\n",
       "  <thead>\n",
       "    <tr style=\"text-align: right;\">\n",
       "      <th></th>\n",
       "      <th>open</th>\n",
       "      <th>close</th>\n",
       "    </tr>\n",
       "  </thead>\n",
       "  <tbody>\n",
       "    <tr>\n",
       "      <th>0</th>\n",
       "      <td>0.084</td>\n",
       "      <td>-0.0252</td>\n",
       "    </tr>\n",
       "    <tr>\n",
       "      <th>1</th>\n",
       "      <td>0.084</td>\n",
       "      <td>-0.0504</td>\n",
       "    </tr>\n",
       "    <tr>\n",
       "      <th>2</th>\n",
       "      <td>0.084</td>\n",
       "      <td>-0.0840</td>\n",
       "    </tr>\n",
       "    <tr>\n",
       "      <th>3</th>\n",
       "      <td>0.086</td>\n",
       "      <td>-0.0258</td>\n",
       "    </tr>\n",
       "    <tr>\n",
       "      <th>4</th>\n",
       "      <td>0.086</td>\n",
       "      <td>-0.0516</td>\n",
       "    </tr>\n",
       "    <tr>\n",
       "      <th>5</th>\n",
       "      <td>0.086</td>\n",
       "      <td>-0.0860</td>\n",
       "    </tr>\n",
       "    <tr>\n",
       "      <th>6</th>\n",
       "      <td>0.088</td>\n",
       "      <td>-0.0264</td>\n",
       "    </tr>\n",
       "    <tr>\n",
       "      <th>7</th>\n",
       "      <td>0.088</td>\n",
       "      <td>-0.0528</td>\n",
       "    </tr>\n",
       "    <tr>\n",
       "      <th>8</th>\n",
       "      <td>0.088</td>\n",
       "      <td>-0.0880</td>\n",
       "    </tr>\n",
       "    <tr>\n",
       "      <th>9</th>\n",
       "      <td>0.090</td>\n",
       "      <td>-0.0270</td>\n",
       "    </tr>\n",
       "    <tr>\n",
       "      <th>10</th>\n",
       "      <td>0.090</td>\n",
       "      <td>-0.0540</td>\n",
       "    </tr>\n",
       "    <tr>\n",
       "      <th>11</th>\n",
       "      <td>0.090</td>\n",
       "      <td>-0.0900</td>\n",
       "    </tr>\n",
       "    <tr>\n",
       "      <th>12</th>\n",
       "      <td>0.092</td>\n",
       "      <td>-0.0276</td>\n",
       "    </tr>\n",
       "    <tr>\n",
       "      <th>13</th>\n",
       "      <td>0.092</td>\n",
       "      <td>-0.0552</td>\n",
       "    </tr>\n",
       "    <tr>\n",
       "      <th>14</th>\n",
       "      <td>0.092</td>\n",
       "      <td>-0.0920</td>\n",
       "    </tr>\n",
       "    <tr>\n",
       "      <th>15</th>\n",
       "      <td>0.094</td>\n",
       "      <td>-0.0282</td>\n",
       "    </tr>\n",
       "    <tr>\n",
       "      <th>16</th>\n",
       "      <td>0.094</td>\n",
       "      <td>-0.0564</td>\n",
       "    </tr>\n",
       "    <tr>\n",
       "      <th>17</th>\n",
       "      <td>0.094</td>\n",
       "      <td>-0.0940</td>\n",
       "    </tr>\n",
       "    <tr>\n",
       "      <th>18</th>\n",
       "      <td>0.096</td>\n",
       "      <td>-0.0288</td>\n",
       "    </tr>\n",
       "    <tr>\n",
       "      <th>19</th>\n",
       "      <td>0.096</td>\n",
       "      <td>-0.0576</td>\n",
       "    </tr>\n",
       "    <tr>\n",
       "      <th>20</th>\n",
       "      <td>0.096</td>\n",
       "      <td>-0.0960</td>\n",
       "    </tr>\n",
       "    <tr>\n",
       "      <th>21</th>\n",
       "      <td>0.098</td>\n",
       "      <td>-0.0294</td>\n",
       "    </tr>\n",
       "    <tr>\n",
       "      <th>22</th>\n",
       "      <td>0.098</td>\n",
       "      <td>-0.0588</td>\n",
       "    </tr>\n",
       "    <tr>\n",
       "      <th>23</th>\n",
       "      <td>0.098</td>\n",
       "      <td>-0.0980</td>\n",
       "    </tr>\n",
       "    <tr>\n",
       "      <th>24</th>\n",
       "      <td>0.100</td>\n",
       "      <td>-0.0300</td>\n",
       "    </tr>\n",
       "    <tr>\n",
       "      <th>25</th>\n",
       "      <td>0.100</td>\n",
       "      <td>-0.0600</td>\n",
       "    </tr>\n",
       "    <tr>\n",
       "      <th>26</th>\n",
       "      <td>0.100</td>\n",
       "      <td>-0.1000</td>\n",
       "    </tr>\n",
       "  </tbody>\n",
       "</table>\n",
       "</div>"
      ],
      "text/plain": [
       "     open   close\n",
       "0   0.084 -0.0252\n",
       "1   0.084 -0.0504\n",
       "2   0.084 -0.0840\n",
       "3   0.086 -0.0258\n",
       "4   0.086 -0.0516\n",
       "5   0.086 -0.0860\n",
       "6   0.088 -0.0264\n",
       "7   0.088 -0.0528\n",
       "8   0.088 -0.0880\n",
       "9   0.090 -0.0270\n",
       "10  0.090 -0.0540\n",
       "11  0.090 -0.0900\n",
       "12  0.092 -0.0276\n",
       "13  0.092 -0.0552\n",
       "14  0.092 -0.0920\n",
       "15  0.094 -0.0282\n",
       "16  0.094 -0.0564\n",
       "17  0.094 -0.0940\n",
       "18  0.096 -0.0288\n",
       "19  0.096 -0.0576\n",
       "20  0.096 -0.0960\n",
       "21  0.098 -0.0294\n",
       "22  0.098 -0.0588\n",
       "23  0.098 -0.0980\n",
       "24  0.100 -0.0300\n",
       "25  0.100 -0.0600\n",
       "26  0.100 -0.1000"
      ]
     },
     "execution_count": 143,
     "metadata": {},
     "output_type": "execute_result"
    }
   ],
   "source": [
    "thre_list = np.array(thre_list)\n",
    "close_thre_mat = pd.DataFrame(data=OrderedDict([(\"open\", thre_list[:, 0]), (\"close\", thre_list[:, 1])]))\n",
    "close_thre_mat\n",
    "## we do this only when the open threshold is good for both open and close\n",
    "## this can save much time for optimization"
   ]
  },
  {
   "cell_type": "code",
   "execution_count": 144,
   "metadata": {},
   "outputs": [
    {
     "name": "stdout",
     "output_type": "stream",
     "text": [
      "Wall time: 35.4 s\n"
     ]
    }
   ],
   "source": [
    "%%time\n",
    "\n",
    "with dask.config.set(scheduler='processes', num_workers=CORE_NUM):\n",
    "    f_par = functools.partial(get_signal_pnl, product=product, signal_name=signal_name, thre_mat=close_thre_mat, reverse=-1)\n",
    "    close_train_result = compute([delayed(f_par)(file) for file in good_night_files[train_sample]])[0]"
   ]
  },
  {
   "cell_type": "code",
   "execution_count": 145,
   "metadata": {},
   "outputs": [
    {
     "data": {
      "text/html": [
       "<div>\n",
       "<style scoped>\n",
       "    .dataframe tbody tr th:only-of-type {\n",
       "        vertical-align: middle;\n",
       "    }\n",
       "\n",
       "    .dataframe tbody tr th {\n",
       "        vertical-align: top;\n",
       "    }\n",
       "\n",
       "    .dataframe thead th {\n",
       "        text-align: right;\n",
       "    }\n",
       "</style>\n",
       "<table border=\"1\" class=\"dataframe\">\n",
       "  <thead>\n",
       "    <tr style=\"text-align: right;\">\n",
       "      <th></th>\n",
       "      <th>open</th>\n",
       "      <th>close</th>\n",
       "      <th>num</th>\n",
       "      <th>avg.pnl</th>\n",
       "      <th>total.pnl</th>\n",
       "      <th>sharp</th>\n",
       "      <th>drawdown</th>\n",
       "      <th>max.drawdown</th>\n",
       "      <th>mar</th>\n",
       "    </tr>\n",
       "  </thead>\n",
       "  <tbody>\n",
       "    <tr>\n",
       "      <th>0</th>\n",
       "      <td>0.084</td>\n",
       "      <td>-0.0252</td>\n",
       "      <td>145</td>\n",
       "      <td>0.360555</td>\n",
       "      <td>52.280415</td>\n",
       "      <td>0.159443</td>\n",
       "      <td>94.303805</td>\n",
       "      <td>188.138155</td>\n",
       "      <td>0.277883</td>\n",
       "    </tr>\n",
       "    <tr>\n",
       "      <th>1</th>\n",
       "      <td>0.084</td>\n",
       "      <td>-0.0504</td>\n",
       "      <td>142</td>\n",
       "      <td>2.241065</td>\n",
       "      <td>318.231250</td>\n",
       "      <td>0.793378</td>\n",
       "      <td>174.406585</td>\n",
       "      <td>250.252485</td>\n",
       "      <td>1.271641</td>\n",
       "    </tr>\n",
       "    <tr>\n",
       "      <th>2</th>\n",
       "      <td>0.084</td>\n",
       "      <td>-0.0840</td>\n",
       "      <td>142</td>\n",
       "      <td>2.328947</td>\n",
       "      <td>330.710515</td>\n",
       "      <td>0.736439</td>\n",
       "      <td>183.408785</td>\n",
       "      <td>270.524800</td>\n",
       "      <td>1.222478</td>\n",
       "    </tr>\n",
       "    <tr>\n",
       "      <th>3</th>\n",
       "      <td>0.086</td>\n",
       "      <td>-0.0258</td>\n",
       "      <td>134</td>\n",
       "      <td>0.757449</td>\n",
       "      <td>101.498125</td>\n",
       "      <td>0.312260</td>\n",
       "      <td>72.455045</td>\n",
       "      <td>177.288185</td>\n",
       "      <td>0.572504</td>\n",
       "    </tr>\n",
       "    <tr>\n",
       "      <th>4</th>\n",
       "      <td>0.086</td>\n",
       "      <td>-0.0516</td>\n",
       "      <td>133</td>\n",
       "      <td>2.726864</td>\n",
       "      <td>362.672915</td>\n",
       "      <td>0.917747</td>\n",
       "      <td>178.411535</td>\n",
       "      <td>247.007100</td>\n",
       "      <td>1.468269</td>\n",
       "    </tr>\n",
       "    <tr>\n",
       "      <th>5</th>\n",
       "      <td>0.086</td>\n",
       "      <td>-0.0860</td>\n",
       "      <td>133</td>\n",
       "      <td>2.925995</td>\n",
       "      <td>389.157350</td>\n",
       "      <td>0.871548</td>\n",
       "      <td>163.409665</td>\n",
       "      <td>266.025295</td>\n",
       "      <td>1.462858</td>\n",
       "    </tr>\n",
       "    <tr>\n",
       "      <th>6</th>\n",
       "      <td>0.088</td>\n",
       "      <td>-0.0264</td>\n",
       "      <td>116</td>\n",
       "      <td>-0.175063</td>\n",
       "      <td>-20.307340</td>\n",
       "      <td>-0.064239</td>\n",
       "      <td>153.916185</td>\n",
       "      <td>164.819320</td>\n",
       "      <td>-0.123210</td>\n",
       "    </tr>\n",
       "    <tr>\n",
       "      <th>7</th>\n",
       "      <td>0.088</td>\n",
       "      <td>-0.0528</td>\n",
       "      <td>115</td>\n",
       "      <td>2.546567</td>\n",
       "      <td>292.855240</td>\n",
       "      <td>0.776395</td>\n",
       "      <td>107.418440</td>\n",
       "      <td>241.815690</td>\n",
       "      <td>1.211068</td>\n",
       "    </tr>\n",
       "    <tr>\n",
       "      <th>8</th>\n",
       "      <td>0.088</td>\n",
       "      <td>-0.0880</td>\n",
       "      <td>115</td>\n",
       "      <td>2.355248</td>\n",
       "      <td>270.853480</td>\n",
       "      <td>0.641529</td>\n",
       "      <td>157.909365</td>\n",
       "      <td>263.369465</td>\n",
       "      <td>1.028416</td>\n",
       "    </tr>\n",
       "    <tr>\n",
       "      <th>9</th>\n",
       "      <td>0.090</td>\n",
       "      <td>-0.0270</td>\n",
       "      <td>104</td>\n",
       "      <td>1.676702</td>\n",
       "      <td>174.377000</td>\n",
       "      <td>0.607305</td>\n",
       "      <td>29.777900</td>\n",
       "      <td>119.386240</td>\n",
       "      <td>1.460612</td>\n",
       "    </tr>\n",
       "    <tr>\n",
       "      <th>10</th>\n",
       "      <td>0.090</td>\n",
       "      <td>-0.0540</td>\n",
       "      <td>103</td>\n",
       "      <td>4.291686</td>\n",
       "      <td>442.043705</td>\n",
       "      <td>1.314653</td>\n",
       "      <td>0.000000</td>\n",
       "      <td>159.145785</td>\n",
       "      <td>2.777602</td>\n",
       "    </tr>\n",
       "    <tr>\n",
       "      <th>11</th>\n",
       "      <td>0.090</td>\n",
       "      <td>-0.0900</td>\n",
       "      <td>103</td>\n",
       "      <td>4.005262</td>\n",
       "      <td>412.542000</td>\n",
       "      <td>1.068313</td>\n",
       "      <td>13.274655</td>\n",
       "      <td>179.199505</td>\n",
       "      <td>2.302138</td>\n",
       "    </tr>\n",
       "    <tr>\n",
       "      <th>12</th>\n",
       "      <td>0.092</td>\n",
       "      <td>-0.0276</td>\n",
       "      <td>91</td>\n",
       "      <td>2.551210</td>\n",
       "      <td>232.160120</td>\n",
       "      <td>0.842955</td>\n",
       "      <td>8.865925</td>\n",
       "      <td>129.562610</td>\n",
       "      <td>1.791876</td>\n",
       "    </tr>\n",
       "    <tr>\n",
       "      <th>13</th>\n",
       "      <td>0.092</td>\n",
       "      <td>-0.0552</td>\n",
       "      <td>90</td>\n",
       "      <td>3.953787</td>\n",
       "      <td>355.840795</td>\n",
       "      <td>1.169232</td>\n",
       "      <td>0.000000</td>\n",
       "      <td>149.645620</td>\n",
       "      <td>2.377890</td>\n",
       "    </tr>\n",
       "    <tr>\n",
       "      <th>14</th>\n",
       "      <td>0.092</td>\n",
       "      <td>-0.0920</td>\n",
       "      <td>90</td>\n",
       "      <td>3.714950</td>\n",
       "      <td>334.345470</td>\n",
       "      <td>0.956916</td>\n",
       "      <td>74.935625</td>\n",
       "      <td>161.144355</td>\n",
       "      <td>2.074820</td>\n",
       "    </tr>\n",
       "    <tr>\n",
       "      <th>15</th>\n",
       "      <td>0.094</td>\n",
       "      <td>-0.0282</td>\n",
       "      <td>82</td>\n",
       "      <td>3.035144</td>\n",
       "      <td>248.881845</td>\n",
       "      <td>0.918254</td>\n",
       "      <td>8.444840</td>\n",
       "      <td>115.990150</td>\n",
       "      <td>2.145715</td>\n",
       "    </tr>\n",
       "    <tr>\n",
       "      <th>16</th>\n",
       "      <td>0.094</td>\n",
       "      <td>-0.0564</td>\n",
       "      <td>81</td>\n",
       "      <td>4.167500</td>\n",
       "      <td>337.567470</td>\n",
       "      <td>1.100976</td>\n",
       "      <td>45.928800</td>\n",
       "      <td>152.644630</td>\n",
       "      <td>2.211460</td>\n",
       "    </tr>\n",
       "    <tr>\n",
       "      <th>17</th>\n",
       "      <td>0.094</td>\n",
       "      <td>-0.0940</td>\n",
       "      <td>81</td>\n",
       "      <td>4.340343</td>\n",
       "      <td>351.567800</td>\n",
       "      <td>1.019764</td>\n",
       "      <td>87.421375</td>\n",
       "      <td>173.167375</td>\n",
       "      <td>2.030220</td>\n",
       "    </tr>\n",
       "    <tr>\n",
       "      <th>18</th>\n",
       "      <td>0.096</td>\n",
       "      <td>-0.0288</td>\n",
       "      <td>72</td>\n",
       "      <td>2.242821</td>\n",
       "      <td>161.483125</td>\n",
       "      <td>0.615163</td>\n",
       "      <td>14.600150</td>\n",
       "      <td>112.310810</td>\n",
       "      <td>1.437824</td>\n",
       "    </tr>\n",
       "    <tr>\n",
       "      <th>19</th>\n",
       "      <td>0.096</td>\n",
       "      <td>-0.0576</td>\n",
       "      <td>71</td>\n",
       "      <td>3.805279</td>\n",
       "      <td>270.174800</td>\n",
       "      <td>0.906010</td>\n",
       "      <td>24.466910</td>\n",
       "      <td>138.683345</td>\n",
       "      <td>1.948142</td>\n",
       "    </tr>\n",
       "    <tr>\n",
       "      <th>20</th>\n",
       "      <td>0.096</td>\n",
       "      <td>-0.0960</td>\n",
       "      <td>71</td>\n",
       "      <td>3.594022</td>\n",
       "      <td>255.175570</td>\n",
       "      <td>0.765623</td>\n",
       "      <td>79.960805</td>\n",
       "      <td>164.706915</td>\n",
       "      <td>1.549271</td>\n",
       "    </tr>\n",
       "    <tr>\n",
       "      <th>21</th>\n",
       "      <td>0.098</td>\n",
       "      <td>-0.0294</td>\n",
       "      <td>65</td>\n",
       "      <td>2.484803</td>\n",
       "      <td>161.512185</td>\n",
       "      <td>0.613379</td>\n",
       "      <td>28.415670</td>\n",
       "      <td>139.113135</td>\n",
       "      <td>1.161013</td>\n",
       "    </tr>\n",
       "    <tr>\n",
       "      <th>22</th>\n",
       "      <td>0.098</td>\n",
       "      <td>-0.0588</td>\n",
       "      <td>64</td>\n",
       "      <td>4.182844</td>\n",
       "      <td>267.702045</td>\n",
       "      <td>0.893604</td>\n",
       "      <td>11.485170</td>\n",
       "      <td>156.186155</td>\n",
       "      <td>1.713993</td>\n",
       "    </tr>\n",
       "    <tr>\n",
       "      <th>23</th>\n",
       "      <td>0.098</td>\n",
       "      <td>-0.0980</td>\n",
       "      <td>64</td>\n",
       "      <td>4.034406</td>\n",
       "      <td>258.201990</td>\n",
       "      <td>0.772128</td>\n",
       "      <td>66.979065</td>\n",
       "      <td>157.740350</td>\n",
       "      <td>1.636880</td>\n",
       "    </tr>\n",
       "    <tr>\n",
       "      <th>24</th>\n",
       "      <td>0.100</td>\n",
       "      <td>-0.0300</td>\n",
       "      <td>59</td>\n",
       "      <td>2.137434</td>\n",
       "      <td>126.108625</td>\n",
       "      <td>0.492838</td>\n",
       "      <td>45.098300</td>\n",
       "      <td>144.860465</td>\n",
       "      <td>0.870552</td>\n",
       "    </tr>\n",
       "    <tr>\n",
       "      <th>25</th>\n",
       "      <td>0.100</td>\n",
       "      <td>-0.0600</td>\n",
       "      <td>58</td>\n",
       "      <td>3.427516</td>\n",
       "      <td>198.795900</td>\n",
       "      <td>0.700767</td>\n",
       "      <td>67.068805</td>\n",
       "      <td>158.330035</td>\n",
       "      <td>1.255579</td>\n",
       "    </tr>\n",
       "    <tr>\n",
       "      <th>26</th>\n",
       "      <td>0.100</td>\n",
       "      <td>-0.1000</td>\n",
       "      <td>58</td>\n",
       "      <td>3.117182</td>\n",
       "      <td>180.796560</td>\n",
       "      <td>0.565328</td>\n",
       "      <td>124.062535</td>\n",
       "      <td>215.323765</td>\n",
       "      <td>0.839650</td>\n",
       "    </tr>\n",
       "  </tbody>\n",
       "</table>\n",
       "</div>"
      ],
      "text/plain": [
       "     open   close  num   avg.pnl   total.pnl     sharp    drawdown  \\\n",
       "0   0.084 -0.0252  145  0.360555   52.280415  0.159443   94.303805   \n",
       "1   0.084 -0.0504  142  2.241065  318.231250  0.793378  174.406585   \n",
       "2   0.084 -0.0840  142  2.328947  330.710515  0.736439  183.408785   \n",
       "3   0.086 -0.0258  134  0.757449  101.498125  0.312260   72.455045   \n",
       "4   0.086 -0.0516  133  2.726864  362.672915  0.917747  178.411535   \n",
       "5   0.086 -0.0860  133  2.925995  389.157350  0.871548  163.409665   \n",
       "6   0.088 -0.0264  116 -0.175063  -20.307340 -0.064239  153.916185   \n",
       "7   0.088 -0.0528  115  2.546567  292.855240  0.776395  107.418440   \n",
       "8   0.088 -0.0880  115  2.355248  270.853480  0.641529  157.909365   \n",
       "9   0.090 -0.0270  104  1.676702  174.377000  0.607305   29.777900   \n",
       "10  0.090 -0.0540  103  4.291686  442.043705  1.314653    0.000000   \n",
       "11  0.090 -0.0900  103  4.005262  412.542000  1.068313   13.274655   \n",
       "12  0.092 -0.0276   91  2.551210  232.160120  0.842955    8.865925   \n",
       "13  0.092 -0.0552   90  3.953787  355.840795  1.169232    0.000000   \n",
       "14  0.092 -0.0920   90  3.714950  334.345470  0.956916   74.935625   \n",
       "15  0.094 -0.0282   82  3.035144  248.881845  0.918254    8.444840   \n",
       "16  0.094 -0.0564   81  4.167500  337.567470  1.100976   45.928800   \n",
       "17  0.094 -0.0940   81  4.340343  351.567800  1.019764   87.421375   \n",
       "18  0.096 -0.0288   72  2.242821  161.483125  0.615163   14.600150   \n",
       "19  0.096 -0.0576   71  3.805279  270.174800  0.906010   24.466910   \n",
       "20  0.096 -0.0960   71  3.594022  255.175570  0.765623   79.960805   \n",
       "21  0.098 -0.0294   65  2.484803  161.512185  0.613379   28.415670   \n",
       "22  0.098 -0.0588   64  4.182844  267.702045  0.893604   11.485170   \n",
       "23  0.098 -0.0980   64  4.034406  258.201990  0.772128   66.979065   \n",
       "24  0.100 -0.0300   59  2.137434  126.108625  0.492838   45.098300   \n",
       "25  0.100 -0.0600   58  3.427516  198.795900  0.700767   67.068805   \n",
       "26  0.100 -0.1000   58  3.117182  180.796560  0.565328  124.062535   \n",
       "\n",
       "    max.drawdown       mar  \n",
       "0     188.138155  0.277883  \n",
       "1     250.252485  1.271641  \n",
       "2     270.524800  1.222478  \n",
       "3     177.288185  0.572504  \n",
       "4     247.007100  1.468269  \n",
       "5     266.025295  1.462858  \n",
       "6     164.819320 -0.123210  \n",
       "7     241.815690  1.211068  \n",
       "8     263.369465  1.028416  \n",
       "9     119.386240  1.460612  \n",
       "10    159.145785  2.777602  \n",
       "11    179.199505  2.302138  \n",
       "12    129.562610  1.791876  \n",
       "13    149.645620  2.377890  \n",
       "14    161.144355  2.074820  \n",
       "15    115.990150  2.145715  \n",
       "16    152.644630  2.211460  \n",
       "17    173.167375  2.030220  \n",
       "18    112.310810  1.437824  \n",
       "19    138.683345  1.948142  \n",
       "20    164.706915  1.549271  \n",
       "21    139.113135  1.161013  \n",
       "22    156.186155  1.713993  \n",
       "23    157.740350  1.636880  \n",
       "24    144.860465  0.870552  \n",
       "25    158.330035  1.255579  \n",
       "26    215.323765  0.839650  "
      ]
     },
     "execution_count": 145,
     "metadata": {},
     "output_type": "execute_result"
    }
   ],
   "source": [
    "close_train_stat = get_hft_summary(close_train_result, close_thre_mat, sum(train_sample))\n",
    "close_train_stat[\"final.result\"]\n",
    "\n",
    "# open \tclose \tnum \tavg.pnl \ttotal.pnl \tsharp \tdrawdown \tmax.drawdown \tmar\n",
    "# 0 \t0.084 \t-0.0252 \t145 \t0.360555 \t52.280415 \t0.159443 \t94.303805 \t188.138155 \t0.277883\n",
    "# 1 \t0.084 \t-0.0504 \t142 \t2.241065 \t318.231250 \t0.793378 \t174.406585 \t250.252485 \t1.271641\n",
    "# 2 \t0.084 \t-0.0840 \t142 \t2.328947 \t330.710515 \t0.736439 \t183.408785 \t270.524800 \t1.222478\n",
    "# 3 \t0.086 \t-0.0258 \t134 \t0.757449 \t101.498125 \t0.312260 \t72.455045 \t177.288185 \t0.572504\n",
    "# 4 \t0.086 \t-0.0516 \t133 \t2.726864 \t362.672915 \t0.917747 \t178.411535 \t247.007100 \t1.468269\n",
    "# 5 \t0.086 \t-0.0860 \t133 \t2.925995 \t389.157350 \t0.871548 \t163.409665 \t266.025295 \t1.462858\n",
    "# 6 \t0.088 \t-0.0264 \t116 \t-0.175063 \t-20.307340 \t-0.064239 \t153.916185 \t164.819320 \t-0.123210\n",
    "# 7 \t0.088 \t-0.0528 \t115 \t2.546567 \t292.855240 \t0.776395 \t107.418440 \t241.815690 \t1.211068\n",
    "# 8 \t0.088 \t-0.0880 \t115 \t2.355248 \t270.853480 \t0.641529 \t157.909365 \t263.369465 \t1.028416\n",
    "# 9 \t0.090 \t-0.0270 \t104 \t1.676702 \t174.377000 \t0.607305 \t29.777900 \t119.386240 \t1.460612\n",
    "# 10 \t0.090 \t-0.0540 \t103 \t4.291686 \t442.043705 \t1.314653 \t0.000000 \t159.145785 \t2.777602\n",
    "# 11 \t0.090 \t-0.0900 \t103 \t4.005262 \t412.542000 \t1.068313 \t13.274655 \t179.199505 \t2.302138\n",
    "# 12 \t0.092 \t-0.0276 \t91 \t2.551210 \t232.160120 \t0.842955 \t8.865925 \t129.562610 \t1.791876\n",
    "# 13 \t0.092 \t-0.0552 \t90 \t3.953787 \t355.840795 \t1.169232 \t0.000000 \t149.645620 \t2.377890\n",
    "# 14 \t0.092 \t-0.0920 \t90 \t3.714950 \t334.345470 \t0.956916 \t74.935625 \t161.144355 \t2.074820\n",
    "# 15 \t0.094 \t-0.0282 \t82 \t3.035144 \t248.881845 \t0.918254 \t8.444840 \t115.990150 \t2.145715\n",
    "# 16 \t0.094 \t-0.0564 \t81 \t4.167500 \t337.567470 \t1.100976 \t45.928800 \t152.644630 \t2.211460\n",
    "# 17 \t0.094 \t-0.0940 \t81 \t4.340343 \t351.567800 \t1.019764 \t87.421375 \t173.167375 \t2.030220\n",
    "# 18 \t0.096 \t-0.0288 \t72 \t2.242821 \t161.483125 \t0.615163 \t14.600150 \t112.310810 \t1.437824\n",
    "# 19 \t0.096 \t-0.0576 \t71 \t3.805279 \t270.174800 \t0.906010 \t24.466910 \t138.683345 \t1.948142\n",
    "# 20 \t0.096 \t-0.0960 \t71 \t3.594022 \t255.175570 \t0.765623 \t79.960805 \t164.706915 \t1.549271\n",
    "# 21 \t0.098 \t-0.0294 \t65 \t2.484803 \t161.512185 \t0.613379 \t28.415670 \t139.113135 \t1.161013\n",
    "# 22 \t0.098 \t-0.0588 \t64 \t4.182844 \t267.702045 \t0.893604 \t11.485170 \t156.186155 \t1.713993\n",
    "# 23 \t0.098 \t-0.0980 \t64 \t4.034406 \t258.201990 \t0.772128 \t66.979065 \t157.740350 \t1.636880\n",
    "# 24 \t0.100 \t-0.0300 \t59 \t2.137434 \t126.108625 \t0.492838 \t45.098300 \t144.860465 \t0.870552\n",
    "# 25 \t0.100 \t-0.0600 \t58 \t3.427516 \t198.795900 \t0.700767 \t67.068805 \t158.330035 \t1.255579\n",
    "# 26 \t0.100 \t-0.1000 \t58 \t3.117182 \t180.796560 \t0.565328 \t124.062535 \t215.323765 \t0.839650"
   ]
  },
  {
   "cell_type": "markdown",
   "metadata": {},
   "source": [
    "- get good result\n",
    "- now we have more parameters and we can expect better result"
   ]
  },
  {
   "cell_type": "code",
   "execution_count": 154,
   "metadata": {},
   "outputs": [
    {
     "data": {
      "text/plain": [
       "1     True\n",
       "2     True\n",
       "4     True\n",
       "5     True\n",
       "7     True\n",
       "8     True\n",
       "10    True\n",
       "11    True\n",
       "12    True\n",
       "13    True\n",
       "14    True\n",
       "15    True\n",
       "16    True\n",
       "17    True\n",
       "18    True\n",
       "19    True\n",
       "20    True\n",
       "21    True\n",
       "22    True\n",
       "23    True\n",
       "24    True\n",
       "25    True\n",
       "26    True\n",
       "Name: avg.pnl, dtype: bool"
      ]
     },
     "execution_count": 154,
     "metadata": {},
     "output_type": "execute_result"
    }
   ],
   "source": [
    "close_good_train = close_train_stat[\"final.result\"][\"avg.pnl\"]>2\n",
    "close_good_train[close_good_train==True]\n",
    "# 1     True\n",
    "# 2     True\n",
    "# 4     True\n",
    "# 5     True\n",
    "# 7     True\n",
    "# 8     True\n",
    "# 10    True\n",
    "# 11    True\n",
    "# 12    True\n",
    "# 13    True\n",
    "# 14    True\n",
    "# 15    True\n",
    "# 16    True\n",
    "# 17    True\n",
    "# 18    True\n",
    "# 19    True\n",
    "# 20    True\n",
    "# 21    True\n",
    "# 22    True\n",
    "# 23    True\n",
    "# 24    True\n",
    "# 25    True\n",
    "# 26    True\n",
    "# Name: avg.pnl, dtype: bool"
   ]
  },
  {
   "cell_type": "code",
   "execution_count": 155,
   "metadata": {},
   "outputs": [
    {
     "data": {
      "text/plain": [
       "0.8457800859820561"
      ]
     },
     "execution_count": 155,
     "metadata": {},
     "output_type": "execute_result"
    }
   ],
   "source": [
    "close_good_sharp = np.mean(close_train_stat[\"final.result\"][\"sharp\"][close_good_train])\n",
    "close_good_sharp\n",
    "## 0.8457800859820561"
   ]
  },
  {
   "cell_type": "code",
   "execution_count": 156,
   "metadata": {},
   "outputs": [
    {
     "data": {
      "text/plain": [
       "12"
      ]
     },
     "execution_count": 156,
     "metadata": {},
     "output_type": "execute_result"
    }
   ],
   "source": [
    "sum(close_train_stat[\"final.result\"][\"sharp\"]>close_good_sharp)+1\n",
    "## [1] 12\n",
    "## so it ranks #12"
   ]
  },
  {
   "cell_type": "code",
   "execution_count": 149,
   "metadata": {},
   "outputs": [
    {
     "name": "stdout",
     "output_type": "stream",
     "text": [
      "Wall time: 34.5 s\n"
     ]
    }
   ],
   "source": [
    "%%time\n",
    "\n",
    "with dask.config.set(scheduler='processes', num_workers=CORE_NUM):\n",
    "    f_par = functools.partial(get_signal_pnl, product=product, signal_name=signal_name, thre_mat=close_thre_mat, reverse=-1)\n",
    "    close_test_result = compute([delayed(f_par)(file) for file in good_night_files[test_sample]])[0]"
   ]
  },
  {
   "cell_type": "code",
   "execution_count": 157,
   "metadata": {},
   "outputs": [
    {
     "data": {
      "text/html": [
       "<div>\n",
       "<style scoped>\n",
       "    .dataframe tbody tr th:only-of-type {\n",
       "        vertical-align: middle;\n",
       "    }\n",
       "\n",
       "    .dataframe tbody tr th {\n",
       "        vertical-align: top;\n",
       "    }\n",
       "\n",
       "    .dataframe thead th {\n",
       "        text-align: right;\n",
       "    }\n",
       "</style>\n",
       "<table border=\"1\" class=\"dataframe\">\n",
       "  <thead>\n",
       "    <tr style=\"text-align: right;\">\n",
       "      <th></th>\n",
       "      <th>open</th>\n",
       "      <th>close</th>\n",
       "      <th>num</th>\n",
       "      <th>avg.pnl</th>\n",
       "      <th>total.pnl</th>\n",
       "      <th>sharp</th>\n",
       "      <th>drawdown</th>\n",
       "      <th>max.drawdown</th>\n",
       "      <th>mar</th>\n",
       "    </tr>\n",
       "  </thead>\n",
       "  <tbody>\n",
       "    <tr>\n",
       "      <th>1</th>\n",
       "      <td>0.084</td>\n",
       "      <td>-0.0504</td>\n",
       "      <td>49</td>\n",
       "      <td>1.902467</td>\n",
       "      <td>93.220870</td>\n",
       "      <td>0.640090</td>\n",
       "      <td>77.084060</td>\n",
       "      <td>120.118065</td>\n",
       "      <td>0.776077</td>\n",
       "    </tr>\n",
       "    <tr>\n",
       "      <th>2</th>\n",
       "      <td>0.084</td>\n",
       "      <td>-0.0840</td>\n",
       "      <td>49</td>\n",
       "      <td>4.280014</td>\n",
       "      <td>209.720705</td>\n",
       "      <td>1.394841</td>\n",
       "      <td>87.586315</td>\n",
       "      <td>92.077015</td>\n",
       "      <td>2.277666</td>\n",
       "    </tr>\n",
       "    <tr>\n",
       "      <th>4</th>\n",
       "      <td>0.086</td>\n",
       "      <td>-0.0516</td>\n",
       "      <td>42</td>\n",
       "      <td>1.037610</td>\n",
       "      <td>43.579610</td>\n",
       "      <td>0.336635</td>\n",
       "      <td>64.565410</td>\n",
       "      <td>128.449845</td>\n",
       "      <td>0.339273</td>\n",
       "    </tr>\n",
       "    <tr>\n",
       "      <th>5</th>\n",
       "      <td>0.086</td>\n",
       "      <td>-0.0860</td>\n",
       "      <td>42</td>\n",
       "      <td>3.430523</td>\n",
       "      <td>144.081975</td>\n",
       "      <td>1.059728</td>\n",
       "      <td>64.565410</td>\n",
       "      <td>89.115520</td>\n",
       "      <td>1.616800</td>\n",
       "    </tr>\n",
       "    <tr>\n",
       "      <th>7</th>\n",
       "      <td>0.088</td>\n",
       "      <td>-0.0528</td>\n",
       "      <td>39</td>\n",
       "      <td>2.386455</td>\n",
       "      <td>93.071760</td>\n",
       "      <td>0.715793</td>\n",
       "      <td>28.537575</td>\n",
       "      <td>118.011385</td>\n",
       "      <td>0.788668</td>\n",
       "    </tr>\n",
       "    <tr>\n",
       "      <th>8</th>\n",
       "      <td>0.088</td>\n",
       "      <td>-0.0880</td>\n",
       "      <td>39</td>\n",
       "      <td>5.040342</td>\n",
       "      <td>196.573355</td>\n",
       "      <td>1.449788</td>\n",
       "      <td>28.537575</td>\n",
       "      <td>82.676730</td>\n",
       "      <td>2.377614</td>\n",
       "    </tr>\n",
       "    <tr>\n",
       "      <th>10</th>\n",
       "      <td>0.090</td>\n",
       "      <td>-0.0540</td>\n",
       "      <td>35</td>\n",
       "      <td>3.268845</td>\n",
       "      <td>114.409585</td>\n",
       "      <td>0.901589</td>\n",
       "      <td>29.537685</td>\n",
       "      <td>116.022270</td>\n",
       "      <td>0.986100</td>\n",
       "    </tr>\n",
       "    <tr>\n",
       "      <th>11</th>\n",
       "      <td>0.090</td>\n",
       "      <td>-0.0900</td>\n",
       "      <td>35</td>\n",
       "      <td>5.454567</td>\n",
       "      <td>190.909860</td>\n",
       "      <td>1.414156</td>\n",
       "      <td>29.537685</td>\n",
       "      <td>91.520235</td>\n",
       "      <td>2.085985</td>\n",
       "    </tr>\n",
       "    <tr>\n",
       "      <th>12</th>\n",
       "      <td>0.092</td>\n",
       "      <td>-0.0276</td>\n",
       "      <td>31</td>\n",
       "      <td>1.829934</td>\n",
       "      <td>56.727940</td>\n",
       "      <td>0.592244</td>\n",
       "      <td>44.961960</td>\n",
       "      <td>60.326705</td>\n",
       "      <td>0.940345</td>\n",
       "    </tr>\n",
       "    <tr>\n",
       "      <th>13</th>\n",
       "      <td>0.092</td>\n",
       "      <td>-0.0552</td>\n",
       "      <td>30</td>\n",
       "      <td>2.556832</td>\n",
       "      <td>76.704955</td>\n",
       "      <td>0.706318</td>\n",
       "      <td>27.037410</td>\n",
       "      <td>80.090465</td>\n",
       "      <td>0.957729</td>\n",
       "    </tr>\n",
       "    <tr>\n",
       "      <th>14</th>\n",
       "      <td>0.092</td>\n",
       "      <td>-0.0920</td>\n",
       "      <td>30</td>\n",
       "      <td>5.123509</td>\n",
       "      <td>153.705285</td>\n",
       "      <td>1.299974</td>\n",
       "      <td>27.037410</td>\n",
       "      <td>54.588540</td>\n",
       "      <td>2.815706</td>\n",
       "    </tr>\n",
       "    <tr>\n",
       "      <th>15</th>\n",
       "      <td>0.094</td>\n",
       "      <td>-0.0282</td>\n",
       "      <td>28</td>\n",
       "      <td>1.678594</td>\n",
       "      <td>47.000640</td>\n",
       "      <td>0.507947</td>\n",
       "      <td>52.937325</td>\n",
       "      <td>57.428025</td>\n",
       "      <td>0.818427</td>\n",
       "    </tr>\n",
       "    <tr>\n",
       "      <th>16</th>\n",
       "      <td>0.094</td>\n",
       "      <td>-0.0564</td>\n",
       "      <td>27</td>\n",
       "      <td>2.443560</td>\n",
       "      <td>65.976115</td>\n",
       "      <td>0.626929</td>\n",
       "      <td>34.820850</td>\n",
       "      <td>54.703375</td>\n",
       "      <td>1.206070</td>\n",
       "    </tr>\n",
       "    <tr>\n",
       "      <th>17</th>\n",
       "      <td>0.094</td>\n",
       "      <td>-0.0940</td>\n",
       "      <td>27</td>\n",
       "      <td>4.591647</td>\n",
       "      <td>123.974465</td>\n",
       "      <td>1.105833</td>\n",
       "      <td>34.820850</td>\n",
       "      <td>42.307800</td>\n",
       "      <td>2.930298</td>\n",
       "    </tr>\n",
       "    <tr>\n",
       "      <th>18</th>\n",
       "      <td>0.096</td>\n",
       "      <td>-0.0288</td>\n",
       "      <td>22</td>\n",
       "      <td>0.996485</td>\n",
       "      <td>21.922680</td>\n",
       "      <td>0.242399</td>\n",
       "      <td>56.927860</td>\n",
       "      <td>56.927860</td>\n",
       "      <td>0.385096</td>\n",
       "    </tr>\n",
       "    <tr>\n",
       "      <th>19</th>\n",
       "      <td>0.096</td>\n",
       "      <td>-0.0576</td>\n",
       "      <td>22</td>\n",
       "      <td>1.518885</td>\n",
       "      <td>33.415475</td>\n",
       "      <td>0.349158</td>\n",
       "      <td>52.498470</td>\n",
       "      <td>55.994775</td>\n",
       "      <td>0.596761</td>\n",
       "    </tr>\n",
       "    <tr>\n",
       "      <th>20</th>\n",
       "      <td>0.096</td>\n",
       "      <td>-0.0960</td>\n",
       "      <td>22</td>\n",
       "      <td>4.109724</td>\n",
       "      <td>90.413935</td>\n",
       "      <td>0.872036</td>\n",
       "      <td>33.930390</td>\n",
       "      <td>37.426695</td>\n",
       "      <td>2.415761</td>\n",
       "    </tr>\n",
       "    <tr>\n",
       "      <th>21</th>\n",
       "      <td>0.098</td>\n",
       "      <td>-0.0294</td>\n",
       "      <td>21</td>\n",
       "      <td>0.207836</td>\n",
       "      <td>4.364550</td>\n",
       "      <td>0.051200</td>\n",
       "      <td>54.427695</td>\n",
       "      <td>54.427695</td>\n",
       "      <td>0.080190</td>\n",
       "    </tr>\n",
       "    <tr>\n",
       "      <th>22</th>\n",
       "      <td>0.098</td>\n",
       "      <td>-0.0588</td>\n",
       "      <td>21</td>\n",
       "      <td>0.778940</td>\n",
       "      <td>16.357730</td>\n",
       "      <td>0.177410</td>\n",
       "      <td>70.056050</td>\n",
       "      <td>75.052520</td>\n",
       "      <td>0.217950</td>\n",
       "    </tr>\n",
       "    <tr>\n",
       "      <th>23</th>\n",
       "      <td>0.098</td>\n",
       "      <td>-0.0980</td>\n",
       "      <td>21</td>\n",
       "      <td>3.421731</td>\n",
       "      <td>71.856355</td>\n",
       "      <td>0.715605</td>\n",
       "      <td>46.553905</td>\n",
       "      <td>51.550375</td>\n",
       "      <td>1.393906</td>\n",
       "    </tr>\n",
       "    <tr>\n",
       "      <th>24</th>\n",
       "      <td>0.100</td>\n",
       "      <td>-0.0300</td>\n",
       "      <td>19</td>\n",
       "      <td>1.779749</td>\n",
       "      <td>33.815225</td>\n",
       "      <td>0.450550</td>\n",
       "      <td>27.102900</td>\n",
       "      <td>44.846135</td>\n",
       "      <td>0.754028</td>\n",
       "    </tr>\n",
       "    <tr>\n",
       "      <th>25</th>\n",
       "      <td>0.100</td>\n",
       "      <td>-0.0600</td>\n",
       "      <td>19</td>\n",
       "      <td>3.147724</td>\n",
       "      <td>59.806755</td>\n",
       "      <td>0.699389</td>\n",
       "      <td>35.607575</td>\n",
       "      <td>70.631990</td>\n",
       "      <td>0.846738</td>\n",
       "    </tr>\n",
       "    <tr>\n",
       "      <th>26</th>\n",
       "      <td>0.100</td>\n",
       "      <td>-0.1000</td>\n",
       "      <td>19</td>\n",
       "      <td>5.963453</td>\n",
       "      <td>113.305600</td>\n",
       "      <td>1.207885</td>\n",
       "      <td>12.105430</td>\n",
       "      <td>47.129845</td>\n",
       "      <td>2.404116</td>\n",
       "    </tr>\n",
       "  </tbody>\n",
       "</table>\n",
       "</div>"
      ],
      "text/plain": [
       "     open   close  num   avg.pnl   total.pnl     sharp   drawdown  \\\n",
       "1   0.084 -0.0504   49  1.902467   93.220870  0.640090  77.084060   \n",
       "2   0.084 -0.0840   49  4.280014  209.720705  1.394841  87.586315   \n",
       "4   0.086 -0.0516   42  1.037610   43.579610  0.336635  64.565410   \n",
       "5   0.086 -0.0860   42  3.430523  144.081975  1.059728  64.565410   \n",
       "7   0.088 -0.0528   39  2.386455   93.071760  0.715793  28.537575   \n",
       "8   0.088 -0.0880   39  5.040342  196.573355  1.449788  28.537575   \n",
       "10  0.090 -0.0540   35  3.268845  114.409585  0.901589  29.537685   \n",
       "11  0.090 -0.0900   35  5.454567  190.909860  1.414156  29.537685   \n",
       "12  0.092 -0.0276   31  1.829934   56.727940  0.592244  44.961960   \n",
       "13  0.092 -0.0552   30  2.556832   76.704955  0.706318  27.037410   \n",
       "14  0.092 -0.0920   30  5.123509  153.705285  1.299974  27.037410   \n",
       "15  0.094 -0.0282   28  1.678594   47.000640  0.507947  52.937325   \n",
       "16  0.094 -0.0564   27  2.443560   65.976115  0.626929  34.820850   \n",
       "17  0.094 -0.0940   27  4.591647  123.974465  1.105833  34.820850   \n",
       "18  0.096 -0.0288   22  0.996485   21.922680  0.242399  56.927860   \n",
       "19  0.096 -0.0576   22  1.518885   33.415475  0.349158  52.498470   \n",
       "20  0.096 -0.0960   22  4.109724   90.413935  0.872036  33.930390   \n",
       "21  0.098 -0.0294   21  0.207836    4.364550  0.051200  54.427695   \n",
       "22  0.098 -0.0588   21  0.778940   16.357730  0.177410  70.056050   \n",
       "23  0.098 -0.0980   21  3.421731   71.856355  0.715605  46.553905   \n",
       "24  0.100 -0.0300   19  1.779749   33.815225  0.450550  27.102900   \n",
       "25  0.100 -0.0600   19  3.147724   59.806755  0.699389  35.607575   \n",
       "26  0.100 -0.1000   19  5.963453  113.305600  1.207885  12.105430   \n",
       "\n",
       "    max.drawdown       mar  \n",
       "1     120.118065  0.776077  \n",
       "2      92.077015  2.277666  \n",
       "4     128.449845  0.339273  \n",
       "5      89.115520  1.616800  \n",
       "7     118.011385  0.788668  \n",
       "8      82.676730  2.377614  \n",
       "10    116.022270  0.986100  \n",
       "11     91.520235  2.085985  \n",
       "12     60.326705  0.940345  \n",
       "13     80.090465  0.957729  \n",
       "14     54.588540  2.815706  \n",
       "15     57.428025  0.818427  \n",
       "16     54.703375  1.206070  \n",
       "17     42.307800  2.930298  \n",
       "18     56.927860  0.385096  \n",
       "19     55.994775  0.596761  \n",
       "20     37.426695  2.415761  \n",
       "21     54.427695  0.080190  \n",
       "22     75.052520  0.217950  \n",
       "23     51.550375  1.393906  \n",
       "24     44.846135  0.754028  \n",
       "25     70.631990  0.846738  \n",
       "26     47.129845  2.404116  "
      ]
     },
     "execution_count": 157,
     "metadata": {},
     "output_type": "execute_result"
    }
   ],
   "source": [
    "close_test_stat = get_hft_summary(close_test_result, close_thre_mat, sum(test_sample))\n",
    "close_test_stat[\"final.result\"][close_good_train]\n",
    "\n",
    "# open \tclose \tnum \tavg.pnl \ttotal.pnl \tsharp \tdrawdown \tmax.drawdown \tmar\n",
    "# 1 \t0.084 \t-0.0504 \t49 \t1.902467 \t93.220870 \t0.640090 \t77.084060 \t120.118065 \t0.776077\n",
    "# 2 \t0.084 \t-0.0840 \t49 \t4.280014 \t209.720705 \t1.394841 \t87.586315 \t92.077015 \t2.277666\n",
    "# 4 \t0.086 \t-0.0516 \t42 \t1.037610 \t43.579610 \t0.336635 \t64.565410 \t128.449845 \t0.339273\n",
    "# 5 \t0.086 \t-0.0860 \t42 \t3.430523 \t144.081975 \t1.059728 \t64.565410 \t89.115520 \t1.616800\n",
    "# 7 \t0.088 \t-0.0528 \t39 \t2.386455 \t93.071760 \t0.715793 \t28.537575 \t118.011385 \t0.788668\n",
    "# 8 \t0.088 \t-0.0880 \t39 \t5.040342 \t196.573355 \t1.449788 \t28.537575 \t82.676730 \t2.377614\n",
    "# 10 \t0.090 \t-0.0540 \t35 \t3.268845 \t114.409585 \t0.901589 \t29.537685 \t116.022270 \t0.986100\n",
    "# 11 \t0.090 \t-0.0900 \t35 \t5.454567 \t190.909860 \t1.414156 \t29.537685 \t91.520235 \t2.085985\n",
    "# 12 \t0.092 \t-0.0276 \t31 \t1.829934 \t56.727940 \t0.592244 \t44.961960 \t60.326705 \t0.940345\n",
    "# 13 \t0.092 \t-0.0552 \t30 \t2.556832 \t76.704955 \t0.706318 \t27.037410 \t80.090465 \t0.957729\n",
    "# 14 \t0.092 \t-0.0920 \t30 \t5.123509 \t153.705285 \t1.299974 \t27.037410 \t54.588540 \t2.815706\n",
    "# 15 \t0.094 \t-0.0282 \t28 \t1.678594 \t47.000640 \t0.507947 \t52.937325 \t57.428025 \t0.818427\n",
    "# 16 \t0.094 \t-0.0564 \t27 \t2.443560 \t65.976115 \t0.626929 \t34.820850 \t54.703375 \t1.206070\n",
    "# 17 \t0.094 \t-0.0940 \t27 \t4.591647 \t123.974465 \t1.105833 \t34.820850 \t42.307800 \t2.930298\n",
    "# 18 \t0.096 \t-0.0288 \t22 \t0.996485 \t21.922680 \t0.242399 \t56.927860 \t56.927860 \t0.385096\n",
    "# 19 \t0.096 \t-0.0576 \t22 \t1.518885 \t33.415475 \t0.349158 \t52.498470 \t55.994775 \t0.596761\n",
    "# 20 \t0.096 \t-0.0960 \t22 \t4.109724 \t90.413935 \t0.872036 \t33.930390 \t37.426695 \t2.415761\n",
    "# 21 \t0.098 \t-0.0294 \t21 \t0.207836 \t4.364550 \t0.051200 \t54.427695 \t54.427695 \t0.080190\n",
    "# 22 \t0.098 \t-0.0588 \t21 \t0.778940 \t16.357730 \t0.177410 \t70.056050 \t75.052520 \t0.217950\n",
    "# 23 \t0.098 \t-0.0980 \t21 \t3.421731 \t71.856355 \t0.715605 \t46.553905 \t51.550375 \t1.393906\n",
    "# 24 \t0.100 \t-0.0300 \t19 \t1.779749 \t33.815225 \t0.450550 \t27.102900 \t44.846135 \t0.754028\n",
    "# 25 \t0.100 \t-0.0600 \t19 \t3.147724 \t59.806755 \t0.699389 \t35.607575 \t70.631990 \t0.846738\n",
    "# 26 \t0.100 \t-0.1000 \t19 \t5.963453 \t113.305600 \t1.207885 \t12.105430 \t47.129845 \t2.404116"
   ]
  },
  {
   "cell_type": "code",
   "execution_count": 158,
   "metadata": {},
   "outputs": [
    {
     "data": {
      "text/plain": [
       "0.7616302553075371"
      ]
     },
     "execution_count": 158,
     "metadata": {},
     "output_type": "execute_result"
    }
   ],
   "source": [
    "close_test_sharp = np.mean(close_test_stat[\"final.result\"][\"sharp\"][close_good_train])\n",
    "close_test_sharp\n",
    "## 0.7616302553075371"
   ]
  },
  {
   "cell_type": "code",
   "execution_count": 159,
   "metadata": {},
   "outputs": [
    {
     "data": {
      "text/plain": [
       "13"
      ]
     },
     "execution_count": 159,
     "metadata": {},
     "output_type": "execute_result"
    }
   ],
   "source": [
    "sum(close_test_stat[\"final.result\"][\"sharp\"]>close_test_sharp)+1\n",
    "##[1] 13"
   ]
  },
  {
   "cell_type": "markdown",
   "metadata": {},
   "source": [
    "- let's check the average pnl"
   ]
  },
  {
   "cell_type": "code",
   "execution_count": 160,
   "metadata": {},
   "outputs": [
    {
     "data": {
      "text/plain": [
       "2.9108446590984376"
      ]
     },
     "execution_count": 160,
     "metadata": {},
     "output_type": "execute_result"
    }
   ],
   "source": [
    "np.mean(close_test_stat[\"final.result\"][\"avg.pnl\"][close_good_train])\n",
    "## 2.9108446590984376\n",
    "## it's worse than before"
   ]
  },
  {
   "cell_type": "markdown",
   "metadata": {},
   "source": [
    "- we can see that for j with close threshold the result the result is worse\n",
    "- now we know that with more parameters, we can get better in-sample result, but for out-of-sample it may not be as good"
   ]
  },
  {
   "cell_type": "markdown",
   "metadata": {},
   "source": [
    "- HOMEWORK:\n",
    "- 1. change period to 1024 and 4096, repeat the process above\n",
    "- 2. you only need to use thre fixed threshold rather than the quantile ones\n",
    "- 3. you can define the values of the thre.mat by yourself\n",
    "- 4. run result for open=close and open!=close\n",
    "- 5. detailed format of output to be told, but you just need to give me an .RData which contains all the table\n",
    "\n",
    "\n",
    "- Good luck"
   ]
  },
  {
   "cell_type": "code",
   "execution_count": null,
   "metadata": {},
   "outputs": [],
   "source": []
  },
  {
   "cell_type": "code",
   "execution_count": null,
   "metadata": {},
   "outputs": [],
   "source": []
  },
  {
   "cell_type": "code",
   "execution_count": null,
   "metadata": {},
   "outputs": [],
   "source": []
  }
 ],
 "metadata": {
  "kernelspec": {
   "display_name": "Python 3",
   "language": "python",
   "name": "python3"
  },
  "language_info": {
   "codemirror_mode": {
    "name": "ipython",
    "version": 3
   },
   "file_extension": ".py",
   "mimetype": "text/x-python",
   "name": "python",
   "nbconvert_exporter": "python",
   "pygments_lexer": "ipython3",
   "version": "3.7.0"
  }
 },
 "nbformat": 4,
 "nbformat_minor": 2
}
